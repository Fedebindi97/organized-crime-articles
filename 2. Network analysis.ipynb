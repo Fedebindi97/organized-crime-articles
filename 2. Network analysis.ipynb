{
 "cells": [
  {
   "cell_type": "markdown",
   "id": "d3631259",
   "metadata": {},
   "source": [
    "# Packages"
   ]
  },
  {
   "cell_type": "code",
   "execution_count": 26,
   "id": "30afc9c7",
   "metadata": {},
   "outputs": [],
   "source": [
    "import pandas as pd\n",
    "import numpy as np\n",
    "import itertools\n",
    "import networkx as nx\n",
    "import pyvis\n",
    "import igraph as ig\n",
    "import matplotlib.pyplot as plt\n",
    "import plotly.graph_objs as go"
   ]
  },
  {
   "cell_type": "markdown",
   "id": "c9e4a516",
   "metadata": {},
   "source": [
    "# Individuals"
   ]
  },
  {
   "cell_type": "markdown",
   "id": "041ac829",
   "metadata": {},
   "source": [
    "## Network preparation"
   ]
  },
  {
   "cell_type": "code",
   "execution_count": 4,
   "id": "c34fe8af",
   "metadata": {},
   "outputs": [],
   "source": [
    "df_individuals = pd.read_csv('_raw/Individuals.csv')"
   ]
  },
  {
   "cell_type": "code",
   "execution_count": 5,
   "id": "3e661071",
   "metadata": {},
   "outputs": [],
   "source": [
    "df_articles = pd.read_csv('_raw/Articles.csv')"
   ]
  },
  {
   "cell_type": "code",
   "execution_count": 6,
   "id": "25689121",
   "metadata": {},
   "outputs": [
    {
     "data": {
      "text/html": [
       "<div>\n",
       "<style scoped>\n",
       "    .dataframe tbody tr th:only-of-type {\n",
       "        vertical-align: middle;\n",
       "    }\n",
       "\n",
       "    .dataframe tbody tr th {\n",
       "        vertical-align: top;\n",
       "    }\n",
       "\n",
       "    .dataframe thead th {\n",
       "        text-align: right;\n",
       "    }\n",
       "</style>\n",
       "<table border=\"1\" class=\"dataframe\">\n",
       "  <thead>\n",
       "    <tr style=\"text-align: right;\">\n",
       "      <th></th>\n",
       "      <th>text</th>\n",
       "      <th>lang</th>\n",
       "    </tr>\n",
       "  </thead>\n",
       "  <tbody>\n",
       "    <tr>\n",
       "      <th>0</th>\n",
       "      <td>EPL Muscles in on El Naya Drug Corridor in Wes...</td>\n",
       "      <td>en</td>\n",
       "    </tr>\n",
       "    <tr>\n",
       "      <th>1</th>\n",
       "      <td>Campaign Group Warns of Dangers for Colombia E...</td>\n",
       "      <td>en</td>\n",
       "    </tr>\n",
       "    <tr>\n",
       "      <th>2</th>\n",
       "      <td>InSight: Report Tracks How Intra-Cartel Wars E...</td>\n",
       "      <td>en</td>\n",
       "    </tr>\n",
       "    <tr>\n",
       "      <th>3</th>\n",
       "      <td>Colombia Cocaine Production Breaks New Record ...</td>\n",
       "      <td>en</td>\n",
       "    </tr>\n",
       "    <tr>\n",
       "      <th>4</th>\n",
       "      <td>US Marijuana Vote Unlikely to Impact Mexico in...</td>\n",
       "      <td>en</td>\n",
       "    </tr>\n",
       "    <tr>\n",
       "      <th>...</th>\n",
       "      <td>...</td>\n",
       "      <td>...</td>\n",
       "    </tr>\n",
       "    <tr>\n",
       "      <th>19935</th>\n",
       "      <td>Presencia de pandillas en Tegucigalpa. La exto...</td>\n",
       "      <td>es</td>\n",
       "    </tr>\n",
       "    <tr>\n",
       "      <th>19936</th>\n",
       "      <td>Pandillas callejeras. Las conocidas pandillas ...</td>\n",
       "      <td>es</td>\n",
       "    </tr>\n",
       "    <tr>\n",
       "      <th>19937</th>\n",
       "      <td>Imitadores. Mediante la violencia, la Mara Sal...</td>\n",
       "      <td>es</td>\n",
       "    </tr>\n",
       "    <tr>\n",
       "      <th>19938</th>\n",
       "      <td>ABC de la extorsión 3: El modus operandi. Un t...</td>\n",
       "      <td>es</td>\n",
       "    </tr>\n",
       "    <tr>\n",
       "      <th>19939</th>\n",
       "      <td>Presencia de pandillas en San Pedro Sula. San ...</td>\n",
       "      <td>es</td>\n",
       "    </tr>\n",
       "  </tbody>\n",
       "</table>\n",
       "<p>19940 rows × 2 columns</p>\n",
       "</div>"
      ],
      "text/plain": [
       "                                                    text lang\n",
       "0      EPL Muscles in on El Naya Drug Corridor in Wes...   en\n",
       "1      Campaign Group Warns of Dangers for Colombia E...   en\n",
       "2      InSight: Report Tracks How Intra-Cartel Wars E...   en\n",
       "3      Colombia Cocaine Production Breaks New Record ...   en\n",
       "4      US Marijuana Vote Unlikely to Impact Mexico in...   en\n",
       "...                                                  ...  ...\n",
       "19935  Presencia de pandillas en Tegucigalpa. La exto...   es\n",
       "19936  Pandillas callejeras. Las conocidas pandillas ...   es\n",
       "19937  Imitadores. Mediante la violencia, la Mara Sal...   es\n",
       "19938  ABC de la extorsión 3: El modus operandi. Un t...   es\n",
       "19939  Presencia de pandillas en San Pedro Sula. San ...   es\n",
       "\n",
       "[19940 rows x 2 columns]"
      ]
     },
     "execution_count": 6,
     "metadata": {},
     "output_type": "execute_result"
    }
   ],
   "source": [
    "df_articles"
   ]
  },
  {
   "cell_type": "code",
   "execution_count": 7,
   "id": "95fe58c7",
   "metadata": {
    "scrolled": false
   },
   "outputs": [
    {
     "data": {
      "text/html": [
       "<div>\n",
       "<style scoped>\n",
       "    .dataframe tbody tr th:only-of-type {\n",
       "        vertical-align: middle;\n",
       "    }\n",
       "\n",
       "    .dataframe tbody tr th {\n",
       "        vertical-align: top;\n",
       "    }\n",
       "\n",
       "    .dataframe thead th {\n",
       "        text-align: right;\n",
       "    }\n",
       "</style>\n",
       "<table border=\"1\" class=\"dataframe\">\n",
       "  <thead>\n",
       "    <tr style=\"text-align: right;\">\n",
       "      <th></th>\n",
       "      <th>name</th>\n",
       "      <th>alias_1</th>\n",
       "      <th>alias_2</th>\n",
       "      <th>first_name</th>\n",
       "      <th>family_name</th>\n",
       "    </tr>\n",
       "  </thead>\n",
       "  <tbody>\n",
       "    <tr>\n",
       "      <th>0</th>\n",
       "      <td>Héctor Rusthenford Guerrero Flores</td>\n",
       "      <td>Niño Guerrero</td>\n",
       "      <td>NaN</td>\n",
       "      <td>Héctor Rusthenford</td>\n",
       "      <td>Guerrero Flores</td>\n",
       "    </tr>\n",
       "    <tr>\n",
       "      <th>1</th>\n",
       "      <td>Hermágoras González Polanco</td>\n",
       "      <td>Gordito González</td>\n",
       "      <td>NaN</td>\n",
       "      <td>Hermágoras</td>\n",
       "      <td>González Polanco</td>\n",
       "    </tr>\n",
       "    <tr>\n",
       "      <th>2</th>\n",
       "      <td>Yeico Masacre</td>\n",
       "      <td>NaN</td>\n",
       "      <td>NaN</td>\n",
       "      <td>Yeico</td>\n",
       "      <td>Masacre</td>\n",
       "    </tr>\n",
       "    <tr>\n",
       "      <th>3</th>\n",
       "      <td>Genaro García Luna</td>\n",
       "      <td>NaN</td>\n",
       "      <td>NaN</td>\n",
       "      <td>Genaro</td>\n",
       "      <td>García Luna</td>\n",
       "    </tr>\n",
       "    <tr>\n",
       "      <th>4</th>\n",
       "      <td>Gilberto Rodríguez Orejuela</td>\n",
       "      <td>The Chess Player</td>\n",
       "      <td>NaN</td>\n",
       "      <td>Gilberto</td>\n",
       "      <td>Rodríguez Orejuela</td>\n",
       "    </tr>\n",
       "    <tr>\n",
       "      <th>...</th>\n",
       "      <td>...</td>\n",
       "      <td>...</td>\n",
       "      <td>...</td>\n",
       "      <td>...</td>\n",
       "      <td>...</td>\n",
       "    </tr>\n",
       "    <tr>\n",
       "      <th>86</th>\n",
       "      <td>Miguel Angel Treviño Morales</td>\n",
       "      <td>Z40</td>\n",
       "      <td>NaN</td>\n",
       "      <td>Miguel Angel</td>\n",
       "      <td>Treviño Morales</td>\n",
       "    </tr>\n",
       "    <tr>\n",
       "      <th>87</th>\n",
       "      <td>Diego Perez Henao</td>\n",
       "      <td>Diego Rastrojo</td>\n",
       "      <td>NaN</td>\n",
       "      <td>Diego</td>\n",
       "      <td>Perez Henao</td>\n",
       "    </tr>\n",
       "    <tr>\n",
       "      <th>88</th>\n",
       "      <td>Luis E. Calle Serna</td>\n",
       "      <td>NaN</td>\n",
       "      <td>NaN</td>\n",
       "      <td>Luis Enrique</td>\n",
       "      <td>Calle Serna</td>\n",
       "    </tr>\n",
       "    <tr>\n",
       "      <th>89</th>\n",
       "      <td>Javier Antonio Calle Serna</td>\n",
       "      <td>Comba</td>\n",
       "      <td>NaN</td>\n",
       "      <td>Javier Antonio</td>\n",
       "      <td>Calle Serna</td>\n",
       "    </tr>\n",
       "    <tr>\n",
       "      <th>90</th>\n",
       "      <td>Guillermo Leon Saenz Vargas</td>\n",
       "      <td>Alfonso Cano</td>\n",
       "      <td>NaN</td>\n",
       "      <td>Guillermo Leon</td>\n",
       "      <td>Saenz Vargas</td>\n",
       "    </tr>\n",
       "  </tbody>\n",
       "</table>\n",
       "<p>91 rows × 5 columns</p>\n",
       "</div>"
      ],
      "text/plain": [
       "                                  name           alias_1 alias_2  \\\n",
       "0   Héctor Rusthenford Guerrero Flores     Niño Guerrero     NaN   \n",
       "1          Hermágoras González Polanco  Gordito González     NaN   \n",
       "2                        Yeico Masacre               NaN     NaN   \n",
       "3                   Genaro García Luna               NaN     NaN   \n",
       "4          Gilberto Rodríguez Orejuela  The Chess Player     NaN   \n",
       "..                                 ...               ...     ...   \n",
       "86        Miguel Angel Treviño Morales               Z40     NaN   \n",
       "87                   Diego Perez Henao    Diego Rastrojo     NaN   \n",
       "88                 Luis E. Calle Serna               NaN     NaN   \n",
       "89          Javier Antonio Calle Serna             Comba     NaN   \n",
       "90         Guillermo Leon Saenz Vargas      Alfonso Cano     NaN   \n",
       "\n",
       "            first_name         family_name  \n",
       "0   Héctor Rusthenford     Guerrero Flores  \n",
       "1           Hermágoras    González Polanco  \n",
       "2                Yeico             Masacre  \n",
       "3               Genaro         García Luna  \n",
       "4             Gilberto  Rodríguez Orejuela  \n",
       "..                 ...                 ...  \n",
       "86        Miguel Angel     Treviño Morales  \n",
       "87               Diego         Perez Henao  \n",
       "88        Luis Enrique         Calle Serna  \n",
       "89      Javier Antonio         Calle Serna  \n",
       "90      Guillermo Leon        Saenz Vargas  \n",
       "\n",
       "[91 rows x 5 columns]"
      ]
     },
     "execution_count": 7,
     "metadata": {},
     "output_type": "execute_result"
    }
   ],
   "source": [
    "df_individuals"
   ]
  },
  {
   "cell_type": "markdown",
   "id": "5e595fb9",
   "metadata": {},
   "source": [
    "\"Úsuga\" and \"Calle Serna\" are duplicated family names (2 copies each). Both the two \"Úsuga\" and the two \"Calle Serna\" are brothers. Hence, for them the search term will be the whole name, while for other criminals it will just be the family name."
   ]
  },
  {
   "cell_type": "code",
   "execution_count": 8,
   "id": "67f21f60",
   "metadata": {},
   "outputs": [],
   "source": [
    "df_individuals['search_term'] = np.where((df_individuals.family_name==\"Úsuga\") | (df_individuals.family_name==\"Calle Serna\"),df_individuals.first_name+' '+df_individuals.family_name,df_individuals.family_name)"
   ]
  },
  {
   "cell_type": "markdown",
   "id": "59354631",
   "metadata": {},
   "source": [
    "Network creation"
   ]
  },
  {
   "cell_type": "code",
   "execution_count": 9,
   "id": "6b5245ca",
   "metadata": {},
   "outputs": [],
   "source": [
    "dict_individuals = dict(zip(df_individuals.name,df_individuals.search_term))"
   ]
  },
  {
   "cell_type": "code",
   "execution_count": 10,
   "id": "3f4cf852",
   "metadata": {},
   "outputs": [],
   "source": [
    "value_combinations = list(itertools.combinations(df_individuals.name.values, 2))\n",
    "df_connections = pd.DataFrame(value_combinations, columns=['ind_1','ind_2'])\n",
    "df_connections['weight'] = 0\n",
    "df_connections.reset_index(drop=True, inplace=True)"
   ]
  },
  {
   "cell_type": "code",
   "execution_count": 11,
   "id": "f9df1b24",
   "metadata": {},
   "outputs": [
    {
     "data": {
      "text/html": [
       "<div>\n",
       "<style scoped>\n",
       "    .dataframe tbody tr th:only-of-type {\n",
       "        vertical-align: middle;\n",
       "    }\n",
       "\n",
       "    .dataframe tbody tr th {\n",
       "        vertical-align: top;\n",
       "    }\n",
       "\n",
       "    .dataframe thead th {\n",
       "        text-align: right;\n",
       "    }\n",
       "</style>\n",
       "<table border=\"1\" class=\"dataframe\">\n",
       "  <thead>\n",
       "    <tr style=\"text-align: right;\">\n",
       "      <th></th>\n",
       "      <th>ind_1</th>\n",
       "      <th>ind_2</th>\n",
       "      <th>weight</th>\n",
       "    </tr>\n",
       "  </thead>\n",
       "  <tbody>\n",
       "    <tr>\n",
       "      <th>0</th>\n",
       "      <td>Héctor Rusthenford Guerrero Flores</td>\n",
       "      <td>Hermágoras González Polanco</td>\n",
       "      <td>0</td>\n",
       "    </tr>\n",
       "    <tr>\n",
       "      <th>1</th>\n",
       "      <td>Héctor Rusthenford Guerrero Flores</td>\n",
       "      <td>Yeico Masacre</td>\n",
       "      <td>0</td>\n",
       "    </tr>\n",
       "    <tr>\n",
       "      <th>2</th>\n",
       "      <td>Héctor Rusthenford Guerrero Flores</td>\n",
       "      <td>Genaro García Luna</td>\n",
       "      <td>0</td>\n",
       "    </tr>\n",
       "    <tr>\n",
       "      <th>3</th>\n",
       "      <td>Héctor Rusthenford Guerrero Flores</td>\n",
       "      <td>Gilberto Rodríguez Orejuela</td>\n",
       "      <td>0</td>\n",
       "    </tr>\n",
       "    <tr>\n",
       "      <th>4</th>\n",
       "      <td>Héctor Rusthenford Guerrero Flores</td>\n",
       "      <td>Jobanis de Jesús Ávila Villadiego</td>\n",
       "      <td>0</td>\n",
       "    </tr>\n",
       "    <tr>\n",
       "      <th>...</th>\n",
       "      <td>...</td>\n",
       "      <td>...</td>\n",
       "      <td>...</td>\n",
       "    </tr>\n",
       "    <tr>\n",
       "      <th>4090</th>\n",
       "      <td>Diego Perez Henao</td>\n",
       "      <td>Javier Antonio Calle Serna</td>\n",
       "      <td>0</td>\n",
       "    </tr>\n",
       "    <tr>\n",
       "      <th>4091</th>\n",
       "      <td>Diego Perez Henao</td>\n",
       "      <td>Guillermo Leon Saenz Vargas</td>\n",
       "      <td>0</td>\n",
       "    </tr>\n",
       "    <tr>\n",
       "      <th>4092</th>\n",
       "      <td>Luis E. Calle Serna</td>\n",
       "      <td>Javier Antonio Calle Serna</td>\n",
       "      <td>0</td>\n",
       "    </tr>\n",
       "    <tr>\n",
       "      <th>4093</th>\n",
       "      <td>Luis E. Calle Serna</td>\n",
       "      <td>Guillermo Leon Saenz Vargas</td>\n",
       "      <td>0</td>\n",
       "    </tr>\n",
       "    <tr>\n",
       "      <th>4094</th>\n",
       "      <td>Javier Antonio Calle Serna</td>\n",
       "      <td>Guillermo Leon Saenz Vargas</td>\n",
       "      <td>0</td>\n",
       "    </tr>\n",
       "  </tbody>\n",
       "</table>\n",
       "<p>4095 rows × 3 columns</p>\n",
       "</div>"
      ],
      "text/plain": [
       "                                   ind_1                              ind_2  \\\n",
       "0     Héctor Rusthenford Guerrero Flores        Hermágoras González Polanco   \n",
       "1     Héctor Rusthenford Guerrero Flores                      Yeico Masacre   \n",
       "2     Héctor Rusthenford Guerrero Flores                 Genaro García Luna   \n",
       "3     Héctor Rusthenford Guerrero Flores        Gilberto Rodríguez Orejuela   \n",
       "4     Héctor Rusthenford Guerrero Flores  Jobanis de Jesús Ávila Villadiego   \n",
       "...                                  ...                                ...   \n",
       "4090                   Diego Perez Henao         Javier Antonio Calle Serna   \n",
       "4091                   Diego Perez Henao        Guillermo Leon Saenz Vargas   \n",
       "4092                 Luis E. Calle Serna         Javier Antonio Calle Serna   \n",
       "4093                 Luis E. Calle Serna        Guillermo Leon Saenz Vargas   \n",
       "4094          Javier Antonio Calle Serna        Guillermo Leon Saenz Vargas   \n",
       "\n",
       "      weight  \n",
       "0          0  \n",
       "1          0  \n",
       "2          0  \n",
       "3          0  \n",
       "4          0  \n",
       "...      ...  \n",
       "4090       0  \n",
       "4091       0  \n",
       "4092       0  \n",
       "4093       0  \n",
       "4094       0  \n",
       "\n",
       "[4095 rows x 3 columns]"
      ]
     },
     "execution_count": 11,
     "metadata": {},
     "output_type": "execute_result"
    }
   ],
   "source": [
    "df_connections"
   ]
  },
  {
   "cell_type": "code",
   "execution_count": 12,
   "id": "b13322ed",
   "metadata": {},
   "outputs": [],
   "source": [
    "for article in df_articles.text.values:\n",
    "    for row in range(len(df_connections)):\n",
    "        if dict_individuals[df_connections.loc[row,'ind_1']] in article and dict_individuals[df_connections.loc[row,'ind_2']] in article:\n",
    "            df_connections.loc[row,'weight'] += 1"
   ]
  },
  {
   "cell_type": "code",
   "execution_count": 13,
   "id": "dd8e98bc",
   "metadata": {},
   "outputs": [],
   "source": [
    "dict_sizes = {}\n",
    "for name in df_individuals.name.values:\n",
    "    dict_sizes[name] = 0\n",
    "    for article in df_articles.text.values:\n",
    "        if dict_individuals[name] in article:\n",
    "            dict_sizes[name] += 1"
   ]
  },
  {
   "cell_type": "markdown",
   "id": "3ead6b96",
   "metadata": {},
   "source": [
    "## Network visualisation"
   ]
  },
  {
   "cell_type": "code",
   "execution_count": 14,
   "id": "e3604cc8",
   "metadata": {},
   "outputs": [
    {
     "data": {
      "text/html": [
       "<div>\n",
       "<style scoped>\n",
       "    .dataframe tbody tr th:only-of-type {\n",
       "        vertical-align: middle;\n",
       "    }\n",
       "\n",
       "    .dataframe tbody tr th {\n",
       "        vertical-align: top;\n",
       "    }\n",
       "\n",
       "    .dataframe thead th {\n",
       "        text-align: right;\n",
       "    }\n",
       "</style>\n",
       "<table border=\"1\" class=\"dataframe\">\n",
       "  <thead>\n",
       "    <tr style=\"text-align: right;\">\n",
       "      <th></th>\n",
       "      <th>ind_1</th>\n",
       "      <th>ind_2</th>\n",
       "      <th>weight</th>\n",
       "    </tr>\n",
       "  </thead>\n",
       "  <tbody>\n",
       "    <tr>\n",
       "      <th>0</th>\n",
       "      <td>Héctor Rusthenford Guerrero Flores</td>\n",
       "      <td>Hermágoras González Polanco</td>\n",
       "      <td>0</td>\n",
       "    </tr>\n",
       "    <tr>\n",
       "      <th>1</th>\n",
       "      <td>Héctor Rusthenford Guerrero Flores</td>\n",
       "      <td>Yeico Masacre</td>\n",
       "      <td>0</td>\n",
       "    </tr>\n",
       "    <tr>\n",
       "      <th>2</th>\n",
       "      <td>Héctor Rusthenford Guerrero Flores</td>\n",
       "      <td>Genaro García Luna</td>\n",
       "      <td>0</td>\n",
       "    </tr>\n",
       "    <tr>\n",
       "      <th>3</th>\n",
       "      <td>Héctor Rusthenford Guerrero Flores</td>\n",
       "      <td>Gilberto Rodríguez Orejuela</td>\n",
       "      <td>0</td>\n",
       "    </tr>\n",
       "    <tr>\n",
       "      <th>4</th>\n",
       "      <td>Héctor Rusthenford Guerrero Flores</td>\n",
       "      <td>Jobanis de Jesús Ávila Villadiego</td>\n",
       "      <td>0</td>\n",
       "    </tr>\n",
       "    <tr>\n",
       "      <th>...</th>\n",
       "      <td>...</td>\n",
       "      <td>...</td>\n",
       "      <td>...</td>\n",
       "    </tr>\n",
       "    <tr>\n",
       "      <th>4090</th>\n",
       "      <td>Diego Perez Henao</td>\n",
       "      <td>Javier Antonio Calle Serna</td>\n",
       "      <td>14</td>\n",
       "    </tr>\n",
       "    <tr>\n",
       "      <th>4091</th>\n",
       "      <td>Diego Perez Henao</td>\n",
       "      <td>Guillermo Leon Saenz Vargas</td>\n",
       "      <td>0</td>\n",
       "    </tr>\n",
       "    <tr>\n",
       "      <th>4092</th>\n",
       "      <td>Luis E. Calle Serna</td>\n",
       "      <td>Javier Antonio Calle Serna</td>\n",
       "      <td>16</td>\n",
       "    </tr>\n",
       "    <tr>\n",
       "      <th>4093</th>\n",
       "      <td>Luis E. Calle Serna</td>\n",
       "      <td>Guillermo Leon Saenz Vargas</td>\n",
       "      <td>0</td>\n",
       "    </tr>\n",
       "    <tr>\n",
       "      <th>4094</th>\n",
       "      <td>Javier Antonio Calle Serna</td>\n",
       "      <td>Guillermo Leon Saenz Vargas</td>\n",
       "      <td>0</td>\n",
       "    </tr>\n",
       "  </tbody>\n",
       "</table>\n",
       "<p>4095 rows × 3 columns</p>\n",
       "</div>"
      ],
      "text/plain": [
       "                                   ind_1                              ind_2  \\\n",
       "0     Héctor Rusthenford Guerrero Flores        Hermágoras González Polanco   \n",
       "1     Héctor Rusthenford Guerrero Flores                      Yeico Masacre   \n",
       "2     Héctor Rusthenford Guerrero Flores                 Genaro García Luna   \n",
       "3     Héctor Rusthenford Guerrero Flores        Gilberto Rodríguez Orejuela   \n",
       "4     Héctor Rusthenford Guerrero Flores  Jobanis de Jesús Ávila Villadiego   \n",
       "...                                  ...                                ...   \n",
       "4090                   Diego Perez Henao         Javier Antonio Calle Serna   \n",
       "4091                   Diego Perez Henao        Guillermo Leon Saenz Vargas   \n",
       "4092                 Luis E. Calle Serna         Javier Antonio Calle Serna   \n",
       "4093                 Luis E. Calle Serna        Guillermo Leon Saenz Vargas   \n",
       "4094          Javier Antonio Calle Serna        Guillermo Leon Saenz Vargas   \n",
       "\n",
       "      weight  \n",
       "0          0  \n",
       "1          0  \n",
       "2          0  \n",
       "3          0  \n",
       "4          0  \n",
       "...      ...  \n",
       "4090      14  \n",
       "4091       0  \n",
       "4092      16  \n",
       "4093       0  \n",
       "4094       0  \n",
       "\n",
       "[4095 rows x 3 columns]"
      ]
     },
     "execution_count": 14,
     "metadata": {},
     "output_type": "execute_result"
    }
   ],
   "source": [
    "df_connections"
   ]
  },
  {
   "cell_type": "markdown",
   "id": "f955cbf5",
   "metadata": {},
   "source": [
    "## Pyvis"
   ]
  },
  {
   "cell_type": "code",
   "execution_count": 15,
   "id": "efcee1de",
   "metadata": {},
   "outputs": [],
   "source": [
    "elist = list(zip(df_connections['ind_1'],df_connections['ind_2'],df_connections['weight']))\n",
    "g = nx.Graph()\n",
    "g.add_weighted_edges_from([(el[0],el[1],el[2]) for el in elist if el[2]!=0])"
   ]
  },
  {
   "cell_type": "code",
   "execution_count": 30,
   "id": "b9436989",
   "metadata": {},
   "outputs": [],
   "source": [
    "nx.write_gexf(g,'_out/networks/individuals.gexf')"
   ]
  },
  {
   "cell_type": "code",
   "execution_count": 16,
   "id": "00679b1f",
   "metadata": {
    "scrolled": true
   },
   "outputs": [
    {
     "name": "stdout",
     "output_type": "stream",
     "text": [
      "_out/networks/individuals.html\n"
     ]
    }
   ],
   "source": [
    "nt = pyvis.network.Network('1500px','1500px', bgcolor=\"#222222\", font_color=\"white\") #,select_menu=True,filter_menu=True)\n",
    "nt.barnes_hut()\n",
    "nt.from_nx(g) \n",
    "nt.toggle_physics(True)\n",
    "\n",
    "for node in nt.nodes:\n",
    "    node['font']['size'] = 100\n",
    "    node['shape'] = 'circularImage'\n",
    "    node['image'] = f\"/Users/federico.bindi/Desktop/GitHub/organized-crime-articles/_aux/pictures/{node['id']}.png\"\n",
    "    node['size'] = dict_sizes[node['id']]\n",
    "\n",
    "nt.show('_out/networks/individuals.html',notebook=False)"
   ]
  },
  {
   "cell_type": "markdown",
   "id": "5b6bf837",
   "metadata": {},
   "source": [
    "## Igraph"
   ]
  },
  {
   "cell_type": "code",
   "execution_count": 23,
   "id": "d548fb86",
   "metadata": {},
   "outputs": [],
   "source": [
    "adj_matrix = nx.to_numpy_array(g)\n",
    "igg = ig.Graph.Adjacency(adj_matrix.tolist())"
   ]
  },
  {
   "cell_type": "code",
   "execution_count": 24,
   "id": "51fcb25e",
   "metadata": {},
   "outputs": [],
   "source": [
    "# To ensure the correct mapping of node indices, set the names of the vertices\n",
    "igg.vs['name'] = list(g.nodes())\n",
    "\n",
    "# If the graph is undirected in NetworkX, but not in igraph, convert it to an undirected graph\n",
    "if not g.is_directed():\n",
    "    igg.to_undirected()\n"
   ]
  },
  {
   "cell_type": "code",
   "execution_count": 25,
   "id": "42c64006",
   "metadata": {},
   "outputs": [
    {
     "data": {
      "text/plain": [
       "<Axes: >"
      ]
     },
     "execution_count": 25,
     "metadata": {},
     "output_type": "execute_result"
    },
    {
     "data": {
      "image/png": "[encoded data removed]",
      "text/plain": [
       "<Figure size 500x500 with 1 Axes>"
      ]
     },
     "metadata": {},
     "output_type": "display_data"
    }
   ],
   "source": [
    "fig, ax = plt.subplots(figsize=(5,5))\n",
    "ig.plot(\n",
    "    igg,\n",
    "    target=ax)"
   ]
  },
  {
   "cell_type": "markdown",
   "id": "fc7feb26",
   "metadata": {},
   "source": [
    "Ugly!"
   ]
  },
  {
   "cell_type": "markdown",
   "id": "a675fcaa",
   "metadata": {},
   "source": [
    "## Plotly"
   ]
  },
  {
   "cell_type": "code",
   "execution_count": 27,
   "id": "37f23450",
   "metadata": {},
   "outputs": [],
   "source": [
    "node_positions = nx.spring_layout(g)  # Calculate node positions\n",
    "\n",
    "node_trace = go.Scatter(\n",
    "    x=[pos[0] for pos in node_positions.values()],\n",
    "    y=[pos[1] for pos in node_positions.values()],\n",
    "    mode='markers',\n",
    "    # Set other attributes like size, color, etc.\n",
    ")\n",
    "\n",
    "edge_trace = go.Scatter(\n",
    "    x=[],\n",
    "    y=[],\n",
    "    line=dict(width=0.5, color='#888'),\n",
    "    # Set other attributes like opacity, etc.\n",
    ")"
   ]
  },
  {
   "cell_type": "code",
   "execution_count": 28,
   "id": "b2165649",
   "metadata": {},
   "outputs": [],
   "source": [
    "fig = go.Figure(data=[edge_trace, node_trace],\n",
    "                layout=go.Layout(\n",
    "                    # Set layout properties like title, colors, etc.\n",
    "                ))"
   ]
  },
  {
   "cell_type": "code",
   "execution_count": 29,
   "id": "13424710",
   "metadata": {},
   "outputs": [
    {
     "data": {
      "application/vnd.plotly.v1+json": {
       "config": {
        "plotlyServerURL": "https://plot.ly"
       },
       "data": [
        {
         "line": {
          "color": "#888",
          "width": 0.5
         },
         "type": "scatter",
         "x": [],
         "y": []
        },
        {
         "mode": "markers",
         "type": "scatter",
         "x": [
          0.1845612615306351,
          0.015143569661563603,
          -0.11836416710857255,
          -0.11577096688892227,
          -0.10003821144314486,
          -0.06514970988362843,
          -0.012857196835157386,
          -0.03640705562436692,
          -0.0947494996839304,
          -0.11277235697789079,
          -0.03058491766288229,
          0.09007489301335908,
          0.07000276784205534,
          0.02519050466474673,
          0.04110915680067636,
          0.022403104923986165,
          0.02421670827431531,
          0.0032796218983677772,
          -0.0173083007041995,
          -0.052652249570472896,
          0.04114027966522798,
          -0.00957915060830894,
          -0.0476053263384413,
          -0.028916752000069365,
          0.05030387376896387,
          0.0800079012054692,
          -0.11595483166776425,
          -0.13073992487722325,
          0.0308712625852868,
          -0.0810947405372732,
          0.10411440878140223,
          0.05037111200502826,
          -0.06581402066427701,
          -0.010106173365271268,
          0.019659891124699527,
          0.033894718217770126,
          -0.010283545416041534,
          0.021415940137394764,
          0.07185324986548981,
          0.09570562421630932,
          -0.17418868556506084,
          0.010174482760650982,
          -0.0746043298949418,
          -0.07620898473782953,
          -0.1565995662566073,
          -0.07560256509106777,
          -0.006939199561748383,
          0.06252235185907057,
          -0.09448822991576668,
          0.012294663064660734,
          -0.11500963234026018,
          0.021970542901351257,
          -0.055805014437367836,
          -0.054560876192514186,
          0.07283349000437032,
          0.2624542172345546,
          0.13532987278100445,
          0.09542292072345651,
          0.1120378699663878,
          1,
          0.929370911788596,
          0.013360091871996476,
          0.04051868752698078,
          0.027795733608412015,
          -0.004432903358885747,
          0.0032548255974843595,
          0.03437236204125089,
          -0.024240801547651576,
          0.03829387756955529,
          -0.06114756010315672,
          0.07231548727290579,
          0.07303960703451812,
          0.07891997908058304,
          0.03904255811679404,
          0.005829387060474159,
          -0.22881835798737282,
          -0.7895990069477455,
          -0.729483106498816,
          -0.03333107123744184,
          -0.08578866133752859,
          -0.22604119100613576,
          0.10716507182793504
         ],
         "y": [
          0.04601347314018246,
          0.0006150552898557995,
          -0.06872332837651571,
          -0.08706713181374717,
          -0.0042970718316366315,
          -0.024302741031593272,
          -0.03129845806782984,
          -0.0474934157577905,
          0.06492989022718283,
          0.03943326647493437,
          0.06492769079312653,
          0.014168424082810813,
          0.002389882822234254,
          0.023586651656032985,
          0.0041663727975155,
          0.01475654596615112,
          0.04597081571439892,
          0.0812095898595993,
          -0.009869643101976716,
          0.11371979597391743,
          0.0949765268754415,
          0.0945621066143182,
          0.09000632524387447,
          -0.0669838572770629,
          0.048527680631306226,
          0.11666302946825889,
          -0.1263331136179815,
          -0.06113340416207074,
          -0.08794413352682746,
          -0.04276002399221972,
          -0.008785193755305332,
          0.023892561739790066,
          -0.06721307633950703,
          0.15790838485777894,
          -0.16047424020774795,
          -0.12261180119645375,
          -0.11019752182153222,
          -0.06711273978702643,
          -0.02519956133219599,
          -0.056240844492435466,
          0.00859459932378806,
          -0.053431815171106775,
          0.038498386603779855,
          0.07923458499146756,
          -0.04498531676147603,
          -0.09051258172596943,
          0.0725005026519405,
          0.07972657936393805,
          -0.025976153353526366,
          -0.14239092473101703,
          -0.016567607797996965,
          0.07584201122264368,
          -0.03557578536446154,
          -0.0005444542731124612,
          -0.1443585795120289,
          -0.17894430957401922,
          -0.10845242472287153,
          0.028906747600211977,
          -0.027701377316490403,
          0.21239175124614512,
          0.19629849694706006,
          -0.20547215523530168,
          -0.24173679990532312,
          -0.22528076760208357,
          -0.18264532854707538,
          -0.16406785242280306,
          -0.10762915780205354,
          -0.16615482268050671,
          -0.15140019991847717,
          -0.18627774181059822,
          -0.1662725760048497,
          0.04845039064194079,
          -0.08027825014994659,
          0.07520638747549124,
          0.058223920388938,
          -0.04552375582766081,
          0.7746086012627882,
          0.7145106173354169,
          0.15542622672514,
          0.29107642060986283,
          -0.08134395669011091,
          0.09764570177105879
         ]
        }
       ],
       "layout": {
        "template": {
         "data": {
          "bar": [
           {
            "error_x": {
             "color": "#2a3f5f"
            },
            "error_y": {
             "color": "#2a3f5f"
            },
            "marker": {
             "line": {
              "color": "#E5ECF6",
              "width": 0.5
             },
             "pattern": {
              "fillmode": "overlay",
              "size": 10,
              "solidity": 0.2
             }
            },
            "type": "bar"
           }
          ],
          "barpolar": [
           {
            "marker": {
             "line": {
              "color": "#E5ECF6",
              "width": 0.5
             },
             "pattern": {
              "fillmode": "overlay",
              "size": 10,
              "solidity": 0.2
             }
            },
            "type": "barpolar"
           }
          ],
          "carpet": [
           {
            "aaxis": {
             "endlinecolor": "#2a3f5f",
             "gridcolor": "white",
             "linecolor": "white",
             "minorgridcolor": "white",
             "startlinecolor": "#2a3f5f"
            },
            "baxis": {
             "endlinecolor": "#2a3f5f",
             "gridcolor": "white",
             "linecolor": "white",
             "minorgridcolor": "white",
             "startlinecolor": "#2a3f5f"
            },
            "type": "carpet"
           }
          ],
          "choropleth": [
           {
            "colorbar": {
             "outlinewidth": 0,
             "ticks": ""
            },
            "type": "choropleth"
           }
          ],
          "contour": [
           {
            "colorbar": {
             "outlinewidth": 0,
             "ticks": ""
            },
            "colorscale": [
             [
              0,
              "#0d0887"
             ],
             [
              0.1111111111111111,
              "#46039f"
             ],
             [
              0.2222222222222222,
              "#7201a8"
             ],
             [
              0.3333333333333333,
              "#9c179e"
             ],
             [
              0.4444444444444444,
              "#bd3786"
             ],
             [
              0.5555555555555556,
              "#d8576b"
             ],
             [
              0.6666666666666666,
              "#ed7953"
             ],
             [
              0.7777777777777778,
              "#fb9f3a"
             ],
             [
              0.8888888888888888,
              "#fdca26"
             ],
             [
              1,
              "#f0f921"
             ]
            ],
            "type": "contour"
           }
          ],
          "contourcarpet": [
           {
            "colorbar": {
             "outlinewidth": 0,
             "ticks": ""
            },
            "type": "contourcarpet"
           }
          ],
          "heatmap": [
           {
            "colorbar": {
             "outlinewidth": 0,
             "ticks": ""
            },
            "colorscale": [
             [
              0,
              "#0d0887"
             ],
             [
              0.1111111111111111,
              "#46039f"
             ],
             [
              0.2222222222222222,
              "#7201a8"
             ],
             [
              0.3333333333333333,
              "#9c179e"
             ],
             [
              0.4444444444444444,
              "#bd3786"
             ],
             [
              0.5555555555555556,
              "#d8576b"
             ],
             [
              0.6666666666666666,
              "#ed7953"
             ],
             [
              0.7777777777777778,
              "#fb9f3a"
             ],
             [
              0.8888888888888888,
              "#fdca26"
             ],
             [
              1,
              "#f0f921"
             ]
            ],
            "type": "heatmap"
           }
          ],
          "heatmapgl": [
           {
            "colorbar": {
             "outlinewidth": 0,
             "ticks": ""
            },
            "colorscale": [
             [
              0,
              "#0d0887"
             ],
             [
              0.1111111111111111,
              "#46039f"
             ],
             [
              0.2222222222222222,
              "#7201a8"
             ],
             [
              0.3333333333333333,
              "#9c179e"
             ],
             [
              0.4444444444444444,
              "#bd3786"
             ],
             [
              0.5555555555555556,
              "#d8576b"
             ],
             [
              0.6666666666666666,
              "#ed7953"
             ],
             [
              0.7777777777777778,
              "#fb9f3a"
             ],
             [
              0.8888888888888888,
              "#fdca26"
             ],
             [
              1,
              "#f0f921"
             ]
            ],
            "type": "heatmapgl"
           }
          ],
          "histogram": [
           {
            "marker": {
             "pattern": {
              "fillmode": "overlay",
              "size": 10,
              "solidity": 0.2
             }
            },
            "type": "histogram"
           }
          ],
          "histogram2d": [
           {
            "colorbar": {
             "outlinewidth": 0,
             "ticks": ""
            },
            "colorscale": [
             [
              0,
              "#0d0887"
             ],
             [
              0.1111111111111111,
              "#46039f"
             ],
             [
              0.2222222222222222,
              "#7201a8"
             ],
             [
              0.3333333333333333,
              "#9c179e"
             ],
             [
              0.4444444444444444,
              "#bd3786"
             ],
             [
              0.5555555555555556,
              "#d8576b"
             ],
             [
              0.6666666666666666,
              "#ed7953"
             ],
             [
              0.7777777777777778,
              "#fb9f3a"
             ],
             [
              0.8888888888888888,
              "#fdca26"
             ],
             [
              1,
              "#f0f921"
             ]
            ],
            "type": "histogram2d"
           }
          ],
          "histogram2dcontour": [
           {
            "colorbar": {
             "outlinewidth": 0,
             "ticks": ""
            },
            "colorscale": [
             [
              0,
              "#0d0887"
             ],
             [
              0.1111111111111111,
              "#46039f"
             ],
             [
              0.2222222222222222,
              "#7201a8"
             ],
             [
              0.3333333333333333,
              "#9c179e"
             ],
             [
              0.4444444444444444,
              "#bd3786"
             ],
             [
              0.5555555555555556,
              "#d8576b"
             ],
             [
              0.6666666666666666,
              "#ed7953"
             ],
             [
              0.7777777777777778,
              "#fb9f3a"
             ],
             [
              0.8888888888888888,
              "#fdca26"
             ],
             [
              1,
              "#f0f921"
             ]
            ],
            "type": "histogram2dcontour"
           }
          ],
          "mesh3d": [
           {
            "colorbar": {
             "outlinewidth": 0,
             "ticks": ""
            },
            "type": "mesh3d"
           }
          ],
          "parcoords": [
           {
            "line": {
             "colorbar": {
              "outlinewidth": 0,
              "ticks": ""
             }
            },
            "type": "parcoords"
           }
          ],
          "pie": [
           {
            "automargin": true,
            "type": "pie"
           }
          ],
          "scatter": [
           {
            "fillpattern": {
             "fillmode": "overlay",
             "size": 10,
             "solidity": 0.2
            },
            "type": "scatter"
           }
          ],
          "scatter3d": [
           {
            "line": {
             "colorbar": {
              "outlinewidth": 0,
              "ticks": ""
             }
            },
            "marker": {
             "colorbar": {
              "outlinewidth": 0,
              "ticks": ""
             }
            },
            "type": "scatter3d"
           }
          ],
          "scattercarpet": [
           {
            "marker": {
             "colorbar": {
              "outlinewidth": 0,
              "ticks": ""
             }
            },
            "type": "scattercarpet"
           }
          ],
          "scattergeo": [
           {
            "marker": {
             "colorbar": {
              "outlinewidth": 0,
              "ticks": ""
             }
            },
            "type": "scattergeo"
           }
          ],
          "scattergl": [
           {
            "marker": {
             "colorbar": {
              "outlinewidth": 0,
              "ticks": ""
             }
            },
            "type": "scattergl"
           }
          ],
          "scattermapbox": [
           {
            "marker": {
             "colorbar": {
              "outlinewidth": 0,
              "ticks": ""
             }
            },
            "type": "scattermapbox"
           }
          ],
          "scatterpolar": [
           {
            "marker": {
             "colorbar": {
              "outlinewidth": 0,
              "ticks": ""
             }
            },
            "type": "scatterpolar"
           }
          ],
          "scatterpolargl": [
           {
            "marker": {
             "colorbar": {
              "outlinewidth": 0,
              "ticks": ""
             }
            },
            "type": "scatterpolargl"
           }
          ],
          "scatterternary": [
           {
            "marker": {
             "colorbar": {
              "outlinewidth": 0,
              "ticks": ""
             }
            },
            "type": "scatterternary"
           }
          ],
          "surface": [
           {
            "colorbar": {
             "outlinewidth": 0,
             "ticks": ""
            },
            "colorscale": [
             [
              0,
              "#0d0887"
             ],
             [
              0.1111111111111111,
              "#46039f"
             ],
             [
              0.2222222222222222,
              "#7201a8"
             ],
             [
              0.3333333333333333,
              "#9c179e"
             ],
             [
              0.4444444444444444,
              "#bd3786"
             ],
             [
              0.5555555555555556,
              "#d8576b"
             ],
             [
              0.6666666666666666,
              "#ed7953"
             ],
             [
              0.7777777777777778,
              "#fb9f3a"
             ],
             [
              0.8888888888888888,
              "#fdca26"
             ],
             [
              1,
              "#f0f921"
             ]
            ],
            "type": "surface"
           }
          ],
          "table": [
           {
            "cells": {
             "fill": {
              "color": "#EBF0F8"
             },
             "line": {
              "color": "white"
             }
            },
            "header": {
             "fill": {
              "color": "#C8D4E3"
             },
             "line": {
              "color": "white"
             }
            },
            "type": "table"
           }
          ]
         },
         "layout": {
          "annotationdefaults": {
           "arrowcolor": "#2a3f5f",
           "arrowhead": 0,
           "arrowwidth": 1
          },
          "autotypenumbers": "strict",
          "coloraxis": {
           "colorbar": {
            "outlinewidth": 0,
            "ticks": ""
           }
          },
          "colorscale": {
           "diverging": [
            [
             0,
             "#8e0152"
            ],
            [
             0.1,
             "#c51b7d"
            ],
            [
             0.2,
             "#de77ae"
            ],
            [
             0.3,
             "#f1b6da"
            ],
            [
             0.4,
             "#fde0ef"
            ],
            [
             0.5,
             "#f7f7f7"
            ],
            [
             0.6,
             "#e6f5d0"
            ],
            [
             0.7,
             "#b8e186"
            ],
            [
             0.8,
             "#7fbc41"
            ],
            [
             0.9,
             "#4d9221"
            ],
            [
             1,
             "#276419"
            ]
           ],
           "sequential": [
            [
             0,
             "#0d0887"
            ],
            [
             0.1111111111111111,
             "#46039f"
            ],
            [
             0.2222222222222222,
             "#7201a8"
            ],
            [
             0.3333333333333333,
             "#9c179e"
            ],
            [
             0.4444444444444444,
             "#bd3786"
            ],
            [
             0.5555555555555556,
             "#d8576b"
            ],
            [
             0.6666666666666666,
             "#ed7953"
            ],
            [
             0.7777777777777778,
             "#fb9f3a"
            ],
            [
             0.8888888888888888,
             "#fdca26"
            ],
            [
             1,
             "#f0f921"
            ]
           ],
           "sequentialminus": [
            [
             0,
             "#0d0887"
            ],
            [
             0.1111111111111111,
             "#46039f"
            ],
            [
             0.2222222222222222,
             "#7201a8"
            ],
            [
             0.3333333333333333,
             "#9c179e"
            ],
            [
             0.4444444444444444,
             "#bd3786"
            ],
            [
             0.5555555555555556,
             "#d8576b"
            ],
            [
             0.6666666666666666,
             "#ed7953"
            ],
            [
             0.7777777777777778,
             "#fb9f3a"
            ],
            [
             0.8888888888888888,
             "#fdca26"
            ],
            [
             1,
             "#f0f921"
            ]
           ]
          },
          "colorway": [
           "#636efa",
           "#EF553B",
           "#00cc96",
           "#ab63fa",
           "#FFA15A",
           "#19d3f3",
           "#FF6692",
           "#B6E880",
           "#FF97FF",
           "#FECB52"
          ],
          "font": {
           "color": "#2a3f5f"
          },
          "geo": {
           "bgcolor": "white",
           "lakecolor": "white",
           "landcolor": "#E5ECF6",
           "showlakes": true,
           "showland": true,
           "subunitcolor": "white"
          },
          "hoverlabel": {
           "align": "left"
          },
          "hovermode": "closest",
          "mapbox": {
           "style": "light"
          },
          "paper_bgcolor": "white",
          "plot_bgcolor": "#E5ECF6",
          "polar": {
           "angularaxis": {
            "gridcolor": "white",
            "linecolor": "white",
            "ticks": ""
           },
           "bgcolor": "#E5ECF6",
           "radialaxis": {
            "gridcolor": "white",
            "linecolor": "white",
            "ticks": ""
           }
          },
          "scene": {
           "xaxis": {
            "backgroundcolor": "#E5ECF6",
            "gridcolor": "white",
            "gridwidth": 2,
            "linecolor": "white",
            "showbackground": true,
            "ticks": "",
            "zerolinecolor": "white"
           },
           "yaxis": {
            "backgroundcolor": "#E5ECF6",
            "gridcolor": "white",
            "gridwidth": 2,
            "linecolor": "white",
            "showbackground": true,
            "ticks": "",
            "zerolinecolor": "white"
           },
           "zaxis": {
            "backgroundcolor": "#E5ECF6",
            "gridcolor": "white",
            "gridwidth": 2,
            "linecolor": "white",
            "showbackground": true,
            "ticks": "",
            "zerolinecolor": "white"
           }
          },
          "shapedefaults": {
           "line": {
            "color": "#2a3f5f"
           }
          },
          "ternary": {
           "aaxis": {
            "gridcolor": "white",
            "linecolor": "white",
            "ticks": ""
           },
           "baxis": {
            "gridcolor": "white",
            "linecolor": "white",
            "ticks": ""
           },
           "bgcolor": "#E5ECF6",
           "caxis": {
            "gridcolor": "white",
            "linecolor": "white",
            "ticks": ""
           }
          },
          "title": {
           "x": 0.05
          },
          "xaxis": {
           "automargin": true,
           "gridcolor": "white",
           "linecolor": "white",
           "ticks": "",
           "title": {
            "standoff": 15
           },
           "zerolinecolor": "white",
           "zerolinewidth": 2
          },
          "yaxis": {
           "automargin": true,
           "gridcolor": "white",
           "linecolor": "white",
           "ticks": "",
           "title": {
            "standoff": 15
           },
           "zerolinecolor": "white",
           "zerolinewidth": 2
          }
         }
        }
       }
      }
     },
     "metadata": {},
     "output_type": "display_data"
    }
   ],
   "source": [
    "fig.show()"
   ]
  },
  {
   "cell_type": "markdown",
   "id": "9fb201a3",
   "metadata": {},
   "source": [
    "Ugly as well!"
   ]
  },
  {
   "cell_type": "markdown",
   "id": "01095e59",
   "metadata": {},
   "source": [
    "# Groups"
   ]
  },
  {
   "cell_type": "markdown",
   "id": "ecbb90d1",
   "metadata": {},
   "source": [
    "## Network preparation"
   ]
  },
  {
   "cell_type": "code",
   "execution_count": null,
   "id": "c654b26d",
   "metadata": {},
   "outputs": [],
   "source": []
  },
  {
   "cell_type": "markdown",
   "id": "a986a8f2",
   "metadata": {},
   "source": [
    "## Network visualisation"
   ]
  },
  {
   "cell_type": "code",
   "execution_count": null,
   "id": "809a9781",
   "metadata": {},
   "outputs": [],
   "source": []
  }
 ],
 "metadata": {
  "kernelspec": {
   "display_name": "Python 3 (ipykernel)",
   "language": "python",
   "name": "python3"
  },
  "language_info": {
   "codemirror_mode": {
    "name": "ipython",
    "version": 3
   },
   "file_extension": ".py",
   "mimetype": "text/x-python",
   "name": "python",
   "nbconvert_exporter": "python",
   "pygments_lexer": "ipython3",
   "version": "3.10.9"
  },
  "toc": {
   "base_numbering": 1,
   "nav_menu": {},
   "number_sections": true,
   "sideBar": true,
   "skip_h1_title": false,
   "title_cell": "Table of Contents",
   "title_sidebar": "Contents",
   "toc_cell": false,
   "toc_position": {
    "height": "calc(100% - 180px)",
    "left": "10px",
    "top": "150px",
    "width": "285.275px"
   },
   "toc_section_display": true,
   "toc_window_display": true
  }
 },
 "nbformat": 4,
 "nbformat_minor": 5
}
