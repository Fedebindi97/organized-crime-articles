{
 "cells": [
  {
   "cell_type": "markdown",
   "id": "d3631259",
   "metadata": {},
   "source": [
    "# Packages"
   ]
  },
  {
   "cell_type": "code",
   "execution_count": 52,
   "id": "30afc9c7",
   "metadata": {},
   "outputs": [],
   "source": [
    "import pandas as pd\n",
    "import numpy as np\n",
    "import itertools\n",
    "import networkx as nx\n",
    "import pyvis\n",
    "import igraph as i\n",
    "import matplotlib.pyplot as plt\n",
    "from collections import Counter\n",
    "import string\n",
    "from tqdm import tqdm\n",
    "import re\n",
    "from cdlib import algorithms\n",
    "from concurrent.futures import ThreadPoolExecutor"
   ]
  },
  {
   "cell_type": "code",
   "execution_count": 53,
   "id": "3e661071",
   "metadata": {},
   "outputs": [],
   "source": [
    "df_articles = pd.read_csv('_raw/articles_scraped.csv')"
   ]
  },
  {
   "cell_type": "code",
   "execution_count": 54,
   "id": "6cce8b1b",
   "metadata": {},
   "outputs": [],
   "source": [
    "def prepare_df_connections(iterable):\n",
    "    value_combinations = list(itertools.combinations(iterable, 2))\n",
    "    df_connections = pd.DataFrame(value_combinations, columns=['ind_1','ind_2'])\n",
    "    df_connections['weight'] = 0\n",
    "    df_connections.reset_index(drop=True, inplace=True)\n",
    "\n",
    "    return df_connections"
   ]
  },
  {
   "cell_type": "code",
   "execution_count": 55,
   "id": "b0489844",
   "metadata": {},
   "outputs": [],
   "source": [
    "def network_preparation(df_connections,dict_sizes): # df_connections is a dataframe of weighted edges\n",
    "    elist = list(zip(df_connections['ind_1'],df_connections['ind_2'],df_connections['weight']))\n",
    "    g = nx.Graph()\n",
    "    g.add_weighted_edges_from([(el[0],el[1],el[2]) for el in elist if el[2]!=0])\n",
    "\n",
    "    nt = pyvis.network.Network('1500px','1500px', bgcolor=\"#222222\", font_color=\"white\") #,select_menu=True,filter_menu=True)\n",
    "    nt.barnes_hut()\n",
    "    nt.from_nx(g) \n",
    "    nt.toggle_physics(True)\n",
    "\n",
    "    for node in nt.nodes:\n",
    "        node['font']['size'] = 100\n",
    "        node['shape'] = 'circularImage'\n",
    "        node['image'] = f\"/Users/federico.bindi/Desktop/GitHub/organized-crime-articles/_aux/pictures/{node['id']}.png\"\n",
    "        node['size'] = dict_sizes[node['id']]\n",
    "\n",
    "    return g,nt"
   ]
  },
  {
   "cell_type": "markdown",
   "id": "c9e4a516",
   "metadata": {},
   "source": [
    "# Individuals"
   ]
  },
  {
   "cell_type": "code",
   "execution_count": 56,
   "id": "c34fe8af",
   "metadata": {},
   "outputs": [],
   "source": [
    "df_individuals = pd.read_csv('_raw/individuals.csv')"
   ]
  },
  {
   "cell_type": "code",
   "execution_count": 57,
   "id": "6b5245ca",
   "metadata": {},
   "outputs": [],
   "source": [
    "dict_individuals = dict(zip(df_individuals.name,df_individuals.search_term))"
   ]
  },
  {
   "cell_type": "code",
   "execution_count": 58,
   "id": "dd8e98bc",
   "metadata": {},
   "outputs": [],
   "source": [
    "dict_sizes = {}\n",
    "for name in df_individuals.name.values:\n",
    "    dict_sizes[name] = 0\n",
    "    for article in df_articles.text.values:\n",
    "        if dict_individuals[name] in article:\n",
    "            dict_sizes[name] += 1"
   ]
  },
  {
   "cell_type": "code",
   "execution_count": 59,
   "id": "cc009f59",
   "metadata": {},
   "outputs": [
    {
     "data": {
      "text/plain": [
       "{'Pablo Escobar': 308,\n",
       " 'Hector Manuel Beltran Leyva': 267,\n",
       " 'Joaquín Guzmán Loera': 117,\n",
       " 'Heriberto Lazcano': 87,\n",
       " 'Nemesio Oseguera Cervantes': 68,\n",
       " 'Victor Navarro': 62,\n",
       " 'Vicente Carrillo Fuentes': 54,\n",
       " 'Walid Makled': 47,\n",
       " 'Dairo Antonio Úsuga': 46,\n",
       " 'Diego Perez Henao': 45,\n",
       " 'José Adán Salazar Umaña': 41,\n",
       " 'Miguel Botache Santillana': 41,\n",
       " 'Nazario Moreno Gonzalez': 40,\n",
       " 'Horst Walther Overdick': 38,\n",
       " 'Luciano Marín Arango': 38,\n",
       " 'Álex Saab': 34,\n",
       " 'Luis Enrique Calle Serna': 34,\n",
       " 'Juan Alberto Ortiz Lopez': 33,\n",
       " 'Ismael Zambada García': 33,\n",
       " 'Antonio Cardenas Guillen': 31,\n",
       " 'Servando Gomez Martinez': 30,\n",
       " 'Maximiliano Bonilla Orozco': 30,\n",
       " 'Ariel Máximo Cantero': 27,\n",
       " 'César Emilio Peralta': 24,\n",
       " 'Fausto Isidro Meza Flores': 22,\n",
       " 'Rodrigo Londoño Echeverri': 21,\n",
       " 'Javier Antonio Calle Serna': 21,\n",
       " 'Erickson Vargas Cardenas': 19,\n",
       " 'Walter Patricio Arizala': 18,\n",
       " 'Guillermo Leon Saenz Vargas': 18,\n",
       " 'Genaro García Luna': 17,\n",
       " 'Gustavo Aníbal Giraldo': 17,\n",
       " 'Géner García Molina': 17,\n",
       " 'Dámaso López Núñez': 17,\n",
       " 'Fernando Sanchez Arellano': 17,\n",
       " 'Carlos Luis Revete': 15,\n",
       " 'Roberto Vargas Gutiérrez': 15,\n",
       " 'Daniel Barrera Barrera': 15,\n",
       " 'José Antonio Yépez Ortiz': 13,\n",
       " 'Antônio Francisco Bonfim Lopes': 13,\n",
       " 'José Natividad Luna Pereira': 13,\n",
       " 'Nicolás Rodríguez Bautista': 13,\n",
       " 'Victor Julio Suarez Rojas': 12,\n",
       " 'Héctor Rusthenford Guerrero Flores': 11,\n",
       " 'Luis Agustin Caicedo Velandia': 11,\n",
       " 'Marcos Willians Herbas Camacho': 11,\n",
       " 'Néstor Gregorio Vera Fernández': 10,\n",
       " 'Mario Ramirez Treviño': 10,\n",
       " 'Miguel Angel Treviño Morales': 10,\n",
       " 'Henry Castellanos Garzón': 9,\n",
       " 'Yeico Masacre': 8,\n",
       " 'Jobanis de Jesús Ávila Villadiego': 8,\n",
       " 'Gilberto Aparecido Dos Santos': 8,\n",
       " 'Jarvis Chimenes Pavão': 8,\n",
       " 'Seuxis Pausías Hernández': 8,\n",
       " 'Reynerio Flores Lazo': 8,\n",
       " 'Martin Farfan Diaz Gonzalez': 7,\n",
       " 'Jose Eberto Lopez Montero': 7,\n",
       " 'José Bayron Piedrahita Ceballos': 6,\n",
       " 'Diego Fernando Murillo Bejarano': 6,\n",
       " 'Pedro Oliverio Guerrero Castillo': 6,\n",
       " 'Gilberto Rodríguez Orejuela': 5,\n",
       " 'Eliecer Erlinto Chamorro': 5,\n",
       " 'Óscar Mauricio Pachón': 5,\n",
       " 'Juan de Dios Úsuga': 5,\n",
       " 'Samark López Bello': 4,\n",
       " 'Hernán Darío Velásquez Saldarriaga': 4,\n",
       " 'Amauri Carmona Morelos': 4,\n",
       " 'Vicente Carrillo Leyva': 4,\n",
       " 'Wilexis Alexander Acevedo Monasterios': 3,\n",
       " \"Juan Antonio 'Tony' Hernández Alvarado\": 3,\n",
       " 'Leider Johani Noscue': 3,\n",
       " 'Marcos de Jesus Figueroa Garcia': 3,\n",
       " 'Francisco Zeledon': 3,\n",
       " 'Henry de Jesús López Londoño': 3,\n",
       " 'Ricardo Abel Ayala Orrego': 2,\n",
       " 'José Vicente Lesmes': 2,\n",
       " 'Moris Alexander Bercián Manchón': 2,\n",
       " 'Rafael Alvarez Piñeda': 2,\n",
       " 'Cesar Augusto Torres Lujan': 2,\n",
       " 'Hermágoras González Polanco': 1,\n",
       " 'Marcelo Fernando Pinheiro Veiga': 1,\n",
       " 'Angel de Jesus Pacheco Chanci': 1,\n",
       " 'José Jesús Méndez Vargas': 1,\n",
       " 'Jorge Eduardo Costilla Sánchez': 1,\n",
       " 'José Manuel Sierra Sabogal': 0,\n",
       " \"Alejandro 'Omar' Treviño Morales\": 0,\n",
       " 'Edgardo Leyva Escandon': 0,\n",
       " 'Alejandro Flores Cacho': 0}"
      ]
     },
     "execution_count": 59,
     "metadata": {},
     "output_type": "execute_result"
    }
   ],
   "source": [
    "sorted_dict = dict(sorted(dict_sizes.items(), key=lambda item: item[1], reverse=True))\n",
    "\n",
    "sorted_dict"
   ]
  },
  {
   "cell_type": "markdown",
   "id": "e5705c4d",
   "metadata": {},
   "source": [
    "### Preparation"
   ]
  },
  {
   "cell_type": "code",
   "execution_count": 60,
   "id": "80c398ed",
   "metadata": {},
   "outputs": [],
   "source": [
    "df_connections = prepare_df_connections(df_individuals.name.values)"
   ]
  },
  {
   "cell_type": "markdown",
   "id": "60068c91",
   "metadata": {},
   "source": [
    "Theoretically, we can analyse articles from 4 points of view:\n",
    "1. Keyword extraction\n",
    "2. Co-occurrence analysis (how many times two bosses' names appear close in an article)\n",
    "3. Sentiment analysis on the articles\n",
    "\n",
    "Points 2 and 3 are probably not useful: two bosses will appear closely in an article also if they are rival, and the articles are very likely to receive a negative sentiment classification anyway."
   ]
  },
  {
   "cell_type": "code",
   "execution_count": 61,
   "id": "f5336744",
   "metadata": {},
   "outputs": [],
   "source": [
    "# Alliance Keywords with Regex Variations\n",
    "alliance_keywords = [\n",
    "    r\"alliance\", r\"partner(s|ship|ing)?\", r\"cooperation\", r\"collaboration\",\n",
    "    r\"joint venture\", r\"mutual support\", r\"united front\", r\"solidarity\",\n",
    "    r\"work(ing)? together\", r\"coalition\", r\"team(ing)? up\", r\"combine(d)? forces\",\n",
    "    r\"coordinated effort\", r\"combined operations\", r\"coordinated strategy\",\n",
    "    r\"harmonious relationship\", r\"allied forces\", r\"mutual assistance\"\n",
    "]\n",
    "\n",
    "# Rivalry Keywords with Regex Variations\n",
    "rivalry_keywords = [\n",
    "    r\"rivalry\", r\"conflict\", r\"competition\", r\"feud\", r\"hostility\", r\"animosity\",\n",
    "    r\"contention\", r\"dispute\", r\"antagonism\", r\"clash\", r\"enmity\",\n",
    "    r\"competition for territory\", r\"power struggle\", r\"bitter rivalry\",\n",
    "    r\"ongoing feud\", r\"turf war\", r\"opposing forces\",\n",
    "    r\"confrontational relationship\", r\"longstanding dispute\",\n",
    "    r\"battle for supremacy\"\n",
    "]"
   ]
  },
  {
   "cell_type": "code",
   "execution_count": 62,
   "id": "d744c071",
   "metadata": {},
   "outputs": [],
   "source": [
    "def count_words_in_text(keyword_list, text):\n",
    "    \n",
    "    counter = 0\n",
    "    target_words = text.split()\n",
    "\n",
    "    for keyword in keyword_list:\n",
    "        matches = [1 if re.search(keyword,word) is not None else 0 for word in target_words]\n",
    "        counter += sum(matches)\n",
    "    \n",
    "    return counter"
   ]
  },
  {
   "cell_type": "code",
   "execution_count": 63,
   "id": "19663c33",
   "metadata": {},
   "outputs": [],
   "source": [
    "def clean_text(text):\n",
    "    # Create a translation table that maps punctuation characters to None\n",
    "    translator = str.maketrans(string.punctuation, \" \" * len(string.punctuation))\n",
    "    \n",
    "    # Use the translate method to remove punctuation\n",
    "    cleaned_text = text.lower().translate(translator)\n",
    "    \n",
    "    return cleaned_text"
   ]
  },
  {
   "cell_type": "code",
   "execution_count": 64,
   "id": "ec928ef6",
   "metadata": {},
   "outputs": [],
   "source": [
    "def detect_relationship(text, entity_1, alias_1, entity_2, alias_2):\n",
    "\n",
    "    if entity_1 in text and alias_1 in text and entity_2 in text and alias_2 in text:\n",
    "\n",
    "        alliance_score = count_words_in_text(alliance_keywords,clean_text(text))\n",
    "        rivalry_score = count_words_in_text(rivalry_keywords,clean_text(text))\n",
    "\n",
    "        if alliance_score > rivalry_score:\n",
    "            return 1\n",
    "        else:\n",
    "            return 0\n",
    "        \n",
    "    else:\n",
    "        return 0"
   ]
  },
  {
   "cell_type": "code",
   "execution_count": 65,
   "id": "c80ef49f",
   "metadata": {},
   "outputs": [
    {
     "name": "stderr",
     "output_type": "stream",
     "text": [
      "100%|██████████| 10798/10798 [2:30:56<00:00,  1.19it/s] \n"
     ]
    }
   ],
   "source": [
    "for article in tqdm(df_articles.text.values):\n",
    "    for row in range(len(df_connections)):\n",
    "\n",
    "        entity_1 = dict_individuals[df_connections.loc[row,'ind_1']]\n",
    "        alias_1 = df_individuals.loc[df_individuals.name == df_connections.loc[row,'ind_1'],'alias_1'].iloc[0]\n",
    "        if alias_1 is np.nan: # in case the individual does not have a nickname\n",
    "            alias_1 = ''\n",
    "\n",
    "        entity_2 = dict_individuals[df_connections.loc[row,'ind_2']]\n",
    "        alias_2 = df_individuals.loc[df_individuals.name == df_connections.loc[row,'ind_2'],'alias_1'].iloc[0]\n",
    "        if alias_2 is np.nan:\n",
    "            alias_2 = ''\n",
    "\n",
    "        df_connections.loc[row,'weight'] += detect_relationship(article, entity_1, alias_1, entity_2, alias_2)\n",
    "\n",
    "df_connections.to_csv('_aux/Connections between individuals - alliances.csv')"
   ]
  },
  {
   "cell_type": "code",
   "execution_count": 66,
   "id": "6f79abb9",
   "metadata": {},
   "outputs": [
    {
     "name": "stdout",
     "output_type": "stream",
     "text": [
      "_out/networks/individuals_alliances.html\n"
     ]
    }
   ],
   "source": [
    "g, nt = network_preparation(df_connections,dict_sizes)\n",
    "nt.show('_out/networks/individuals_alliances.html',notebook=False)"
   ]
  },
  {
   "cell_type": "markdown",
   "id": "f811419b",
   "metadata": {},
   "source": [
    "### Community detection (Louvain algorithm)"
   ]
  },
  {
   "cell_type": "code",
   "execution_count": 67,
   "id": "f50903b0",
   "metadata": {},
   "outputs": [
    {
     "name": "stdout",
     "output_type": "stream",
     "text": [
      "[['Pablo Escobar', 'Ariel Máximo Cantero', 'Diego Perez Henao', 'José Bayron Piedrahita Ceballos', 'Óscar Mauricio Pachón', 'Martin Farfan Diaz Gonzalez', 'Victor Navarro', 'Walid Makled', 'Diego Fernando Murillo Bejarano', 'Reynerio Flores Lazo', 'Pedro Oliverio Guerrero Castillo', 'Maximiliano Bonilla Orozco', 'Antonio Cardenas Guillen', 'Daniel Barrera Barrera', 'Luis Enrique Calle Serna', 'Javier Antonio Calle Serna'], ['Genaro García Luna', 'Dámaso López Núñez', 'Joaquín Guzmán Loera', 'Nemesio Oseguera Cervantes', 'Ismael Zambada García', 'José Adán Salazar Umaña', \"Juan Antonio 'Tony' Hernández Alvarado\", 'Luis Agustin Caicedo Velandia', 'Gustavo Aníbal Giraldo', 'Nicolás Rodríguez Bautista', 'Vicente Carrillo Fuentes', 'Hector Manuel Beltran Leyva'], ['Luciano Marín Arango', 'Ricardo Abel Ayala Orrego', 'Henry Castellanos Garzón', 'Seuxis Pausías Hernández', 'Hernán Darío Velásquez Saldarriaga', 'Miguel Botache Santillana', 'Néstor Gregorio Vera Fernández', 'José Vicente Lesmes', 'Walter Patricio Arizala', 'Victor Julio Suarez Rojas', 'Géner García Molina', 'Rodrigo Londoño Echeverri'], ['Jobanis de Jesús Ávila Villadiego', 'Dairo Antonio Úsuga', 'Juan de Dios Úsuga', 'Roberto Vargas Gutiérrez'], ['Héctor Rusthenford Guerrero Flores', 'Yeico Masacre'], ['Gilberto Aparecido Dos Santos', 'Marcos Willians Herbas Camacho'], ['Francisco Zeledon', 'Amauri Carmona Morelos'], ['Servando Gomez Martinez', 'Nazario Moreno Gonzalez']]\n"
     ]
    },
    {
     "ename": "NameError",
     "evalue": "name 'self' is not defined",
     "output_type": "error",
     "traceback": [
      "\u001b[0;31m---------------------------------------------------------------------------\u001b[0m",
      "\u001b[0;31mNameError\u001b[0m                                 Traceback (most recent call last)",
      "Cell \u001b[0;32mIn[67], line 4\u001b[0m\n\u001b[1;32m      1\u001b[0m partition \u001b[39m=\u001b[39m algorithms\u001b[39m.\u001b[39mlouvain(g, resolution\u001b[39m=\u001b[39m\u001b[39m1.\u001b[39m, randomize\u001b[39m=\u001b[39m\u001b[39mFalse\u001b[39;00m)\n\u001b[1;32m      2\u001b[0m \u001b[39mprint\u001b[39m(partition\u001b[39m.\u001b[39mcommunities) \u001b[39m# identified clustering\u001b[39;00m\n\u001b[0;32m----> 4\u001b[0m \u001b[39mfor\u001b[39;00m community,color_code \u001b[39min\u001b[39;00m \u001b[39mzip\u001b[39m(\u001b[39mself\u001b[39;49m\u001b[39m.\u001b[39mpartition\u001b[39m.\u001b[39mcommunities):            \n\u001b[1;32m      5\u001b[0m     \u001b[39mself\u001b[39m\u001b[39m.\u001b[39madd_node_attr(data\u001b[39m=\u001b[39m\u001b[39mself\u001b[39m\u001b[39m.\u001b[39mcolor_dict,attr_name\u001b[39m=\u001b[39m\u001b[39m'\u001b[39m\u001b[39mcolor\u001b[39m\u001b[39m'\u001b[39m)\n\u001b[1;32m      7\u001b[0m     \u001b[39mfor\u001b[39;00m node \u001b[39min\u001b[39;00m \u001b[39mself\u001b[39m\u001b[39m.\u001b[39mnt\u001b[39m.\u001b[39mnodes:\n",
      "\u001b[0;31mNameError\u001b[0m: name 'self' is not defined"
     ]
    }
   ],
   "source": [
    "partition = algorithms.louvain(g, resolution=1., randomize=False)\n",
    "print(partition.communities) # identified clustering\n",
    "\n",
    "for community,color_code in zip(self.partition.communities):            \n",
    "    self.add_node_attr(data=self.color_dict,attr_name='color')\n",
    "\n",
    "    for node in self.nt.nodes:\n",
    "                node_key = node[key]\n",
    "                try:\n",
    "                    node[attr_name] = data[node_key]\n",
    "                except:\n",
    "                    pass "
   ]
  },
  {
   "cell_type": "markdown",
   "id": "f8ad9f4e",
   "metadata": {},
   "source": [
    "### Preferential attachment mechanism"
   ]
  },
  {
   "cell_type": "markdown",
   "id": "586798ce",
   "metadata": {},
   "source": [
    "It would make sense to think that criminals prefer to form connections with other criminals that already have lots of connections (because they can offer more power and connections). This would be reflected in the degree distribution following a power law."
   ]
  },
  {
   "cell_type": "code",
   "execution_count": null,
   "id": "95a839bd",
   "metadata": {},
   "outputs": [],
   "source": []
  },
  {
   "cell_type": "markdown",
   "id": "51cfd2d1",
   "metadata": {},
   "source": [
    "### Validation"
   ]
  },
  {
   "cell_type": "markdown",
   "id": "3234ba0b",
   "metadata": {},
   "source": [
    "Pedro Oliverio Guerreiro and Henry de Jesús Lopez were both affiliated with the Centauros, an arm of the United Self-Defense Forces of Colombia (Autodefensas Unidas de Colombia - AUC).\n",
    "\n",
    "There is a strong connection between Hector Manuel Beltran Leyva and Pedro Oliverio Guerreiro, which is not corroborated by my web search. The same happens for Mi Sangre and El Chapo."
   ]
  },
  {
   "cell_type": "code",
   "execution_count": 68,
   "id": "71f71986",
   "metadata": {},
   "outputs": [
    {
     "data": {
      "text/plain": [
       "1737     https://insightcrime.org/news/analysis/morelos...\n",
       "1965     https://insightcrime.org/news/analysis/gamecha...\n",
       "2094     https://insightcrime.org/news/analysis/ayotzin...\n",
       "3005     https://insightcrime.org/news/analysis/narco-m...\n",
       "3342     https://insightcrime.org/news/brief/mexico-vig...\n",
       "                               ...                        \n",
       "9850     https://insightcrime.org/news/analysis/poverty...\n",
       "10237    https://insightcrime.org/news/analysis/insight...\n",
       "10460    https://insightcrime.org/news/analysis/insight...\n",
       "10570    https://insightcrime.org/news/analysis/2010-tr...\n",
       "10778    https://insightcrime.org/news/analysis/last-mo...\n",
       "Name: url, Length: 74, dtype: object"
      ]
     },
     "execution_count": 68,
     "metadata": {},
     "output_type": "execute_result"
    }
   ],
   "source": [
    "df_articles[(df_articles.text.str.contains('Guerrero')) & (df_articles.text.str.contains('Beltran Leyva'))].url"
   ]
  },
  {
   "cell_type": "code",
   "execution_count": 69,
   "id": "2f15ede3",
   "metadata": {},
   "outputs": [
    {
     "data": {
      "text/html": [
       "<div>\n",
       "<style scoped>\n",
       "    .dataframe tbody tr th:only-of-type {\n",
       "        vertical-align: middle;\n",
       "    }\n",
       "\n",
       "    .dataframe tbody tr th {\n",
       "        vertical-align: top;\n",
       "    }\n",
       "\n",
       "    .dataframe thead th {\n",
       "        text-align: right;\n",
       "    }\n",
       "</style>\n",
       "<table border=\"1\" class=\"dataframe\">\n",
       "  <thead>\n",
       "    <tr style=\"text-align: right;\">\n",
       "      <th></th>\n",
       "      <th>ind_1</th>\n",
       "      <th>ind_2</th>\n",
       "      <th>weight</th>\n",
       "    </tr>\n",
       "  </thead>\n",
       "  <tbody>\n",
       "    <tr>\n",
       "      <th>2626</th>\n",
       "      <td>Nemesio Oseguera Cervantes</td>\n",
       "      <td>Joaquín Guzmán Loera</td>\n",
       "      <td>7</td>\n",
       "    </tr>\n",
       "    <tr>\n",
       "      <th>3910</th>\n",
       "      <td>Diego Perez Henao</td>\n",
       "      <td>Luis Enrique Calle Serna</td>\n",
       "      <td>6</td>\n",
       "    </tr>\n",
       "    <tr>\n",
       "      <th>3811</th>\n",
       "      <td>Joaquín Guzmán Loera</td>\n",
       "      <td>Ismael Zambada García</td>\n",
       "      <td>6</td>\n",
       "    </tr>\n",
       "    <tr>\n",
       "      <th>658</th>\n",
       "      <td>Pablo Escobar</td>\n",
       "      <td>Maximiliano Bonilla Orozco</td>\n",
       "      <td>5</td>\n",
       "    </tr>\n",
       "    <tr>\n",
       "      <th>2265</th>\n",
       "      <td>Miguel Botache Santillana</td>\n",
       "      <td>Néstor Gregorio Vera Fernández</td>\n",
       "      <td>4</td>\n",
       "    </tr>\n",
       "    <tr>\n",
       "      <th>3777</th>\n",
       "      <td>Maximiliano Bonilla Orozco</td>\n",
       "      <td>Luis Enrique Calle Serna</td>\n",
       "      <td>4</td>\n",
       "    </tr>\n",
       "    <tr>\n",
       "      <th>3776</th>\n",
       "      <td>Maximiliano Bonilla Orozco</td>\n",
       "      <td>Diego Perez Henao</td>\n",
       "      <td>4</td>\n",
       "    </tr>\n",
       "    <tr>\n",
       "      <th>649</th>\n",
       "      <td>Pablo Escobar</td>\n",
       "      <td>Dairo Antonio Úsuga</td>\n",
       "      <td>3</td>\n",
       "    </tr>\n",
       "    <tr>\n",
       "      <th>661</th>\n",
       "      <td>Pablo Escobar</td>\n",
       "      <td>Joaquín Guzmán Loera</td>\n",
       "      <td>3</td>\n",
       "    </tr>\n",
       "    <tr>\n",
       "      <th>2303</th>\n",
       "      <td>Miguel Botache Santillana</td>\n",
       "      <td>Luciano Marín Arango</td>\n",
       "      <td>3</td>\n",
       "    </tr>\n",
       "    <tr>\n",
       "      <th>2622</th>\n",
       "      <td>Nemesio Oseguera Cervantes</td>\n",
       "      <td>Vicente Carrillo Fuentes</td>\n",
       "      <td>3</td>\n",
       "    </tr>\n",
       "    <tr>\n",
       "      <th>331</th>\n",
       "      <td>Genaro García Luna</td>\n",
       "      <td>Joaquín Guzmán Loera</td>\n",
       "      <td>3</td>\n",
       "    </tr>\n",
       "    <tr>\n",
       "      <th>624</th>\n",
       "      <td>Pablo Escobar</td>\n",
       "      <td>Nemesio Oseguera Cervantes</td>\n",
       "      <td>3</td>\n",
       "    </tr>\n",
       "    <tr>\n",
       "      <th>2486</th>\n",
       "      <td>Dámaso López Núñez</td>\n",
       "      <td>Nemesio Oseguera Cervantes</td>\n",
       "      <td>3</td>\n",
       "    </tr>\n",
       "    <tr>\n",
       "      <th>2523</th>\n",
       "      <td>Dámaso López Núñez</td>\n",
       "      <td>Joaquín Guzmán Loera</td>\n",
       "      <td>3</td>\n",
       "    </tr>\n",
       "    <tr>\n",
       "      <th>3913</th>\n",
       "      <td>Luis Enrique Calle Serna</td>\n",
       "      <td>Javier Antonio Calle Serna</td>\n",
       "      <td>3</td>\n",
       "    </tr>\n",
       "    <tr>\n",
       "      <th>2627</th>\n",
       "      <td>Nemesio Oseguera Cervantes</td>\n",
       "      <td>Ismael Zambada García</td>\n",
       "      <td>3</td>\n",
       "    </tr>\n",
       "    <tr>\n",
       "      <th>2519</th>\n",
       "      <td>Dámaso López Núñez</td>\n",
       "      <td>Vicente Carrillo Fuentes</td>\n",
       "      <td>2</td>\n",
       "    </tr>\n",
       "    <tr>\n",
       "      <th>3092</th>\n",
       "      <td>Walid Makled</td>\n",
       "      <td>Diego Perez Henao</td>\n",
       "      <td>2</td>\n",
       "    </tr>\n",
       "    <tr>\n",
       "      <th>3093</th>\n",
       "      <td>Walid Makled</td>\n",
       "      <td>Luis Enrique Calle Serna</td>\n",
       "      <td>2</td>\n",
       "    </tr>\n",
       "    <tr>\n",
       "      <th>2069</th>\n",
       "      <td>Hernán Darío Velásquez Saldarriaga</td>\n",
       "      <td>Luciano Marín Arango</td>\n",
       "      <td>2</td>\n",
       "    </tr>\n",
       "    <tr>\n",
       "      <th>1441</th>\n",
       "      <td>Gilberto Aparecido Dos Santos</td>\n",
       "      <td>Marcos Willians Herbas Camacho</td>\n",
       "      <td>2</td>\n",
       "    </tr>\n",
       "    <tr>\n",
       "      <th>3748</th>\n",
       "      <td>Vicente Carrillo Fuentes</td>\n",
       "      <td>Joaquín Guzmán Loera</td>\n",
       "      <td>2</td>\n",
       "    </tr>\n",
       "    <tr>\n",
       "      <th>2008</th>\n",
       "      <td>Seuxis Pausías Hernández</td>\n",
       "      <td>Luciano Marín Arango</td>\n",
       "      <td>2</td>\n",
       "    </tr>\n",
       "    <tr>\n",
       "      <th>2376</th>\n",
       "      <td>Géner García Molina</td>\n",
       "      <td>Néstor Gregorio Vera Fernández</td>\n",
       "      <td>2</td>\n",
       "    </tr>\n",
       "    <tr>\n",
       "      <th>3911</th>\n",
       "      <td>Diego Perez Henao</td>\n",
       "      <td>Javier Antonio Calle Serna</td>\n",
       "      <td>2</td>\n",
       "    </tr>\n",
       "    <tr>\n",
       "      <th>2264</th>\n",
       "      <td>Miguel Botache Santillana</td>\n",
       "      <td>Géner García Molina</td>\n",
       "      <td>2</td>\n",
       "    </tr>\n",
       "    <tr>\n",
       "      <th>635</th>\n",
       "      <td>Pablo Escobar</td>\n",
       "      <td>Diego Fernando Murillo Bejarano</td>\n",
       "      <td>2</td>\n",
       "    </tr>\n",
       "    <tr>\n",
       "      <th>1967</th>\n",
       "      <td>Seuxis Pausías Hernández</td>\n",
       "      <td>Miguel Botache Santillana</td>\n",
       "      <td>2</td>\n",
       "    </tr>\n",
       "    <tr>\n",
       "      <th>3028</th>\n",
       "      <td>Roberto Vargas Gutiérrez</td>\n",
       "      <td>Dairo Antonio Úsuga</td>\n",
       "      <td>2</td>\n",
       "    </tr>\n",
       "  </tbody>\n",
       "</table>\n",
       "</div>"
      ],
      "text/plain": [
       "                                   ind_1                            ind_2  \\\n",
       "2626          Nemesio Oseguera Cervantes             Joaquín Guzmán Loera   \n",
       "3910                   Diego Perez Henao         Luis Enrique Calle Serna   \n",
       "3811                Joaquín Guzmán Loera            Ismael Zambada García   \n",
       "658                        Pablo Escobar       Maximiliano Bonilla Orozco   \n",
       "2265           Miguel Botache Santillana   Néstor Gregorio Vera Fernández   \n",
       "3777          Maximiliano Bonilla Orozco         Luis Enrique Calle Serna   \n",
       "3776          Maximiliano Bonilla Orozco                Diego Perez Henao   \n",
       "649                        Pablo Escobar              Dairo Antonio Úsuga   \n",
       "661                        Pablo Escobar             Joaquín Guzmán Loera   \n",
       "2303           Miguel Botache Santillana             Luciano Marín Arango   \n",
       "2622          Nemesio Oseguera Cervantes         Vicente Carrillo Fuentes   \n",
       "331                   Genaro García Luna             Joaquín Guzmán Loera   \n",
       "624                        Pablo Escobar       Nemesio Oseguera Cervantes   \n",
       "2486                  Dámaso López Núñez       Nemesio Oseguera Cervantes   \n",
       "2523                  Dámaso López Núñez             Joaquín Guzmán Loera   \n",
       "3913            Luis Enrique Calle Serna       Javier Antonio Calle Serna   \n",
       "2627          Nemesio Oseguera Cervantes            Ismael Zambada García   \n",
       "2519                  Dámaso López Núñez         Vicente Carrillo Fuentes   \n",
       "3092                        Walid Makled                Diego Perez Henao   \n",
       "3093                        Walid Makled         Luis Enrique Calle Serna   \n",
       "2069  Hernán Darío Velásquez Saldarriaga             Luciano Marín Arango   \n",
       "1441       Gilberto Aparecido Dos Santos   Marcos Willians Herbas Camacho   \n",
       "3748            Vicente Carrillo Fuentes             Joaquín Guzmán Loera   \n",
       "2008            Seuxis Pausías Hernández             Luciano Marín Arango   \n",
       "2376                 Géner García Molina   Néstor Gregorio Vera Fernández   \n",
       "3911                   Diego Perez Henao       Javier Antonio Calle Serna   \n",
       "2264           Miguel Botache Santillana              Géner García Molina   \n",
       "635                        Pablo Escobar  Diego Fernando Murillo Bejarano   \n",
       "1967            Seuxis Pausías Hernández        Miguel Botache Santillana   \n",
       "3028            Roberto Vargas Gutiérrez              Dairo Antonio Úsuga   \n",
       "\n",
       "      weight  \n",
       "2626       7  \n",
       "3910       6  \n",
       "3811       6  \n",
       "658        5  \n",
       "2265       4  \n",
       "3777       4  \n",
       "3776       4  \n",
       "649        3  \n",
       "661        3  \n",
       "2303       3  \n",
       "2622       3  \n",
       "331        3  \n",
       "624        3  \n",
       "2486       3  \n",
       "2523       3  \n",
       "3913       3  \n",
       "2627       3  \n",
       "2519       2  \n",
       "3092       2  \n",
       "3093       2  \n",
       "2069       2  \n",
       "1441       2  \n",
       "3748       2  \n",
       "2008       2  \n",
       "2376       2  \n",
       "3911       2  \n",
       "2264       2  \n",
       "635        2  \n",
       "1967       2  \n",
       "3028       2  "
      ]
     },
     "execution_count": 69,
     "metadata": {},
     "output_type": "execute_result"
    }
   ],
   "source": [
    "df_connections.sort_values('weight',ascending=False).head(30)"
   ]
  },
  {
   "cell_type": "markdown",
   "id": "01095e59",
   "metadata": {},
   "source": [
    "# Groups"
   ]
  },
  {
   "cell_type": "markdown",
   "id": "d598a656",
   "metadata": {},
   "source": []
  }
 ],
 "metadata": {
  "kernelspec": {
   "display_name": "Python 3 (ipykernel)",
   "language": "python",
   "name": "python3"
  },
  "language_info": {
   "codemirror_mode": {
    "name": "ipython",
    "version": 3
   },
   "file_extension": ".py",
   "mimetype": "text/x-python",
   "name": "python",
   "nbconvert_exporter": "python",
   "pygments_lexer": "ipython3",
   "version": "3.10.9"
  },
  "toc": {
   "base_numbering": 1,
   "nav_menu": {},
   "number_sections": true,
   "sideBar": true,
   "skip_h1_title": false,
   "title_cell": "Table of Contents",
   "title_sidebar": "Contents",
   "toc_cell": false,
   "toc_position": {
    "height": "calc(100% - 180px)",
    "left": "10px",
    "top": "150px",
    "width": "285.275px"
   },
   "toc_section_display": true,
   "toc_window_display": true
  }
 },
 "nbformat": 4,
 "nbformat_minor": 5
}
