{
 "cells": [
  {
   "cell_type": "markdown",
   "id": "d3631259",
   "metadata": {},
   "source": [
    "# Packages"
   ]
  },
  {
   "cell_type": "code",
   "execution_count": 12,
   "id": "30afc9c7",
   "metadata": {},
   "outputs": [],
   "source": [
    "import pandas as pd\n",
    "import numpy as np\n",
    "import itertools\n",
    "import networkx as nx\n",
    "import pyvis\n",
    "import igraph as i\n",
    "import matplotlib.pyplot as plt\n",
    "from collections import Counter\n",
    "import string\n",
    "from tqdm import tqdm\n",
    "import re\n",
    "from concurrent.futures import ThreadPoolExecutor, as_completed"
   ]
  },
  {
   "cell_type": "code",
   "execution_count": 13,
   "id": "3e661071",
   "metadata": {},
   "outputs": [],
   "source": [
    "df_articles = pd.read_csv('_raw/articles_scraped.csv')"
   ]
  },
  {
   "cell_type": "code",
   "execution_count": 14,
   "id": "6cce8b1b",
   "metadata": {},
   "outputs": [],
   "source": [
    "def prepare_df_connections(iterable):\n",
    "    value_combinations = list(itertools.combinations(iterable, 2))\n",
    "    df_connections = pd.DataFrame(value_combinations, columns=['ind_1','ind_2'])\n",
    "    df_connections['weight'] = 0\n",
    "    df_connections.reset_index(drop=True, inplace=True)\n",
    "\n",
    "    return df_connections"
   ]
  },
  {
   "cell_type": "code",
   "execution_count": 15,
   "id": "b0489844",
   "metadata": {},
   "outputs": [],
   "source": [
    "def network_preparation(df_connections,dict_sizes): # df_connections is a dataframe of weighted edges\n",
    "    elist = list(zip(df_connections['ind_1'],df_connections['ind_2'],df_connections['weight']))\n",
    "    g = nx.Graph()\n",
    "    g.add_weighted_edges_from([(el[0],el[1],el[2]) for el in elist if el[2]!=0])\n",
    "\n",
    "    nt = pyvis.network.Network('1500px','1500px', bgcolor=\"#222222\", font_color=\"white\") #,select_menu=True,filter_menu=True)\n",
    "    nt.barnes_hut()\n",
    "    nt.from_nx(g) \n",
    "    nt.toggle_physics(True)\n",
    "\n",
    "    for node in nt.nodes:\n",
    "        node['font']['size'] = 100\n",
    "        node['shape'] = 'circularImage'\n",
    "        node['image'] = f\"/Users/federico.bindi/Desktop/GitHub/organized-crime-articles/_aux/pictures/{node['id']}.png\"\n",
    "        node['size'] = dict_sizes[node['id']]\n",
    "\n",
    "    return g,nt"
   ]
  },
  {
   "cell_type": "markdown",
   "id": "c9e4a516",
   "metadata": {},
   "source": [
    "# Individuals"
   ]
  },
  {
   "cell_type": "code",
   "execution_count": 16,
   "id": "c34fe8af",
   "metadata": {},
   "outputs": [],
   "source": [
    "df_individuals = pd.read_csv('_raw/individuals.csv')"
   ]
  },
  {
   "cell_type": "code",
   "execution_count": 17,
   "id": "6b5245ca",
   "metadata": {},
   "outputs": [],
   "source": [
    "dict_individuals = dict(zip(df_individuals.name,df_individuals.search_term))"
   ]
  },
  {
   "cell_type": "code",
   "execution_count": 18,
   "id": "dd8e98bc",
   "metadata": {},
   "outputs": [],
   "source": [
    "dict_sizes = {}\n",
    "for name in df_individuals.name.values:\n",
    "    dict_sizes[name] = 0\n",
    "    for article in df_articles.text.values:\n",
    "        if dict_individuals[name] in article:\n",
    "            dict_sizes[name] += 1"
   ]
  },
  {
   "cell_type": "markdown",
   "id": "2e2de0d2",
   "metadata": {},
   "source": [
    "## Network of mentions"
   ]
  },
  {
   "cell_type": "markdown",
   "id": "041ac829",
   "metadata": {},
   "source": [
    "### Preparation"
   ]
  },
  {
   "cell_type": "code",
   "execution_count": 19,
   "id": "3f4cf852",
   "metadata": {},
   "outputs": [],
   "source": [
    "df_connections = prepare_df_connections(df_individuals.name.values)"
   ]
  },
  {
   "cell_type": "code",
   "execution_count": 20,
   "id": "b13322ed",
   "metadata": {},
   "outputs": [
    {
     "name": "stderr",
     "output_type": "stream",
     "text": [
      "100%|██████████| 10786/10786 [03:09<00:00, 56.77it/s]\n"
     ]
    }
   ],
   "source": [
    "for article in tqdm(df_articles.text.values):\n",
    "    for row in range(len(df_connections)):\n",
    "        if dict_individuals[df_connections.loc[row,'ind_1']] in article and dict_individuals[df_connections.loc[row,'ind_2']] in article:\n",
    "            df_connections.loc[row,'weight'] += 1"
   ]
  },
  {
   "cell_type": "markdown",
   "id": "3ead6b96",
   "metadata": {},
   "source": [
    "### Visualisation"
   ]
  },
  {
   "cell_type": "code",
   "execution_count": 21,
   "id": "00679b1f",
   "metadata": {
    "scrolled": true
   },
   "outputs": [
    {
     "name": "stdout",
     "output_type": "stream",
     "text": [
      "_out/networks/individuals.html\n"
     ]
    }
   ],
   "source": [
    "g,nt = network_preparation(df_connections,dict_sizes)\n",
    "nt.show('_out/networks/individuals.html',notebook=False)"
   ]
  },
  {
   "cell_type": "markdown",
   "id": "51cfd2d1",
   "metadata": {},
   "source": [
    "### Validation"
   ]
  },
  {
   "cell_type": "markdown",
   "id": "3234ba0b",
   "metadata": {},
   "source": [
    "Pedro Oliverio Guerreiro and Henry de Jesús Lopez were both affiliated with the Centauros, an arm of the United Self-Defense Forces of Colombia (Autodefensas Unidas de Colombia - AUC).\n",
    "\n",
    "There is a strong connection between Hector Manuel Beltran Leyva and Pedro Oliverio Guerreiro, which is not corroborated by my web search. The same happens for Mi Sangre and El Chapo."
   ]
  },
  {
   "cell_type": "markdown",
   "id": "f7e850fb",
   "metadata": {},
   "source": [
    "## Network of alliances"
   ]
  },
  {
   "cell_type": "markdown",
   "id": "e5705c4d",
   "metadata": {},
   "source": [
    "### Preparation"
   ]
  },
  {
   "cell_type": "code",
   "execution_count": 22,
   "id": "80c398ed",
   "metadata": {},
   "outputs": [],
   "source": [
    "df_connections2 = prepare_df_connections(df_individuals.name.values)"
   ]
  },
  {
   "cell_type": "markdown",
   "id": "60068c91",
   "metadata": {},
   "source": [
    "Theoretically, we can analyse articles from 4 points of view:\n",
    "1. Keyword extraction\n",
    "2. Co-occurrence analysis (how many times two bosses' names appear close in an article)\n",
    "3. Sentiment analysis on the articles\n",
    "\n",
    "Points 2 and 3 are probably not useful: two bosses will appear closely in an article also if they are rival, and the articles are very likely to receive a negative sentiment classification anyway."
   ]
  },
  {
   "cell_type": "code",
   "execution_count": 23,
   "id": "f5336744",
   "metadata": {},
   "outputs": [],
   "source": [
    "'''alliance_keywords = [\n",
    "    \"alliance\",\"allies\", \"partnership\", \"cooperation\", \"collaboration\", \"joint venture\",\n",
    "    \"joint operation\", \"mutual support\", \"united front\", \"solidarity\", \"working together\",\n",
    "    \"comradeship\", \"coalition\", \"teaming up\", \"combine forces\", \"coordinated effort\",\n",
    "    \"combined operations\", \"coordinated strategy\", \"harmonious relationship\", \"allied forces\",\n",
    "    \"mutual assistance\"\n",
    "]\n",
    "\n",
    "rivalry_keywords = [\n",
    "    \"rivalry\", \"conflict\", \"competition\", \"feud\", \"hostility\", \"animosity\", \"enemies\",\n",
    "    \"contention\", \"dispute\", \"antagonism\", \"clash\", \"enmity\", \"competition for territory\",\n",
    "    \"power struggle\", \"bitter rivalry\", \"ongoing feud\", \"turf war\", \"opposing forces\",\n",
    "    \"confrontational relationship\", \"longstanding dispute\", \"battle for supremacy\"\n",
    "]'''\n",
    "\n",
    "# Alliance Keywords with Regex Variations\n",
    "alliance_keywords = [\n",
    "    r\"alliance\", r\"partner(s|ship|ing)?\", r\"cooperation\", r\"collaboration\",\n",
    "    r\"joint venture\", r\"mutual support\", r\"united front\", r\"solidarity\",\n",
    "    r\"work(ing)? together\", r\"coalition\", r\"team(ing)? up\", r\"combine(d)? forces\",\n",
    "    r\"coordinated effort\", r\"combined operations\", r\"coordinated strategy\",\n",
    "    r\"harmonious relationship\", r\"allied forces\", r\"mutual assistance\"\n",
    "]\n",
    "\n",
    "# Rivalry Keywords with Regex Variations\n",
    "rivalry_keywords = [\n",
    "    r\"rivalry\", r\"conflict\", r\"competition\", r\"feud\", r\"hostility\", r\"animosity\",\n",
    "    r\"contention\", r\"dispute\", r\"antagonism\", r\"clash\", r\"enmity\",\n",
    "    r\"competition for territory\", r\"power struggle\", r\"bitter rivalry\",\n",
    "    r\"ongoing feud\", r\"turf war\", r\"opposing forces\",\n",
    "    r\"confrontational relationship\", r\"longstanding dispute\",\n",
    "    r\"battle for supremacy\"\n",
    "]"
   ]
  },
  {
   "cell_type": "code",
   "execution_count": 24,
   "id": "ca0289e8",
   "metadata": {},
   "outputs": [
    {
     "data": {
      "text/plain": [
       "NoneType"
      ]
     },
     "execution_count": 24,
     "metadata": {},
     "output_type": "execute_result"
    }
   ],
   "source": [
    "type(re.search(r\"partner(s|ship|ing)?\",\"diocan\"))"
   ]
  },
  {
   "cell_type": "code",
   "execution_count": 25,
   "id": "19663c33",
   "metadata": {},
   "outputs": [],
   "source": [
    "def clean_text(text):\n",
    "    # Create a translation table that maps punctuation characters to None\n",
    "    translator = str.maketrans(string.punctuation, \" \" * len(string.punctuation))\n",
    "    \n",
    "    # Use the translate method to remove punctuation\n",
    "    cleaned_text = text.lower().translate(translator)\n",
    "    \n",
    "    return cleaned_text"
   ]
  },
  {
   "cell_type": "code",
   "execution_count": 26,
   "id": "d744c071",
   "metadata": {},
   "outputs": [],
   "source": [
    "def count_words_in_text(keyword_list, text):\n",
    "    \n",
    "    counter = 0\n",
    "    target_words = text.split()\n",
    "\n",
    "    for keyword in keyword_list:\n",
    "        matches = [1 if re.search(keyword,word) is not None else 0 for word in target_words]\n",
    "        counter += sum(matches)\n",
    "    \n",
    "    return counter"
   ]
  },
  {
   "cell_type": "code",
   "execution_count": 27,
   "id": "ec928ef6",
   "metadata": {},
   "outputs": [],
   "source": [
    "def detect_relationship(text, entity_1, entity_2):\n",
    "\n",
    "    if entity_1 in text and entity_2 in text:\n",
    "\n",
    "        alliance_score = count_words_in_text(alliance_keywords,clean_text(text))\n",
    "        rivalry_score = count_words_in_text(rivalry_keywords,clean_text(text))\n",
    "\n",
    "        if alliance_score > rivalry_score:\n",
    "            return 1\n",
    "        else:\n",
    "            return 0\n",
    "        \n",
    "    else:\n",
    "        return 0"
   ]
  },
  {
   "cell_type": "code",
   "execution_count": 28,
   "id": "c80ef49f",
   "metadata": {},
   "outputs": [
    {
     "name": "stderr",
     "output_type": "stream",
     "text": [
      "100%|██████████| 10786/10786 [35:40<00:00,  5.04it/s]\n"
     ]
    }
   ],
   "source": [
    "for article in tqdm(df_articles.text.values):\n",
    "    for row in range(len(df_connections2)):\n",
    "        df_connections2.loc[row,'weight'] += detect_relationship(article,dict_individuals[df_connections2.loc[row,'ind_1']],dict_individuals[df_connections2.loc[row,'ind_2']])"
   ]
  },
  {
   "cell_type": "code",
   "execution_count": 29,
   "id": "462863e5",
   "metadata": {},
   "outputs": [
    {
     "data": {
      "text/plain": [
       "\"def update_weight(row, article, dict_individuals):\\n    ind_1 = df_connections2.loc[row, 'ind_1']\\n    ind_2 = df_connections2.loc[row, 'ind_2']\\n    weight_increment = detect_relationship(article, dict_individuals[ind_1], dict_individuals[ind_2])\\n    return weight_increment\\n\\n# Create a ThreadPoolExecutor with a specified number of threads\\nmax_threads = 8  # Adjust the number of threads as needed\\nwith ThreadPoolExecutor(max_threads) as executor:\\n    for article in tqdm(df_articles.text.values):\\n        futures = []\\n        for row in range(len(df_connections2)):\\n            future = executor.submit(update_weight, row, article, dict_individuals)\\n            futures.append(future)\\n        for row, future in enumerate(futures):\\n            weight_increment = future.result()\\n            df_connections2.loc[row, 'weight'] += weight_increment\""
      ]
     },
     "execution_count": 29,
     "metadata": {},
     "output_type": "execute_result"
    }
   ],
   "source": [
    "'''def update_weight(row, article, dict_individuals):\n",
    "    ind_1 = df_connections2.loc[row, 'ind_1']\n",
    "    ind_2 = df_connections2.loc[row, 'ind_2']\n",
    "    weight_increment = detect_relationship(article, dict_individuals[ind_1], dict_individuals[ind_2])\n",
    "    return weight_increment\n",
    "\n",
    "# Create a ThreadPoolExecutor with a specified number of threads\n",
    "max_threads = 8  # Adjust the number of threads as needed\n",
    "with ThreadPoolExecutor(max_threads) as executor:\n",
    "    for article in tqdm(df_articles.text.values):\n",
    "        futures = []\n",
    "        for row in range(len(df_connections2)):\n",
    "            future = executor.submit(update_weight, row, article, dict_individuals)\n",
    "            futures.append(future)\n",
    "        for row, future in enumerate(futures):\n",
    "            weight_increment = future.result()\n",
    "            df_connections2.loc[row, 'weight'] += weight_increment'''\n"
   ]
  },
  {
   "cell_type": "code",
   "execution_count": 30,
   "id": "6f79abb9",
   "metadata": {},
   "outputs": [
    {
     "name": "stdout",
     "output_type": "stream",
     "text": [
      "_out/networks/individuals_alliances.html\n"
     ]
    }
   ],
   "source": [
    "g2, nt2 = network_preparation(df_connections2,dict_sizes)\n",
    "nt2.show('_out/networks/individuals_alliances.html',notebook=False)"
   ]
  },
  {
   "cell_type": "markdown",
   "id": "01095e59",
   "metadata": {},
   "source": [
    "# Groups"
   ]
  }
 ],
 "metadata": {
  "kernelspec": {
   "display_name": "Python 3 (ipykernel)",
   "language": "python",
   "name": "python3"
  },
  "language_info": {
   "codemirror_mode": {
    "name": "ipython",
    "version": 3
   },
   "file_extension": ".py",
   "mimetype": "text/x-python",
   "name": "python",
   "nbconvert_exporter": "python",
   "pygments_lexer": "ipython3",
   "version": "3.10.9"
  },
  "toc": {
   "base_numbering": 1,
   "nav_menu": {},
   "number_sections": true,
   "sideBar": true,
   "skip_h1_title": false,
   "title_cell": "Table of Contents",
   "title_sidebar": "Contents",
   "toc_cell": false,
   "toc_position": {
    "height": "calc(100% - 180px)",
    "left": "10px",
    "top": "150px",
    "width": "285.275px"
   },
   "toc_section_display": true,
   "toc_window_display": true
  }
 },
 "nbformat": 4,
 "nbformat_minor": 5
}
