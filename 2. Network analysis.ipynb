{
 "cells": [
  {
   "cell_type": "markdown",
   "id": "d3631259",
   "metadata": {},
   "source": [
    "# Packages"
   ]
  },
  {
   "cell_type": "code",
   "execution_count": 19,
   "id": "30afc9c7",
   "metadata": {},
   "outputs": [],
   "source": [
    "import pandas as pd\n",
    "import numpy as np\n",
    "import itertools\n",
    "import networkx as nx\n",
    "import pyvis\n",
    "import igraph as i\n",
    "import matplotlib.pyplot as plt\n",
    "from collections import Counter\n",
    "import string\n",
    "from tqdm import tqdm\n",
    "import re\n",
    "from cdlib import algorithms\n",
    "from concurrent.futures import ThreadPoolExecutor\n",
    "import powerlaw\n",
    "import pickle"
   ]
  },
  {
   "cell_type": "code",
   "execution_count": 2,
   "id": "3e661071",
   "metadata": {},
   "outputs": [],
   "source": [
    "df_articles = pd.read_csv('_raw/articles_scraped.csv')"
   ]
  },
  {
   "cell_type": "code",
   "execution_count": 28,
   "id": "6cce8b1b",
   "metadata": {},
   "outputs": [],
   "source": [
    "def prepare_df_connections(iterable):\n",
    "    value_combinations = list(itertools.combinations(iterable, 2))\n",
    "    df_connections = pd.DataFrame(value_combinations, columns=['entity_1','entity_2'])\n",
    "    df_connections['weight'] = 0\n",
    "    df_connections.reset_index(drop=True, inplace=True)\n",
    "\n",
    "    return df_connections"
   ]
  },
  {
   "cell_type": "code",
   "execution_count": 29,
   "id": "b0489844",
   "metadata": {},
   "outputs": [],
   "source": [
    "def network_preparation(df_connections,dict_sizes): # df_connections is a dataframe of weighted edges\n",
    "    elist = list(zip(df_connections['entity_1'],df_connections['entity_2'],df_connections['weight']))\n",
    "    g = nx.Graph()\n",
    "    g.add_weighted_edges_from([(el[0],el[1],el[2]) for el in elist if el[2]!=0])\n",
    "\n",
    "    nt = pyvis.network.Network('1500px','1500px', bgcolor=\"#222222\", font_color=\"white\") #,select_menu=True,filter_menu=True)\n",
    "    nt.barnes_hut()\n",
    "    nt.from_nx(g) \n",
    "    nt.toggle_physics(True)\n",
    "\n",
    "    for node in nt.nodes:\n",
    "        node['font']['size'] = 100\n",
    "        node['shape'] = 'circularImage'\n",
    "        node['image'] = f\"/Users/federico.bindi/Desktop/GitHub/organized-crime-articles/_aux/pictures/{node['id']}.png\"\n",
    "        node['size'] = dict_sizes[node['id']]\n",
    "\n",
    "    return g,nt"
   ]
  },
  {
   "cell_type": "markdown",
   "id": "c9e4a516",
   "metadata": {},
   "source": [
    "# Individuals"
   ]
  },
  {
   "cell_type": "markdown",
   "id": "e5705c4d",
   "metadata": {},
   "source": [
    "## Preparation"
   ]
  },
  {
   "cell_type": "code",
   "execution_count": 5,
   "id": "c34fe8af",
   "metadata": {},
   "outputs": [],
   "source": [
    "df_individuals = pd.read_csv('_raw/individuals.csv')"
   ]
  },
  {
   "cell_type": "code",
   "execution_count": 6,
   "id": "6b5245ca",
   "metadata": {},
   "outputs": [],
   "source": [
    "dict_individuals = dict(zip(df_individuals.name,df_individuals.search_term))"
   ]
  },
  {
   "cell_type": "code",
   "execution_count": 7,
   "id": "dd8e98bc",
   "metadata": {},
   "outputs": [],
   "source": [
    "dict_sizes = {}\n",
    "for name in df_individuals.name.values:\n",
    "    dict_sizes[name] = 0\n",
    "    for article in df_articles.text.values:\n",
    "        if dict_individuals[name] in article:\n",
    "            dict_sizes[name] += 1"
   ]
  },
  {
   "cell_type": "code",
   "execution_count": 8,
   "id": "80c398ed",
   "metadata": {},
   "outputs": [],
   "source": [
    "df_connections = prepare_df_connections(df_individuals.name.values)"
   ]
  },
  {
   "cell_type": "markdown",
   "id": "60068c91",
   "metadata": {},
   "source": [
    "Theoretically, we can analyse articles from 4 points of view:\n",
    "1. Keyword extraction\n",
    "2. Co-occurrence analysis (how many times two bosses' names appear close in an article)\n",
    "3. Sentiment analysis on the articles\n",
    "\n",
    "Points 2 and 3 are probably not useful: two bosses will appear closely in an article also if they are rival, and the articles are very likely to receive a negative sentiment classification anyway."
   ]
  },
  {
   "cell_type": "code",
   "execution_count": 9,
   "id": "f5336744",
   "metadata": {},
   "outputs": [],
   "source": [
    "# Alliance Keywords with Regex Variations\n",
    "alliance_keywords = [\n",
    "    r\"alliance\", r\"partner(s|ship|ing)?\", r\"cooperation\", r\"collaboration\",\n",
    "    r\"joint venture\", r\"mutual support\", r\"united front\", r\"solidarity\",\n",
    "    r\"work(ing)? together\", r\"coalition\", r\"team(ing)? up\", r\"combine(d)? forces\",\n",
    "    r\"coordinated effort\", r\"combined operations\", r\"coordinated strategy\",\n",
    "    r\"harmonious relationship\", r\"allied forces\", r\"mutual assistance\"\n",
    "]\n",
    "\n",
    "# Rivalry Keywords with Regex Variations\n",
    "rivalry_keywords = [\n",
    "    r\"rivalry\", r\"conflict\", r\"competition\", r\"feud\", r\"hostility\", r\"animosity\",\n",
    "    r\"contention\", r\"dispute\", r\"antagonism\", r\"clash\", r\"enmity\",\n",
    "    r\"competition for territory\", r\"power struggle\", r\"bitter rivalry\",\n",
    "    r\"ongoing feud\", r\"turf war\", r\"opposing forces\",\n",
    "    r\"confrontational relationship\", r\"longstanding dispute\",\n",
    "    r\"battle for supremacy\"\n",
    "]"
   ]
  },
  {
   "cell_type": "code",
   "execution_count": 10,
   "id": "d744c071",
   "metadata": {},
   "outputs": [],
   "source": [
    "def count_words_in_text(keyword_list, text):\n",
    "    \n",
    "    counter = 0\n",
    "    target_words = text.split()\n",
    "\n",
    "    for keyword in keyword_list:\n",
    "        matches = [1 if re.search(keyword,word) is not None else 0 for word in target_words]\n",
    "        counter += sum(matches)\n",
    "    \n",
    "    return counter"
   ]
  },
  {
   "cell_type": "code",
   "execution_count": 11,
   "id": "19663c33",
   "metadata": {},
   "outputs": [],
   "source": [
    "def clean_text(text):\n",
    "    # Create a translation table that maps punctuation characters to None\n",
    "    translator = str.maketrans(string.punctuation, \" \" * len(string.punctuation))\n",
    "    \n",
    "    # Use the translate method to remove punctuation\n",
    "    cleaned_text = text.lower().translate(translator)\n",
    "    \n",
    "    return cleaned_text"
   ]
  },
  {
   "cell_type": "code",
   "execution_count": 12,
   "id": "ec928ef6",
   "metadata": {},
   "outputs": [],
   "source": [
    "def detect_relationship(text, entity_1, entity_2):\n",
    "\n",
    "    if entity_1 in text and entity_2 in text:\n",
    "\n",
    "        alliance_score = count_words_in_text(alliance_keywords,clean_text(text))\n",
    "        rivalry_score = count_words_in_text(rivalry_keywords,clean_text(text))\n",
    "\n",
    "        if alliance_score > rivalry_score:\n",
    "            return 1\n",
    "        else:\n",
    "            return 0\n",
    "        \n",
    "    else:\n",
    "        return 0"
   ]
  },
  {
   "cell_type": "code",
   "execution_count": 13,
   "id": "c80ef49f",
   "metadata": {},
   "outputs": [
    {
     "name": "stderr",
     "output_type": "stream",
     "text": [
      "100%|██████████| 10798/10798 [34:03<00:00,  5.28it/s] \n"
     ]
    }
   ],
   "source": [
    "for article in tqdm(df_articles.text.values):\n",
    "    for row in range(len(df_connections)):\n",
    "\n",
    "        entity_1 = dict_individuals[df_connections.loc[row,'entity_1']]\n",
    "        entity_2 = dict_individuals[df_connections.loc[row,'entity_2']]\n",
    "\n",
    "        df_connections.loc[row,'weight'] += detect_relationship(article, entity_1, entity_2)\n",
    "\n",
    "df_connections.to_csv('_aux/Connections between individuals - alliances.csv')"
   ]
  },
  {
   "cell_type": "code",
   "execution_count": 14,
   "id": "6f79abb9",
   "metadata": {},
   "outputs": [
    {
     "name": "stdout",
     "output_type": "stream",
     "text": [
      "_out/networks/individuals_alliances.html\n"
     ]
    }
   ],
   "source": [
    "g, nt = network_preparation(df_connections,dict_sizes)\n",
    "nt.show('_out/networks/individuals_alliances.html',notebook=False)"
   ]
  },
  {
   "cell_type": "code",
   "execution_count": 20,
   "id": "2cebb2b5",
   "metadata": {},
   "outputs": [],
   "source": [
    "with open(\"_out/networks/individuals_alliances.pkl\", \"wb\") as f:\n",
    "    pickle.dump(g, f)"
   ]
  },
  {
   "cell_type": "markdown",
   "id": "f811419b",
   "metadata": {},
   "source": [
    "### Community detection (Louvain algorithm)"
   ]
  },
  {
   "cell_type": "code",
   "execution_count": 15,
   "id": "f50903b0",
   "metadata": {},
   "outputs": [
    {
     "name": "stdout",
     "output_type": "stream",
     "text": [
      "[['Genaro García Luna', 'Dámaso López Núñez', 'Edgardo Leyva Escandon', 'Joaquín Guzmán Loera', 'Ismael Zambada García', 'Hector Manuel Beltran Leyva', \"Alejandro 'Omar' Treviño Morales\", 'Jorge Eduardo Costilla Sánchez', 'Miguel Angel Treviño Morales', 'Nemesio Rubén Oseguera Cervantes', 'Reynerio Flores Lazo', 'José Natividad Luna Pereira', 'Juan Alberto Ortiz Lopez', 'Eliecer Erlinto Chamorro', 'Nicolás Rodríguez Bautista', 'Horst Walther Overdick', 'Vicente Carrillo Fuentes', 'Fausto Isidro Meza Flores', 'Marcos de Jesus Figueroa Garcia', 'Servando Gomez Martinez', 'Heriberto Lazcano', 'Moris Alexander Bercián Manchón', 'Vicente Carrillo Leyva', 'Fernando Sanchez Arellano', 'José Jesús Méndez Vargas', 'Nazario Moreno Gonzalez'], ['Ariel Máximo Cantero', 'Jobanis de Jesús Ávila Villadiego', 'Pablo Escobar', 'Diego Fernando Murillo Bejarano', 'Dairo Antonio Úsuga', 'Juan de Dios Úsuga', 'Daniel Barrera Barrera', 'Luis Agustin Caicedo Velandia', 'Martin Farfan Diaz Gonzalez', 'Victor Navarro', 'Walid Makled', 'Angel de Jesus Pacheco Chanci', 'Pedro Oliverio Guerrero Castillo', 'Antonio Cardenas Guillen', 'Diego Perez Henao', 'Luis Enrique Calle Serna', 'Javier Antonio Calle Serna', 'José Bayron Piedrahita Ceballos', 'Óscar Mauricio Pachón', 'Roberto Vargas Gutiérrez', 'Henry de Jesús López Londoño', 'Maximiliano Bonilla Orozco', 'Samark López Bello', 'Jose Eberto Lopez Montero'], ['Seuxis Pausías Hernández', 'Luciano Marín Arango', 'Walter Patricio Arizala', 'Miguel Botache Santillana', 'Rodrigo Londoño Echeverri', 'Victor Julio Suarez Rojas', 'Guillermo Leon Saenz Vargas', 'Ricardo Abel Ayala Orrego', 'Henry Castellanos Garzón', 'Leider Johani Noscue', 'Hernán Darío Velásquez Saldarriaga', 'Néstor Gregorio Vera Fernández', 'José Manuel Sierra Sabogal', 'José Vicente Lesmes', 'Gustavo Aníbal Giraldo', 'Géner García Molina'], ['Héctor Rusthenford Guerrero Flores', 'Yeico Masacre', 'Wilexis Alexander Acevedo Monasterios', 'Álex Saab', 'Carlos Luis Revete'], ['José Adán Salazar Umaña', \"Juan Antonio 'Tony' Hernández Alvarado\"], ['Gilberto Aparecido Dos Santos', 'Marcos Willians Herbas Camacho'], ['Francisco Zeledon', 'Amauri Carmona Morelos'], ['Rafael Alvarez Piñeda', 'Cesar Augusto Torres Lujan']]\n"
     ]
    }
   ],
   "source": [
    "partition = algorithms.louvain(g, resolution=1., randomize=False)\n",
    "print(partition.communities) # identified clustering\n",
    "\n",
    "colors = ['#0000FF','#008000','#800080','#FF0000','#F0F8FF','#FF7F50','#B22222','#FF69B4','\t#FFFACD']\n",
    "\n",
    "for community,color_code in zip(partition.communities,colors):   \n",
    "    for node in nt.nodes:\n",
    "        if node['id'] in community:\n",
    "            node['color'] = color_code"
   ]
  },
  {
   "cell_type": "markdown",
   "id": "f8ad9f4e",
   "metadata": {},
   "source": [
    "### Preferential attachment mechanism"
   ]
  },
  {
   "cell_type": "markdown",
   "id": "586798ce",
   "metadata": {},
   "source": [
    "It would make sense to think that criminals prefer to form connections with other criminals that already have lots of connections (because they can offer more power and connections). This would be reflected in the degree distribution following a power law."
   ]
  },
  {
   "cell_type": "code",
   "execution_count": 16,
   "id": "95a839bd",
   "metadata": {},
   "outputs": [
    {
     "data": {
      "image/png": "[encoded data removed]",
      "text/plain": [
       "<Figure size 640x480 with 1 Axes>"
      ]
     },
     "metadata": {},
     "output_type": "display_data"
    },
    {
     "name": "stdout",
     "output_type": "stream",
     "text": [
      "Calculating best minimal value for power law fit\n",
      "xmin progress: 96%\r"
     ]
    },
    {
     "data": {
      "image/png": "[encoded data removed]",
      "text/plain": [
       "<Figure size 640x480 with 1 Axes>"
      ]
     },
     "metadata": {},
     "output_type": "display_data"
    },
    {
     "name": "stdout",
     "output_type": "stream",
     "text": [
      "Power Law Fit Summary:\n",
      "4.339187405285531\n",
      "17.0\n",
      "KS p-value: 0.07494013795368687\n"
     ]
    }
   ],
   "source": [
    "degree_sequence = [degree for node, degree in g.degree()]\n",
    "\n",
    "plt.hist(degree_sequence, bins=20, density=True, alpha=0.7)\n",
    "plt.xlabel(\"Degree\")\n",
    "plt.ylabel(\"Probability\")\n",
    "plt.title(\"Degree Distribution\")\n",
    "plt.show()\n",
    "\n",
    "fit = powerlaw.Fit(degree_sequence)\n",
    "\n",
    "fit.plot_pdf(color='b', linewidth=2)\n",
    "fit.power_law.plot_pdf(color='r', linestyle='--', ax=plt.gca())\n",
    "plt.xlabel(\"Degree\")\n",
    "plt.ylabel(\"Probability\")\n",
    "plt.title(\"Degree Distribution and Power Law Fit\")\n",
    "plt.legend(['Data', 'Power Law Fit'])\n",
    "plt.show()\n",
    "\n",
    "print(\"Power Law Fit Summary:\")\n",
    "print(fit.power_law.alpha)\n",
    "print(fit.power_law.xmin)\n",
    "print(\"KS p-value:\", fit.power_law.KS())\n",
    "#print(\"Likelihood ratio p-value:\", fit.power_law.distribution_compare('power_law', 'lognormal'))"
   ]
  },
  {
   "cell_type": "markdown",
   "id": "51cfd2d1",
   "metadata": {},
   "source": [
    "### Validation"
   ]
  },
  {
   "cell_type": "markdown",
   "id": "aea80806",
   "metadata": {},
   "source": [
    "The first rows of the connections df are all corroborated by web search."
   ]
  },
  {
   "cell_type": "code",
   "execution_count": 17,
   "id": "2f15ede3",
   "metadata": {},
   "outputs": [
    {
     "data": {
      "text/html": [
       "<div>\n",
       "<style scoped>\n",
       "    .dataframe tbody tr th:only-of-type {\n",
       "        vertical-align: middle;\n",
       "    }\n",
       "\n",
       "    .dataframe tbody tr th {\n",
       "        vertical-align: top;\n",
       "    }\n",
       "\n",
       "    .dataframe thead th {\n",
       "        text-align: right;\n",
       "    }\n",
       "</style>\n",
       "<table border=\"1\" class=\"dataframe\">\n",
       "  <thead>\n",
       "    <tr style=\"text-align: right;\">\n",
       "      <th></th>\n",
       "      <th>ind_1</th>\n",
       "      <th>ind_2</th>\n",
       "      <th>weight</th>\n",
       "    </tr>\n",
       "  </thead>\n",
       "  <tbody>\n",
       "    <tr>\n",
       "      <th>3811</th>\n",
       "      <td>Joaquín Guzmán Loera</td>\n",
       "      <td>Ismael Zambada García</td>\n",
       "      <td>41</td>\n",
       "    </tr>\n",
       "    <tr>\n",
       "      <th>3812</th>\n",
       "      <td>Joaquín Guzmán Loera</td>\n",
       "      <td>Hector Manuel Beltran Leyva</td>\n",
       "      <td>23</td>\n",
       "    </tr>\n",
       "    <tr>\n",
       "      <th>3913</th>\n",
       "      <td>Luis Enrique Calle Serna</td>\n",
       "      <td>Javier Antonio Calle Serna</td>\n",
       "      <td>22</td>\n",
       "    </tr>\n",
       "    <tr>\n",
       "      <th>3910</th>\n",
       "      <td>Diego Perez Henao</td>\n",
       "      <td>Luis Enrique Calle Serna</td>\n",
       "      <td>16</td>\n",
       "    </tr>\n",
       "    <tr>\n",
       "      <th>635</th>\n",
       "      <td>Pablo Escobar</td>\n",
       "      <td>Diego Fernando Murillo Bejarano</td>\n",
       "      <td>15</td>\n",
       "    </tr>\n",
       "    <tr>\n",
       "      <th>580</th>\n",
       "      <td>Ariel Máximo Cantero</td>\n",
       "      <td>Joaquín Guzmán Loera</td>\n",
       "      <td>14</td>\n",
       "    </tr>\n",
       "    <tr>\n",
       "      <th>3911</th>\n",
       "      <td>Diego Perez Henao</td>\n",
       "      <td>Javier Antonio Calle Serna</td>\n",
       "      <td>14</td>\n",
       "    </tr>\n",
       "    <tr>\n",
       "      <th>3825</th>\n",
       "      <td>Ismael Zambada García</td>\n",
       "      <td>Hector Manuel Beltran Leyva</td>\n",
       "      <td>14</td>\n",
       "    </tr>\n",
       "    <tr>\n",
       "      <th>2626</th>\n",
       "      <td>Nemesio Rubén Oseguera Cervantes</td>\n",
       "      <td>Joaquín Guzmán Loera</td>\n",
       "      <td>12</td>\n",
       "    </tr>\n",
       "    <tr>\n",
       "      <th>3720</th>\n",
       "      <td>Pedro Oliverio Guerrero Castillo</td>\n",
       "      <td>Daniel Barrera Barrera</td>\n",
       "      <td>12</td>\n",
       "    </tr>\n",
       "    <tr>\n",
       "      <th>649</th>\n",
       "      <td>Pablo Escobar</td>\n",
       "      <td>Dairo Antonio Úsuga</td>\n",
       "      <td>12</td>\n",
       "    </tr>\n",
       "    <tr>\n",
       "      <th>661</th>\n",
       "      <td>Pablo Escobar</td>\n",
       "      <td>Joaquín Guzmán Loera</td>\n",
       "      <td>11</td>\n",
       "    </tr>\n",
       "    <tr>\n",
       "      <th>3627</th>\n",
       "      <td>Edgardo Leyva Escandon</td>\n",
       "      <td>Hector Manuel Beltran Leyva</td>\n",
       "      <td>11</td>\n",
       "    </tr>\n",
       "    <tr>\n",
       "      <th>2008</th>\n",
       "      <td>Seuxis Pausías Hernández</td>\n",
       "      <td>Luciano Marín Arango</td>\n",
       "      <td>10</td>\n",
       "    </tr>\n",
       "    <tr>\n",
       "      <th>670</th>\n",
       "      <td>Pablo Escobar</td>\n",
       "      <td>Daniel Barrera Barrera</td>\n",
       "      <td>9</td>\n",
       "    </tr>\n",
       "    <tr>\n",
       "      <th>3625</th>\n",
       "      <td>Edgardo Leyva Escandon</td>\n",
       "      <td>Joaquín Guzmán Loera</td>\n",
       "      <td>9</td>\n",
       "    </tr>\n",
       "    <tr>\n",
       "      <th>646</th>\n",
       "      <td>Pablo Escobar</td>\n",
       "      <td>Angel de Jesus Pacheco Chanci</td>\n",
       "      <td>8</td>\n",
       "    </tr>\n",
       "    <tr>\n",
       "      <th>3585</th>\n",
       "      <td>Dairo Antonio Úsuga</td>\n",
       "      <td>Daniel Barrera Barrera</td>\n",
       "      <td>8</td>\n",
       "    </tr>\n",
       "    <tr>\n",
       "      <th>3903</th>\n",
       "      <td>Daniel Barrera Barrera</td>\n",
       "      <td>Luis Enrique Calle Serna</td>\n",
       "      <td>8</td>\n",
       "    </tr>\n",
       "    <tr>\n",
       "      <th>570</th>\n",
       "      <td>Ariel Máximo Cantero</td>\n",
       "      <td>Edgardo Leyva Escandon</td>\n",
       "      <td>8</td>\n",
       "    </tr>\n",
       "    <tr>\n",
       "      <th>2627</th>\n",
       "      <td>Nemesio Rubén Oseguera Cervantes</td>\n",
       "      <td>Ismael Zambada García</td>\n",
       "      <td>8</td>\n",
       "    </tr>\n",
       "    <tr>\n",
       "      <th>3106</th>\n",
       "      <td>Diego Fernando Murillo Bejarano</td>\n",
       "      <td>Angel de Jesus Pacheco Chanci</td>\n",
       "      <td>8</td>\n",
       "    </tr>\n",
       "    <tr>\n",
       "      <th>3492</th>\n",
       "      <td>Angel de Jesus Pacheco Chanci</td>\n",
       "      <td>Maximiliano Bonilla Orozco</td>\n",
       "      <td>8</td>\n",
       "    </tr>\n",
       "    <tr>\n",
       "      <th>3265</th>\n",
       "      <td>Jose Eberto Lopez Montero</td>\n",
       "      <td>Pedro Oliverio Guerrero Castillo</td>\n",
       "      <td>7</td>\n",
       "    </tr>\n",
       "    <tr>\n",
       "      <th>3280</th>\n",
       "      <td>Jose Eberto Lopez Montero</td>\n",
       "      <td>Daniel Barrera Barrera</td>\n",
       "      <td>7</td>\n",
       "    </tr>\n",
       "    <tr>\n",
       "      <th>2685</th>\n",
       "      <td>Martin Farfan Diaz Gonzalez</td>\n",
       "      <td>Daniel Barrera Barrera</td>\n",
       "      <td>7</td>\n",
       "    </tr>\n",
       "    <tr>\n",
       "      <th>3777</th>\n",
       "      <td>Maximiliano Bonilla Orozco</td>\n",
       "      <td>Luis Enrique Calle Serna</td>\n",
       "      <td>7</td>\n",
       "    </tr>\n",
       "    <tr>\n",
       "      <th>2303</th>\n",
       "      <td>Miguel Botache Santillana</td>\n",
       "      <td>Luciano Marín Arango</td>\n",
       "      <td>6</td>\n",
       "    </tr>\n",
       "    <tr>\n",
       "      <th>658</th>\n",
       "      <td>Pablo Escobar</td>\n",
       "      <td>Maximiliano Bonilla Orozco</td>\n",
       "      <td>6</td>\n",
       "    </tr>\n",
       "    <tr>\n",
       "      <th>3904</th>\n",
       "      <td>Daniel Barrera Barrera</td>\n",
       "      <td>Javier Antonio Calle Serna</td>\n",
       "      <td>6</td>\n",
       "    </tr>\n",
       "  </tbody>\n",
       "</table>\n",
       "</div>"
      ],
      "text/plain": [
       "                                 ind_1                             ind_2  \\\n",
       "3811              Joaquín Guzmán Loera             Ismael Zambada García   \n",
       "3812              Joaquín Guzmán Loera       Hector Manuel Beltran Leyva   \n",
       "3913          Luis Enrique Calle Serna        Javier Antonio Calle Serna   \n",
       "3910                 Diego Perez Henao          Luis Enrique Calle Serna   \n",
       "635                      Pablo Escobar   Diego Fernando Murillo Bejarano   \n",
       "580               Ariel Máximo Cantero              Joaquín Guzmán Loera   \n",
       "3911                 Diego Perez Henao        Javier Antonio Calle Serna   \n",
       "3825             Ismael Zambada García       Hector Manuel Beltran Leyva   \n",
       "2626  Nemesio Rubén Oseguera Cervantes              Joaquín Guzmán Loera   \n",
       "3720  Pedro Oliverio Guerrero Castillo            Daniel Barrera Barrera   \n",
       "649                      Pablo Escobar               Dairo Antonio Úsuga   \n",
       "661                      Pablo Escobar              Joaquín Guzmán Loera   \n",
       "3627            Edgardo Leyva Escandon       Hector Manuel Beltran Leyva   \n",
       "2008          Seuxis Pausías Hernández              Luciano Marín Arango   \n",
       "670                      Pablo Escobar            Daniel Barrera Barrera   \n",
       "3625            Edgardo Leyva Escandon              Joaquín Guzmán Loera   \n",
       "646                      Pablo Escobar     Angel de Jesus Pacheco Chanci   \n",
       "3585               Dairo Antonio Úsuga            Daniel Barrera Barrera   \n",
       "3903            Daniel Barrera Barrera          Luis Enrique Calle Serna   \n",
       "570               Ariel Máximo Cantero            Edgardo Leyva Escandon   \n",
       "2627  Nemesio Rubén Oseguera Cervantes             Ismael Zambada García   \n",
       "3106   Diego Fernando Murillo Bejarano     Angel de Jesus Pacheco Chanci   \n",
       "3492     Angel de Jesus Pacheco Chanci        Maximiliano Bonilla Orozco   \n",
       "3265         Jose Eberto Lopez Montero  Pedro Oliverio Guerrero Castillo   \n",
       "3280         Jose Eberto Lopez Montero            Daniel Barrera Barrera   \n",
       "2685       Martin Farfan Diaz Gonzalez            Daniel Barrera Barrera   \n",
       "3777        Maximiliano Bonilla Orozco          Luis Enrique Calle Serna   \n",
       "2303         Miguel Botache Santillana              Luciano Marín Arango   \n",
       "658                      Pablo Escobar        Maximiliano Bonilla Orozco   \n",
       "3904            Daniel Barrera Barrera        Javier Antonio Calle Serna   \n",
       "\n",
       "      weight  \n",
       "3811      41  \n",
       "3812      23  \n",
       "3913      22  \n",
       "3910      16  \n",
       "635       15  \n",
       "580       14  \n",
       "3911      14  \n",
       "3825      14  \n",
       "2626      12  \n",
       "3720      12  \n",
       "649       12  \n",
       "661       11  \n",
       "3627      11  \n",
       "2008      10  \n",
       "670        9  \n",
       "3625       9  \n",
       "646        8  \n",
       "3585       8  \n",
       "3903       8  \n",
       "570        8  \n",
       "2627       8  \n",
       "3106       8  \n",
       "3492       8  \n",
       "3265       7  \n",
       "3280       7  \n",
       "2685       7  \n",
       "3777       7  \n",
       "2303       6  \n",
       "658        6  \n",
       "3904       6  "
      ]
     },
     "execution_count": 17,
     "metadata": {},
     "output_type": "execute_result"
    }
   ],
   "source": [
    "#df_connections = pd.read_csv('_aux/Connections between individuals - alliances.csv')\n",
    "df_connections.sort_values('weight',ascending=False).head(30)"
   ]
  },
  {
   "cell_type": "markdown",
   "id": "01095e59",
   "metadata": {},
   "source": [
    "# Groups"
   ]
  },
  {
   "cell_type": "markdown",
   "id": "4a837c96",
   "metadata": {},
   "source": [
    "## Preparation"
   ]
  },
  {
   "cell_type": "code",
   "execution_count": 23,
   "id": "d312d127",
   "metadata": {},
   "outputs": [],
   "source": [
    "df_groups = pd.read_csv('_raw/groups.csv')"
   ]
  },
  {
   "cell_type": "code",
   "execution_count": 24,
   "id": "235ca5bc",
   "metadata": {},
   "outputs": [],
   "source": [
    "dict_groups = dict(zip(df_groups.name,df_groups.search_term))"
   ]
  },
  {
   "cell_type": "code",
   "execution_count": 25,
   "id": "6a3f112c",
   "metadata": {},
   "outputs": [],
   "source": [
    "dict_sizes2 = {}\n",
    "for name in df_groups.name.values:\n",
    "    dict_sizes2[name] = 0\n",
    "    for article in df_articles.text.values:\n",
    "        if dict_groups[name] in article:\n",
    "            dict_sizes2[name] += 1"
   ]
  },
  {
   "cell_type": "code",
   "execution_count": 32,
   "id": "db35e049",
   "metadata": {},
   "outputs": [],
   "source": [
    "df_connections2 = prepare_df_connections(df_groups.name.values)"
   ]
  },
  {
   "cell_type": "code",
   "execution_count": 33,
   "id": "e7299478",
   "metadata": {},
   "outputs": [
    {
     "name": "stderr",
     "output_type": "stream",
     "text": [
      "100%|██████████| 10798/10798 [26:47<00:00,  6.72it/s] \n"
     ]
    }
   ],
   "source": [
    "for article in tqdm(df_articles.text.values):\n",
    "    for row in range(len(df_connections2)):\n",
    "\n",
    "        entity_1 = dict_groups[df_connections2.loc[row,'entity_1']]\n",
    "        entity_2 = dict_groups[df_connections2.loc[row,'entity_2']]\n",
    "\n",
    "        df_connections2.loc[row,'weight'] += detect_relationship(article, entity_1, entity_2)\n",
    "\n",
    "df_connections2.to_csv('_aux/Connections between groups - alliances.csv')"
   ]
  },
  {
   "cell_type": "code",
   "execution_count": 34,
   "id": "df73ea55",
   "metadata": {},
   "outputs": [
    {
     "name": "stdout",
     "output_type": "stream",
     "text": [
      "_out/networks/groups_alliances.html\n"
     ]
    }
   ],
   "source": [
    "g2, nt2 = network_preparation(df_connections2,dict_sizes2)\n",
    "nt2.show('_out/networks/groups_alliances.html',notebook=False)"
   ]
  },
  {
   "cell_type": "code",
   "execution_count": 35,
   "id": "c3bf7e14",
   "metadata": {},
   "outputs": [],
   "source": [
    "with open(\"_out/networks/groups_alliances.pkl\", \"wb\") as f:\n",
    "    pickle.dump(g2, f)"
   ]
  },
  {
   "cell_type": "markdown",
   "id": "f9e72989",
   "metadata": {},
   "source": [
    "## Community detection"
   ]
  },
  {
   "cell_type": "code",
   "execution_count": 36,
   "id": "afd02d31",
   "metadata": {},
   "outputs": [
    {
     "name": "stdout",
     "output_type": "stream",
     "text": [
      "[['First Capital Command', 'Bala na Cara', 'Family of the North', 'Cachiros', 'Barrio 18', 'Texis Cartel', 'MS13', 'Red Command', 'Perrones', 'Mendozas', 'Leones', 'Lorenzanas', 'Monos', 'Amigos dos Amigos', 'Pure Third Command', 'Atlantic Cartel', 'Perrones Cartel', 'CIACS'], ['Acacio Medina Front', 'Las Claritas Sindicato', 'The R Organization', 'Tren de Guayana', '10th Front', 'Border Security Colectivo', 'Second Marquetalia', 'Tren de Aragua', '1st Front', 'FARC', 'ELN', 'Valles', 'FBL', 'Shining Path', 'Bagdad', 'Calor Calor', 'Tren del Llano'], ['Jalisco Cartel New Generation', 'Cárteles Unidos', 'Knights Templar', 'Tijuana Cartel', 'Gulf Cartel', 'Familia Michoacana', 'Guerreros Unidos', 'Beltrán Leyva Organization', 'Juárez Cartel', 'Zetas', 'Fuerza Anti-Unión', 'Chapitos', 'Juarez Cartel', 'Barrio Azteca', 'La Unión Tepito', 'EPR'], ['Rastrojos', 'Pachenca', 'Gulf Clan', 'Autodefensas Unidas de Colombia', 'Oficina de Envigado', 'EPL', 'Cartel of the Suns', 'Norte del Valle Cartel', 'Paisas', 'ERPAC', 'Libertadores del Vichada', 'Caparros'], ['Lobos', 'Border Command', 'Lagartos', 'Sinaloa Cartel', 'Choneros', 'Tarzanes', 'Reñazcos']]\n"
     ]
    }
   ],
   "source": [
    "partition2 = algorithms.louvain(g2, resolution=1., randomize=False)\n",
    "print(partition2.communities) # identified clustering\n",
    "\n",
    "colors = ['#0000FF','#008000','#800080','#FF0000','#F0F8FF','#FF7F50','#B22222','#FF69B4','\t#FFFACD']\n",
    "\n",
    "for community,color_code in zip(partition2.communities,colors):   \n",
    "    for node in nt2.nodes:\n",
    "        if node['id'] in community:\n",
    "            node['color'] = color_code"
   ]
  },
  {
   "cell_type": "markdown",
   "id": "8cd178e6",
   "metadata": {},
   "source": [
    "## Preferential attachment"
   ]
  },
  {
   "cell_type": "code",
   "execution_count": 37,
   "id": "523a9728",
   "metadata": {},
   "outputs": [
    {
     "data": {
      "image/png": "[encoded data removed]",
      "text/plain": [
       "<Figure size 640x480 with 1 Axes>"
      ]
     },
     "metadata": {},
     "output_type": "display_data"
    },
    {
     "name": "stdout",
     "output_type": "stream",
     "text": [
      "Calculating best minimal value for power law fit\n",
      "xmin progress: 96%\r"
     ]
    },
    {
     "data": {
      "image/png": "[encoded data removed]",
      "text/plain": [
       "<Figure size 640x480 with 1 Axes>"
      ]
     },
     "metadata": {},
     "output_type": "display_data"
    },
    {
     "name": "stdout",
     "output_type": "stream",
     "text": [
      "Power Law Fit Summary:\n",
      "4.178036317554806\n",
      "20.0\n",
      "KS p-value: 0.1374244719795854\n"
     ]
    }
   ],
   "source": [
    "degree_sequence = [degree for node, degree in g2.degree()]\n",
    "\n",
    "plt.hist(degree_sequence, bins=20, density=True, alpha=0.7)\n",
    "plt.xlabel(\"Degree\")\n",
    "plt.ylabel(\"Probability\")\n",
    "plt.title(\"Degree Distribution\")\n",
    "plt.show()\n",
    "\n",
    "fit = powerlaw.Fit(degree_sequence)\n",
    "\n",
    "fit.plot_pdf(color='b', linewidth=2)\n",
    "fit.power_law.plot_pdf(color='r', linestyle='--', ax=plt.gca())\n",
    "plt.xlabel(\"Degree\")\n",
    "plt.ylabel(\"Probability\")\n",
    "plt.title(\"Degree Distribution and Power Law Fit\")\n",
    "plt.legend(['Data', 'Power Law Fit'])\n",
    "plt.show()\n",
    "\n",
    "print(\"Power Law Fit Summary:\")\n",
    "print(fit.power_law.alpha)\n",
    "print(fit.power_law.xmin)\n",
    "print(\"KS p-value:\", fit.power_law.KS())"
   ]
  },
  {
   "cell_type": "markdown",
   "id": "fe1715d3",
   "metadata": {},
   "source": [
    "## Validation"
   ]
  },
  {
   "cell_type": "markdown",
   "id": "431c292f",
   "metadata": {},
   "source": []
  },
  {
   "cell_type": "code",
   "execution_count": 38,
   "id": "98767823",
   "metadata": {},
   "outputs": [
    {
     "data": {
      "text/html": [
       "<div>\n",
       "<style scoped>\n",
       "    .dataframe tbody tr th:only-of-type {\n",
       "        vertical-align: middle;\n",
       "    }\n",
       "\n",
       "    .dataframe tbody tr th {\n",
       "        vertical-align: top;\n",
       "    }\n",
       "\n",
       "    .dataframe thead th {\n",
       "        text-align: right;\n",
       "    }\n",
       "</style>\n",
       "<table border=\"1\" class=\"dataframe\">\n",
       "  <thead>\n",
       "    <tr style=\"text-align: right;\">\n",
       "      <th></th>\n",
       "      <th>entity_1</th>\n",
       "      <th>entity_2</th>\n",
       "      <th>weight</th>\n",
       "    </tr>\n",
       "  </thead>\n",
       "  <tbody>\n",
       "    <tr>\n",
       "      <th>1009</th>\n",
       "      <td>Sinaloa Cartel</td>\n",
       "      <td>Zetas</td>\n",
       "      <td>149</td>\n",
       "    </tr>\n",
       "    <tr>\n",
       "      <th>2386</th>\n",
       "      <td>FARC</td>\n",
       "      <td>ELN</td>\n",
       "      <td>103</td>\n",
       "    </tr>\n",
       "    <tr>\n",
       "      <th>2173</th>\n",
       "      <td>Gulf Cartel</td>\n",
       "      <td>Zetas</td>\n",
       "      <td>95</td>\n",
       "    </tr>\n",
       "    <tr>\n",
       "      <th>2290</th>\n",
       "      <td>Barrio 18</td>\n",
       "      <td>MS13</td>\n",
       "      <td>72</td>\n",
       "    </tr>\n",
       "    <tr>\n",
       "      <th>982</th>\n",
       "      <td>Sinaloa Cartel</td>\n",
       "      <td>Gulf Cartel</td>\n",
       "      <td>67</td>\n",
       "    </tr>\n",
       "    <tr>\n",
       "      <th>2385</th>\n",
       "      <td>FARC</td>\n",
       "      <td>Rastrojos</td>\n",
       "      <td>60</td>\n",
       "    </tr>\n",
       "    <tr>\n",
       "      <th>989</th>\n",
       "      <td>Sinaloa Cartel</td>\n",
       "      <td>FARC</td>\n",
       "      <td>53</td>\n",
       "    </tr>\n",
       "    <tr>\n",
       "      <th>2209</th>\n",
       "      <td>Familia Michoacana</td>\n",
       "      <td>Zetas</td>\n",
       "      <td>44</td>\n",
       "    </tr>\n",
       "    <tr>\n",
       "      <th>2415</th>\n",
       "      <td>Rastrojos</td>\n",
       "      <td>ELN</td>\n",
       "      <td>38</td>\n",
       "    </tr>\n",
       "    <tr>\n",
       "      <th>2499</th>\n",
       "      <td>Red Command</td>\n",
       "      <td>First Capital Command</td>\n",
       "      <td>35</td>\n",
       "    </tr>\n",
       "    <tr>\n",
       "      <th>983</th>\n",
       "      <td>Sinaloa Cartel</td>\n",
       "      <td>Familia Michoacana</td>\n",
       "      <td>35</td>\n",
       "    </tr>\n",
       "    <tr>\n",
       "      <th>976</th>\n",
       "      <td>Sinaloa Cartel</td>\n",
       "      <td>Jalisco Cartel New Generation</td>\n",
       "      <td>33</td>\n",
       "    </tr>\n",
       "    <tr>\n",
       "      <th>2147</th>\n",
       "      <td>Gulf Cartel</td>\n",
       "      <td>Familia Michoacana</td>\n",
       "      <td>30</td>\n",
       "    </tr>\n",
       "    <tr>\n",
       "      <th>981</th>\n",
       "      <td>Sinaloa Cartel</td>\n",
       "      <td>Tijuana Cartel</td>\n",
       "      <td>29</td>\n",
       "    </tr>\n",
       "    <tr>\n",
       "      <th>2098</th>\n",
       "      <td>Juarez Cartel</td>\n",
       "      <td>Zetas</td>\n",
       "      <td>29</td>\n",
       "    </tr>\n",
       "    <tr>\n",
       "      <th>980</th>\n",
       "      <td>Sinaloa Cartel</td>\n",
       "      <td>Juarez Cartel</td>\n",
       "      <td>29</td>\n",
       "    </tr>\n",
       "    <tr>\n",
       "      <th>2059</th>\n",
       "      <td>Knights Templar</td>\n",
       "      <td>Zetas</td>\n",
       "      <td>24</td>\n",
       "    </tr>\n",
       "    <tr>\n",
       "      <th>2404</th>\n",
       "      <td>FARC</td>\n",
       "      <td>Zetas</td>\n",
       "      <td>23</td>\n",
       "    </tr>\n",
       "    <tr>\n",
       "      <th>1936</th>\n",
       "      <td>Jalisco Cartel New Generation</td>\n",
       "      <td>Zetas</td>\n",
       "      <td>22</td>\n",
       "    </tr>\n",
       "    <tr>\n",
       "      <th>990</th>\n",
       "      <td>Sinaloa Cartel</td>\n",
       "      <td>Rastrojos</td>\n",
       "      <td>20</td>\n",
       "    </tr>\n",
       "    <tr>\n",
       "      <th>979</th>\n",
       "      <td>Sinaloa Cartel</td>\n",
       "      <td>Knights Templar</td>\n",
       "      <td>20</td>\n",
       "    </tr>\n",
       "    <tr>\n",
       "      <th>2136</th>\n",
       "      <td>Tijuana Cartel</td>\n",
       "      <td>Zetas</td>\n",
       "      <td>19</td>\n",
       "    </tr>\n",
       "    <tr>\n",
       "      <th>2414</th>\n",
       "      <td>FARC</td>\n",
       "      <td>ERPAC</td>\n",
       "      <td>19</td>\n",
       "    </tr>\n",
       "    <tr>\n",
       "      <th>2406</th>\n",
       "      <td>FARC</td>\n",
       "      <td>Autodefensas Unidas de Colombia</td>\n",
       "      <td>19</td>\n",
       "    </tr>\n",
       "    <tr>\n",
       "      <th>1166</th>\n",
       "      <td>EPL</td>\n",
       "      <td>FARC</td>\n",
       "      <td>17</td>\n",
       "    </tr>\n",
       "    <tr>\n",
       "      <th>2033</th>\n",
       "      <td>Knights Templar</td>\n",
       "      <td>Familia Michoacana</td>\n",
       "      <td>16</td>\n",
       "    </tr>\n",
       "    <tr>\n",
       "      <th>2032</th>\n",
       "      <td>Knights Templar</td>\n",
       "      <td>Gulf Cartel</td>\n",
       "      <td>16</td>\n",
       "    </tr>\n",
       "    <tr>\n",
       "      <th>1001</th>\n",
       "      <td>Sinaloa Cartel</td>\n",
       "      <td>Beltrán Leyva Organization</td>\n",
       "      <td>16</td>\n",
       "    </tr>\n",
       "    <tr>\n",
       "      <th>1168</th>\n",
       "      <td>EPL</td>\n",
       "      <td>ELN</td>\n",
       "      <td>16</td>\n",
       "    </tr>\n",
       "    <tr>\n",
       "      <th>991</th>\n",
       "      <td>Sinaloa Cartel</td>\n",
       "      <td>ELN</td>\n",
       "      <td>15</td>\n",
       "    </tr>\n",
       "  </tbody>\n",
       "</table>\n",
       "</div>"
      ],
      "text/plain": [
       "                           entity_1                         entity_2  weight\n",
       "1009                 Sinaloa Cartel                            Zetas     149\n",
       "2386                           FARC                              ELN     103\n",
       "2173                    Gulf Cartel                            Zetas      95\n",
       "2290                      Barrio 18                             MS13      72\n",
       "982                  Sinaloa Cartel                      Gulf Cartel      67\n",
       "2385                           FARC                        Rastrojos      60\n",
       "989                  Sinaloa Cartel                             FARC      53\n",
       "2209             Familia Michoacana                            Zetas      44\n",
       "2415                      Rastrojos                              ELN      38\n",
       "2499                    Red Command            First Capital Command      35\n",
       "983                  Sinaloa Cartel               Familia Michoacana      35\n",
       "976                  Sinaloa Cartel    Jalisco Cartel New Generation      33\n",
       "2147                    Gulf Cartel               Familia Michoacana      30\n",
       "981                  Sinaloa Cartel                   Tijuana Cartel      29\n",
       "2098                  Juarez Cartel                            Zetas      29\n",
       "980                  Sinaloa Cartel                    Juarez Cartel      29\n",
       "2059                Knights Templar                            Zetas      24\n",
       "2404                           FARC                            Zetas      23\n",
       "1936  Jalisco Cartel New Generation                            Zetas      22\n",
       "990                  Sinaloa Cartel                        Rastrojos      20\n",
       "979                  Sinaloa Cartel                  Knights Templar      20\n",
       "2136                 Tijuana Cartel                            Zetas      19\n",
       "2414                           FARC                            ERPAC      19\n",
       "2406                           FARC  Autodefensas Unidas de Colombia      19\n",
       "1166                            EPL                             FARC      17\n",
       "2033                Knights Templar               Familia Michoacana      16\n",
       "2032                Knights Templar                      Gulf Cartel      16\n",
       "1001                 Sinaloa Cartel       Beltrán Leyva Organization      16\n",
       "1168                            EPL                              ELN      16\n",
       "991                  Sinaloa Cartel                              ELN      15"
      ]
     },
     "execution_count": 38,
     "metadata": {},
     "output_type": "execute_result"
    }
   ],
   "source": [
    "df_connections2.sort_values('weight',ascending=False).head(30)"
   ]
  }
 ],
 "metadata": {
  "kernelspec": {
   "display_name": "Python 3 (ipykernel)",
   "language": "python",
   "name": "python3"
  },
  "language_info": {
   "codemirror_mode": {
    "name": "ipython",
    "version": 3
   },
   "file_extension": ".py",
   "mimetype": "text/x-python",
   "name": "python",
   "nbconvert_exporter": "python",
   "pygments_lexer": "ipython3",
   "version": "3.10.9"
  },
  "toc": {
   "base_numbering": 1,
   "nav_menu": {},
   "number_sections": true,
   "sideBar": true,
   "skip_h1_title": false,
   "title_cell": "Table of Contents",
   "title_sidebar": "Contents",
   "toc_cell": false,
   "toc_position": {
    "height": "calc(100% - 180px)",
    "left": "10px",
    "top": "150px",
    "width": "285.275px"
   },
   "toc_section_display": true,
   "toc_window_display": true
  }
 },
 "nbformat": 4,
 "nbformat_minor": 5
}
