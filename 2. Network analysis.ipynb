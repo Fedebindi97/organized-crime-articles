{
 "cells": [
  {
   "cell_type": "markdown",
   "id": "d3631259",
   "metadata": {},
   "source": [
    "# Packages"
   ]
  },
  {
   "cell_type": "code",
   "execution_count": 59,
   "id": "30afc9c7",
   "metadata": {},
   "outputs": [],
   "source": [
    "import pandas as pd\n",
    "import numpy as np\n",
    "import itertools\n",
    "import networkx as nx\n",
    "import pyvis\n",
    "import igraph as i\n",
    "import matplotlib.pyplot as plt\n",
    "from collections import Counter\n",
    "import string\n",
    "from tqdm import tqdm\n",
    "import re\n",
    "from cdlib import algorithms\n",
    "from concurrent.futures import ThreadPoolExecutor\n",
    "import powerlaw\n",
    "import pickle\n",
    "import math"
   ]
  },
  {
   "cell_type": "code",
   "execution_count": 60,
   "id": "3e661071",
   "metadata": {},
   "outputs": [],
   "source": [
    "df_articles = pd.read_csv('_raw/articles_scraped.csv')"
   ]
  },
  {
   "cell_type": "code",
   "execution_count": 61,
   "id": "6cce8b1b",
   "metadata": {},
   "outputs": [],
   "source": [
    "def prepare_df_connections(iterable):\n",
    "    value_combinations = list(itertools.combinations(iterable, 2))\n",
    "    df_connections = pd.DataFrame(value_combinations, columns=['entity_1','entity_2'])\n",
    "    df_connections['weight'] = 0\n",
    "    df_connections.reset_index(drop=True, inplace=True)\n",
    "\n",
    "    return df_connections"
   ]
  },
  {
   "cell_type": "code",
   "execution_count": 62,
   "id": "b0489844",
   "metadata": {},
   "outputs": [],
   "source": [
    "def network_preparation(df_connections,dict_sizes): # df_connections is a dataframe of weighted edges\n",
    "    elist = list(zip(df_connections['entity_1'],df_connections['entity_2'],df_connections['weight']))\n",
    "    g = nx.Graph()\n",
    "    g.add_weighted_edges_from([(el[0],el[1],el[2]) for el in elist if el[2]!=0])\n",
    "\n",
    "    nt = pyvis.network.Network('1500px','1500px', bgcolor=\"#222222\", font_color=\"white\") #,select_menu=True,filter_menu=True)\n",
    "    nt.barnes_hut()\n",
    "    nt.from_nx(g) \n",
    "    nt.toggle_physics(True)\n",
    "\n",
    "    for node in nt.nodes:\n",
    "        node['font']['size'] = 100\n",
    "        node['shape'] = 'circularImage'\n",
    "        node['image'] = f\"/Users/federico.bindi/Desktop/GitHub/organized-crime-articles/_aux/pictures/{node['id']}.png\"\n",
    "        node['size'] = dict_sizes[node['id']]\n",
    "\n",
    "    return g,nt"
   ]
  },
  {
   "cell_type": "markdown",
   "id": "c9e4a516",
   "metadata": {},
   "source": [
    "# Individuals"
   ]
  },
  {
   "cell_type": "markdown",
   "id": "e5705c4d",
   "metadata": {},
   "source": [
    "## Preparation"
   ]
  },
  {
   "cell_type": "code",
   "execution_count": 63,
   "id": "c34fe8af",
   "metadata": {},
   "outputs": [],
   "source": [
    "df_individuals = pd.read_csv('_raw/individuals.csv')\n",
    "df_individuals.loc[df_individuals.name.str.contains('Escand'),'search_term'] = 'Leyva Escandon'"
   ]
  },
  {
   "cell_type": "code",
   "execution_count": 64,
   "id": "6b5245ca",
   "metadata": {},
   "outputs": [],
   "source": [
    "dict_individuals = dict(zip(df_individuals.name,df_individuals.search_term))"
   ]
  },
  {
   "cell_type": "code",
   "execution_count": 65,
   "id": "dd8e98bc",
   "metadata": {},
   "outputs": [],
   "source": [
    "dict_sizes = {}\n",
    "for name in df_individuals.name.values:\n",
    "    dict_sizes[name] = 0\n",
    "    for article in df_articles.text.values:\n",
    "        if dict_individuals[name] in article:\n",
    "            dict_sizes[name] += 1"
   ]
  },
  {
   "cell_type": "code",
   "execution_count": 66,
   "id": "80c398ed",
   "metadata": {},
   "outputs": [],
   "source": [
    "df_connections = prepare_df_connections(df_individuals.name.values)"
   ]
  },
  {
   "cell_type": "markdown",
   "id": "60068c91",
   "metadata": {},
   "source": [
    "Theoretically, we can analyse articles from 4 points of view:\n",
    "1. Keyword extraction\n",
    "2. Co-occurrence analysis (how many times two bosses' names appear close in an article)\n",
    "3. Sentiment analysis on the articles\n",
    "\n",
    "Points 2 and 3 are probably not useful: two bosses will appear closely in an article also if they are rival, and the articles are very likely to receive a negative sentiment classification anyway."
   ]
  },
  {
   "cell_type": "code",
   "execution_count": 67,
   "id": "f5336744",
   "metadata": {},
   "outputs": [],
   "source": [
    "# Alliance Keywords with Regex Variations\n",
    "alliance_keywords = [\n",
    "    r\"alliance\", r\"partner(s|ship|ing)?\", r\"cooperation\", r\"collaboration\",\n",
    "    r\"joint venture\", r\"mutual support\", r\"united front\", r\"solidarity\",\n",
    "    r\"work(ing)? together\", r\"coalition\", r\"team(ing)? up\", r\"combine(d)? forces\",\n",
    "    r\"coordinated effort\", r\"combined operations\", r\"coordinated strategy\",\n",
    "    r\"harmonious relationship\", r\"allied forces\", r\"mutual assistance\"\n",
    "]\n",
    "\n",
    "# Rivalry Keywords with Regex Variations\n",
    "rivalry_keywords = [\n",
    "    r\"rivalry\", r\"conflict\", r\"competition\", r\"feud\", r\"hostility\", r\"animosity\",\n",
    "    r\"contention\", r\"dispute\", r\"antagonism\", r\"clash\", r\"enmity\",\n",
    "    r\"competition for territory\", r\"power struggle\", r\"bitter rivalry\",\n",
    "    r\"ongoing feud\", r\"turf war\", r\"opposing forces\",\n",
    "    r\"confrontational relationship\", r\"longstanding dispute\",\n",
    "    r\"battle for supremacy\"\n",
    "]"
   ]
  },
  {
   "cell_type": "code",
   "execution_count": 68,
   "id": "d744c071",
   "metadata": {},
   "outputs": [],
   "source": [
    "def count_words_in_text(keyword_list, text):\n",
    "    \n",
    "    counter = 0\n",
    "    target_words = text.split()\n",
    "\n",
    "    for keyword in keyword_list:\n",
    "        matches = [1 if re.search(keyword,word) is not None else 0 for word in target_words]\n",
    "        counter += sum(matches)\n",
    "    \n",
    "    return counter"
   ]
  },
  {
   "cell_type": "code",
   "execution_count": 69,
   "id": "19663c33",
   "metadata": {},
   "outputs": [],
   "source": [
    "def clean_text(text):\n",
    "    # Create a translation table that maps punctuation characters to None\n",
    "    translator = str.maketrans(string.punctuation, \" \" * len(string.punctuation))\n",
    "    \n",
    "    # Use the translate method to remove punctuation\n",
    "    cleaned_text = text.lower().translate(translator)\n",
    "    \n",
    "    return cleaned_text"
   ]
  },
  {
   "cell_type": "code",
   "execution_count": 70,
   "id": "ec928ef6",
   "metadata": {},
   "outputs": [],
   "source": [
    "def detect_relationship(text, entity_1, entity_2):\n",
    "\n",
    "    if entity_1 in text and entity_2 in text:\n",
    "\n",
    "        alliance_score = count_words_in_text(alliance_keywords,clean_text(text))\n",
    "        rivalry_score = count_words_in_text(rivalry_keywords,clean_text(text))\n",
    "\n",
    "        if alliance_score > rivalry_score:\n",
    "            return 1\n",
    "        else:\n",
    "            return 0\n",
    "        \n",
    "    else:\n",
    "        return 0"
   ]
  },
  {
   "cell_type": "code",
   "execution_count": 71,
   "id": "c80ef49f",
   "metadata": {},
   "outputs": [
    {
     "data": {
      "text/plain": [
       "\"for article in tqdm(df_articles.text.values):\\n    for row in range(len(df_connections)):\\n\\n        entity_1 = dict_individuals[df_connections.loc[row,'entity_1']]\\n        entity_2 = dict_individuals[df_connections.loc[row,'entity_2']]\\n\\n        df_connections.loc[row,'weight'] += detect_relationship(article, entity_1, entity_2)\\n\\ndf_connections.to_csv('_aux/Connections between individuals - alliances.csv')\""
      ]
     },
     "execution_count": 71,
     "metadata": {},
     "output_type": "execute_result"
    }
   ],
   "source": [
    "'''for article in tqdm(df_articles.text.values):\n",
    "    for row in range(len(df_connections)):\n",
    "\n",
    "        entity_1 = dict_individuals[df_connections.loc[row,'entity_1']]\n",
    "        entity_2 = dict_individuals[df_connections.loc[row,'entity_2']]\n",
    "\n",
    "        df_connections.loc[row,'weight'] += detect_relationship(article, entity_1, entity_2)\n",
    "\n",
    "df_connections.to_csv('_aux/Connections between individuals - alliances.csv')'''"
   ]
  },
  {
   "cell_type": "code",
   "execution_count": 72,
   "id": "6f79abb9",
   "metadata": {},
   "outputs": [
    {
     "name": "stdout",
     "output_type": "stream",
     "text": [
      "_out/networks/individuals_alliances.html\n"
     ]
    }
   ],
   "source": [
    "df_connections = pd.read_csv('_aux/Connections between individuals - alliances.csv')\n",
    "g, nt = network_preparation(df_connections,dict_sizes)\n",
    "nt.show('_out/networks/individuals_alliances.html',notebook=False)"
   ]
  },
  {
   "cell_type": "code",
   "execution_count": 73,
   "id": "2cebb2b5",
   "metadata": {},
   "outputs": [],
   "source": [
    "with open(\"_out/networks/individuals_alliances.pkl\", \"wb\") as f:\n",
    "    pickle.dump(g, f)"
   ]
  },
  {
   "cell_type": "markdown",
   "id": "f811419b",
   "metadata": {},
   "source": [
    "## Community detection (Louvain algorithm)"
   ]
  },
  {
   "cell_type": "code",
   "execution_count": 74,
   "id": "f50903b0",
   "metadata": {},
   "outputs": [
    {
     "name": "stdout",
     "output_type": "stream",
     "text": [
      "[['Ariel Máximo Cantero', 'Jobanis de Jesús Ávila Villadiego', 'Pablo Escobar', 'Diego Fernando Murillo Bejarano', 'Dairo Antonio Úsuga', 'Juan de Dios Úsuga', 'Daniel Barrera Barrera', 'Luis Agustin Caicedo Velandia', 'Martin Farfan Diaz Gonzalez', 'Victor Navarro', 'Walid Makled', 'Angel de Jesus Pacheco Chanci', 'Pedro Oliverio Guerrero Castillo', 'Diego Perez Henao', 'Luis Enrique Calle Serna', 'Javier Antonio Calle Serna', 'José Bayron Piedrahita Ceballos', 'Óscar Mauricio Pachón', 'Roberto Vargas Gutiérrez', 'Henry de Jesús López Londoño', 'Maximiliano Bonilla Orozco', 'Samark López Bello', 'Jose Eberto Lopez Montero', 'Marcos de Jesus Figueroa Garcia'], ['Genaro García Luna', 'Dámaso López Núñez', 'Joaquín Guzmán Loera', 'Ismael Zambada García', 'Hector Manuel Beltran Leyva', \"Alejandro 'Omar' Treviño Morales\", 'Jorge Eduardo Costilla Sánchez', 'Antonio Cardenas Guillen', 'Miguel Angel Treviño Morales', 'Nemesio Rubén Oseguera Cervantes', 'Reynerio Flores Lazo', 'José Natividad Luna Pereira', 'Juan Alberto Ortiz Lopez', 'Eliecer Erlinto Chamorro', 'Nicolás Rodríguez Bautista', 'Horst Walther Overdick', 'Vicente Carrillo Fuentes', 'Fausto Isidro Meza Flores', 'Servando Gomez Martinez', 'Heriberto Lazcano', 'Vicente Carrillo Leyva', 'Fernando Sanchez Arellano', 'José Jesús Méndez Vargas', 'Nazario Moreno Gonzalez'], ['Álex Saab', 'Seuxis Pausías Hernández', 'Luciano Marín Arango', 'Walter Patricio Arizala', 'Miguel Botache Santillana', 'Rodrigo Londoño Echeverri', 'Victor Julio Suarez Rojas', 'Guillermo Leon Saenz Vargas', 'Ricardo Abel Ayala Orrego', 'Henry Castellanos Garzón', 'Leider Johani Noscue', 'Hernán Darío Velásquez Saldarriaga', 'Néstor Gregorio Vera Fernández', 'José Manuel Sierra Sabogal', 'José Vicente Lesmes', 'Gustavo Aníbal Giraldo', 'Géner García Molina'], ['Héctor Rusthenford Guerrero Flores', 'Yeico Masacre', 'Wilexis Alexander Acevedo Monasterios', 'Carlos Luis Revete'], ['José Adán Salazar Umaña', \"Juan Antonio 'Tony' Hernández Alvarado\"], ['Gilberto Aparecido Dos Santos', 'Marcos Willians Herbas Camacho'], ['Francisco Zeledon', 'Amauri Carmona Morelos'], ['Rafael Alvarez Piñeda', 'Cesar Augusto Torres Lujan']]\n"
     ]
    }
   ],
   "source": [
    "partition = algorithms.louvain(g, resolution=1., randomize=False)\n",
    "print(partition.communities) # identified clustering\n",
    "\n",
    "colors = ['#0000FF','#008000','#800080','#FF0000','#F0F8FF','#FF7F50','#B22222','#FF69B4','\t#FFFACD']\n",
    "\n",
    "for community,color_code in zip(partition.communities,colors):   \n",
    "    for node in nt.nodes:\n",
    "        if node['id'] in community:\n",
    "            node['color'] = color_code"
   ]
  },
  {
   "cell_type": "markdown",
   "id": "f8ad9f4e",
   "metadata": {},
   "source": [
    "## Preferential attachment mechanism"
   ]
  },
  {
   "cell_type": "markdown",
   "id": "586798ce",
   "metadata": {},
   "source": [
    "It would make sense to think that criminals prefer to form connections with other criminals that already have lots of connections (because they can offer more power and connections). This would be reflected in the degree distribution following a power law."
   ]
  },
  {
   "cell_type": "code",
   "execution_count": 75,
   "id": "95a839bd",
   "metadata": {},
   "outputs": [
    {
     "data": {
      "image/png": "[encoded data removed]",
      "text/plain": [
       "<Figure size 640x480 with 1 Axes>"
      ]
     },
     "metadata": {},
     "output_type": "display_data"
    },
    {
     "name": "stdout",
     "output_type": "stream",
     "text": [
      "Calculating best minimal value for power law fit\n",
      "xmin progress: 95%\r"
     ]
    },
    {
     "data": {
      "image/png": "[encoded data removed]",
      "text/plain": [
       "<Figure size 640x480 with 1 Axes>"
      ]
     },
     "metadata": {},
     "output_type": "display_data"
    },
    {
     "name": "stdout",
     "output_type": "stream",
     "text": [
      "Power Law Fit Summary:\n",
      "5.741186112500491\n",
      "18.0\n",
      "KS p-value: 0.10767576269572943\n"
     ]
    }
   ],
   "source": [
    "degree_sequence = [degree for node, degree in g.degree()]\n",
    "\n",
    "plt.hist(degree_sequence, bins=20, density=True, alpha=0.7)\n",
    "plt.xlabel(\"Degree\")\n",
    "plt.ylabel(\"Probability\")\n",
    "plt.title(\"Degree Distribution\")\n",
    "plt.savefig('_out/Individuals degree distribution.png')\n",
    "plt.show()\n",
    "\n",
    "fit = powerlaw.Fit(degree_sequence)\n",
    "\n",
    "fit.plot_pdf(color='b', linewidth=2)\n",
    "fit.power_law.plot_pdf(color='r', linestyle='--', ax=plt.gca())\n",
    "plt.xlabel(\"Degree\")\n",
    "plt.ylabel(\"Probability\")\n",
    "plt.title(\"Degree Distribution and Power Law Fit\")\n",
    "plt.legend(['Data', 'Power Law Fit'])\n",
    "plt.savefig('_out/Individuals power law fit of degree distribution.png')\n",
    "plt.show()\n",
    "\n",
    "print(\"Power Law Fit Summary:\")\n",
    "print(fit.power_law.alpha)\n",
    "print(fit.power_law.xmin)\n",
    "print(\"KS p-value:\", fit.power_law.KS())\n",
    "#print(\"Likelihood ratio p-value:\", fit.power_law.distribution_compare('power_law', 'lognormal'))"
   ]
  },
  {
   "cell_type": "markdown",
   "id": "51cfd2d1",
   "metadata": {},
   "source": [
    "## Validation"
   ]
  },
  {
   "cell_type": "markdown",
   "id": "aea80806",
   "metadata": {},
   "source": [
    "The first rows of the connections df are all corroborated by web search."
   ]
  },
  {
   "cell_type": "code",
   "execution_count": 76,
   "id": "2f15ede3",
   "metadata": {},
   "outputs": [
    {
     "data": {
      "text/html": [
       "<div>\n",
       "<style scoped>\n",
       "    .dataframe tbody tr th:only-of-type {\n",
       "        vertical-align: middle;\n",
       "    }\n",
       "\n",
       "    .dataframe tbody tr th {\n",
       "        vertical-align: top;\n",
       "    }\n",
       "\n",
       "    .dataframe thead th {\n",
       "        text-align: right;\n",
       "    }\n",
       "</style>\n",
       "<table border=\"1\" class=\"dataframe\">\n",
       "  <thead>\n",
       "    <tr style=\"text-align: right;\">\n",
       "      <th></th>\n",
       "      <th>Unnamed: 0</th>\n",
       "      <th>entity_1</th>\n",
       "      <th>entity_2</th>\n",
       "      <th>weight</th>\n",
       "    </tr>\n",
       "  </thead>\n",
       "  <tbody>\n",
       "    <tr>\n",
       "      <th>3811</th>\n",
       "      <td>3811</td>\n",
       "      <td>Joaquín Guzmán Loera</td>\n",
       "      <td>Ismael Zambada García</td>\n",
       "      <td>41</td>\n",
       "    </tr>\n",
       "    <tr>\n",
       "      <th>3812</th>\n",
       "      <td>3812</td>\n",
       "      <td>Joaquín Guzmán Loera</td>\n",
       "      <td>Hector Manuel Beltran Leyva</td>\n",
       "      <td>23</td>\n",
       "    </tr>\n",
       "    <tr>\n",
       "      <th>3913</th>\n",
       "      <td>3913</td>\n",
       "      <td>Luis Enrique Calle Serna</td>\n",
       "      <td>Javier Antonio Calle Serna</td>\n",
       "      <td>22</td>\n",
       "    </tr>\n",
       "    <tr>\n",
       "      <th>3910</th>\n",
       "      <td>3910</td>\n",
       "      <td>Diego Perez Henao</td>\n",
       "      <td>Luis Enrique Calle Serna</td>\n",
       "      <td>16</td>\n",
       "    </tr>\n",
       "    <tr>\n",
       "      <th>635</th>\n",
       "      <td>635</td>\n",
       "      <td>Pablo Escobar</td>\n",
       "      <td>Diego Fernando Murillo Bejarano</td>\n",
       "      <td>15</td>\n",
       "    </tr>\n",
       "    <tr>\n",
       "      <th>3825</th>\n",
       "      <td>3825</td>\n",
       "      <td>Ismael Zambada García</td>\n",
       "      <td>Hector Manuel Beltran Leyva</td>\n",
       "      <td>14</td>\n",
       "    </tr>\n",
       "    <tr>\n",
       "      <th>3911</th>\n",
       "      <td>3911</td>\n",
       "      <td>Diego Perez Henao</td>\n",
       "      <td>Javier Antonio Calle Serna</td>\n",
       "      <td>14</td>\n",
       "    </tr>\n",
       "    <tr>\n",
       "      <th>580</th>\n",
       "      <td>580</td>\n",
       "      <td>Ariel Máximo Cantero</td>\n",
       "      <td>Joaquín Guzmán Loera</td>\n",
       "      <td>14</td>\n",
       "    </tr>\n",
       "    <tr>\n",
       "      <th>649</th>\n",
       "      <td>649</td>\n",
       "      <td>Pablo Escobar</td>\n",
       "      <td>Dairo Antonio Úsuga</td>\n",
       "      <td>12</td>\n",
       "    </tr>\n",
       "    <tr>\n",
       "      <th>3720</th>\n",
       "      <td>3720</td>\n",
       "      <td>Pedro Oliverio Guerrero Castillo</td>\n",
       "      <td>Daniel Barrera Barrera</td>\n",
       "      <td>12</td>\n",
       "    </tr>\n",
       "    <tr>\n",
       "      <th>2626</th>\n",
       "      <td>2626</td>\n",
       "      <td>Nemesio Rubén Oseguera Cervantes</td>\n",
       "      <td>Joaquín Guzmán Loera</td>\n",
       "      <td>12</td>\n",
       "    </tr>\n",
       "    <tr>\n",
       "      <th>661</th>\n",
       "      <td>661</td>\n",
       "      <td>Pablo Escobar</td>\n",
       "      <td>Joaquín Guzmán Loera</td>\n",
       "      <td>11</td>\n",
       "    </tr>\n",
       "    <tr>\n",
       "      <th>2008</th>\n",
       "      <td>2008</td>\n",
       "      <td>Seuxis Pausías Hernández</td>\n",
       "      <td>Luciano Marín Arango</td>\n",
       "      <td>10</td>\n",
       "    </tr>\n",
       "    <tr>\n",
       "      <th>670</th>\n",
       "      <td>670</td>\n",
       "      <td>Pablo Escobar</td>\n",
       "      <td>Daniel Barrera Barrera</td>\n",
       "      <td>9</td>\n",
       "    </tr>\n",
       "    <tr>\n",
       "      <th>3106</th>\n",
       "      <td>3106</td>\n",
       "      <td>Diego Fernando Murillo Bejarano</td>\n",
       "      <td>Angel de Jesus Pacheco Chanci</td>\n",
       "      <td>8</td>\n",
       "    </tr>\n",
       "    <tr>\n",
       "      <th>646</th>\n",
       "      <td>646</td>\n",
       "      <td>Pablo Escobar</td>\n",
       "      <td>Angel de Jesus Pacheco Chanci</td>\n",
       "      <td>8</td>\n",
       "    </tr>\n",
       "    <tr>\n",
       "      <th>3585</th>\n",
       "      <td>3585</td>\n",
       "      <td>Dairo Antonio Úsuga</td>\n",
       "      <td>Daniel Barrera Barrera</td>\n",
       "      <td>8</td>\n",
       "    </tr>\n",
       "    <tr>\n",
       "      <th>2627</th>\n",
       "      <td>2627</td>\n",
       "      <td>Nemesio Rubén Oseguera Cervantes</td>\n",
       "      <td>Ismael Zambada García</td>\n",
       "      <td>8</td>\n",
       "    </tr>\n",
       "    <tr>\n",
       "      <th>3903</th>\n",
       "      <td>3903</td>\n",
       "      <td>Daniel Barrera Barrera</td>\n",
       "      <td>Luis Enrique Calle Serna</td>\n",
       "      <td>8</td>\n",
       "    </tr>\n",
       "    <tr>\n",
       "      <th>3492</th>\n",
       "      <td>3492</td>\n",
       "      <td>Angel de Jesus Pacheco Chanci</td>\n",
       "      <td>Maximiliano Bonilla Orozco</td>\n",
       "      <td>8</td>\n",
       "    </tr>\n",
       "    <tr>\n",
       "      <th>3777</th>\n",
       "      <td>3777</td>\n",
       "      <td>Maximiliano Bonilla Orozco</td>\n",
       "      <td>Luis Enrique Calle Serna</td>\n",
       "      <td>7</td>\n",
       "    </tr>\n",
       "    <tr>\n",
       "      <th>2685</th>\n",
       "      <td>2685</td>\n",
       "      <td>Martin Farfan Diaz Gonzalez</td>\n",
       "      <td>Daniel Barrera Barrera</td>\n",
       "      <td>7</td>\n",
       "    </tr>\n",
       "    <tr>\n",
       "      <th>3280</th>\n",
       "      <td>3280</td>\n",
       "      <td>Jose Eberto Lopez Montero</td>\n",
       "      <td>Daniel Barrera Barrera</td>\n",
       "      <td>7</td>\n",
       "    </tr>\n",
       "    <tr>\n",
       "      <th>3265</th>\n",
       "      <td>3265</td>\n",
       "      <td>Jose Eberto Lopez Montero</td>\n",
       "      <td>Pedro Oliverio Guerrero Castillo</td>\n",
       "      <td>7</td>\n",
       "    </tr>\n",
       "    <tr>\n",
       "      <th>3778</th>\n",
       "      <td>3778</td>\n",
       "      <td>Maximiliano Bonilla Orozco</td>\n",
       "      <td>Javier Antonio Calle Serna</td>\n",
       "      <td>6</td>\n",
       "    </tr>\n",
       "    <tr>\n",
       "      <th>2265</th>\n",
       "      <td>2265</td>\n",
       "      <td>Miguel Botache Santillana</td>\n",
       "      <td>Néstor Gregorio Vera Fernández</td>\n",
       "      <td>6</td>\n",
       "    </tr>\n",
       "    <tr>\n",
       "      <th>2069</th>\n",
       "      <td>2069</td>\n",
       "      <td>Hernán Darío Velásquez Saldarriaga</td>\n",
       "      <td>Luciano Marín Arango</td>\n",
       "      <td>6</td>\n",
       "    </tr>\n",
       "    <tr>\n",
       "      <th>2303</th>\n",
       "      <td>2303</td>\n",
       "      <td>Miguel Botache Santillana</td>\n",
       "      <td>Luciano Marín Arango</td>\n",
       "      <td>6</td>\n",
       "    </tr>\n",
       "    <tr>\n",
       "      <th>2523</th>\n",
       "      <td>2523</td>\n",
       "      <td>Dámaso López Núñez</td>\n",
       "      <td>Joaquín Guzmán Loera</td>\n",
       "      <td>6</td>\n",
       "    </tr>\n",
       "    <tr>\n",
       "      <th>3904</th>\n",
       "      <td>3904</td>\n",
       "      <td>Daniel Barrera Barrera</td>\n",
       "      <td>Javier Antonio Calle Serna</td>\n",
       "      <td>6</td>\n",
       "    </tr>\n",
       "  </tbody>\n",
       "</table>\n",
       "</div>"
      ],
      "text/plain": [
       "      Unnamed: 0                            entity_1  \\\n",
       "3811        3811                Joaquín Guzmán Loera   \n",
       "3812        3812                Joaquín Guzmán Loera   \n",
       "3913        3913            Luis Enrique Calle Serna   \n",
       "3910        3910                   Diego Perez Henao   \n",
       "635          635                       Pablo Escobar   \n",
       "3825        3825               Ismael Zambada García   \n",
       "3911        3911                   Diego Perez Henao   \n",
       "580          580                Ariel Máximo Cantero   \n",
       "649          649                       Pablo Escobar   \n",
       "3720        3720    Pedro Oliverio Guerrero Castillo   \n",
       "2626        2626    Nemesio Rubén Oseguera Cervantes   \n",
       "661          661                       Pablo Escobar   \n",
       "2008        2008            Seuxis Pausías Hernández   \n",
       "670          670                       Pablo Escobar   \n",
       "3106        3106     Diego Fernando Murillo Bejarano   \n",
       "646          646                       Pablo Escobar   \n",
       "3585        3585                 Dairo Antonio Úsuga   \n",
       "2627        2627    Nemesio Rubén Oseguera Cervantes   \n",
       "3903        3903              Daniel Barrera Barrera   \n",
       "3492        3492       Angel de Jesus Pacheco Chanci   \n",
       "3777        3777          Maximiliano Bonilla Orozco   \n",
       "2685        2685         Martin Farfan Diaz Gonzalez   \n",
       "3280        3280           Jose Eberto Lopez Montero   \n",
       "3265        3265           Jose Eberto Lopez Montero   \n",
       "3778        3778          Maximiliano Bonilla Orozco   \n",
       "2265        2265           Miguel Botache Santillana   \n",
       "2069        2069  Hernán Darío Velásquez Saldarriaga   \n",
       "2303        2303           Miguel Botache Santillana   \n",
       "2523        2523                  Dámaso López Núñez   \n",
       "3904        3904              Daniel Barrera Barrera   \n",
       "\n",
       "                              entity_2  weight  \n",
       "3811             Ismael Zambada García      41  \n",
       "3812       Hector Manuel Beltran Leyva      23  \n",
       "3913        Javier Antonio Calle Serna      22  \n",
       "3910          Luis Enrique Calle Serna      16  \n",
       "635    Diego Fernando Murillo Bejarano      15  \n",
       "3825       Hector Manuel Beltran Leyva      14  \n",
       "3911        Javier Antonio Calle Serna      14  \n",
       "580               Joaquín Guzmán Loera      14  \n",
       "649                Dairo Antonio Úsuga      12  \n",
       "3720            Daniel Barrera Barrera      12  \n",
       "2626              Joaquín Guzmán Loera      12  \n",
       "661               Joaquín Guzmán Loera      11  \n",
       "2008              Luciano Marín Arango      10  \n",
       "670             Daniel Barrera Barrera       9  \n",
       "3106     Angel de Jesus Pacheco Chanci       8  \n",
       "646      Angel de Jesus Pacheco Chanci       8  \n",
       "3585            Daniel Barrera Barrera       8  \n",
       "2627             Ismael Zambada García       8  \n",
       "3903          Luis Enrique Calle Serna       8  \n",
       "3492        Maximiliano Bonilla Orozco       8  \n",
       "3777          Luis Enrique Calle Serna       7  \n",
       "2685            Daniel Barrera Barrera       7  \n",
       "3280            Daniel Barrera Barrera       7  \n",
       "3265  Pedro Oliverio Guerrero Castillo       7  \n",
       "3778        Javier Antonio Calle Serna       6  \n",
       "2265    Néstor Gregorio Vera Fernández       6  \n",
       "2069              Luciano Marín Arango       6  \n",
       "2303              Luciano Marín Arango       6  \n",
       "2523              Joaquín Guzmán Loera       6  \n",
       "3904        Javier Antonio Calle Serna       6  "
      ]
     },
     "execution_count": 76,
     "metadata": {},
     "output_type": "execute_result"
    }
   ],
   "source": [
    "#df_connections = pd.read_csv('_aux/Connections between individuals - alliances.csv')\n",
    "df_connections.sort_values('weight',ascending=False).head(30)"
   ]
  },
  {
   "cell_type": "markdown",
   "id": "01095e59",
   "metadata": {},
   "source": [
    "# Groups"
   ]
  },
  {
   "cell_type": "markdown",
   "id": "4a837c96",
   "metadata": {},
   "source": [
    "## Preparation"
   ]
  },
  {
   "cell_type": "code",
   "execution_count": 77,
   "id": "d312d127",
   "metadata": {},
   "outputs": [],
   "source": [
    "df_groups = pd.read_csv('_raw/groups.csv')"
   ]
  },
  {
   "cell_type": "code",
   "execution_count": 78,
   "id": "235ca5bc",
   "metadata": {},
   "outputs": [],
   "source": [
    "dict_groups = dict(zip(df_groups.name,df_groups.search_term))"
   ]
  },
  {
   "cell_type": "code",
   "execution_count": 79,
   "id": "6a3f112c",
   "metadata": {},
   "outputs": [],
   "source": [
    "dict_sizes2 = {}\n",
    "for name in df_groups.name.values:\n",
    "    dict_sizes2[name] = 0\n",
    "    for article in df_articles.text.values:\n",
    "        if dict_groups[name] in article:\n",
    "            dict_sizes2[name] += 1\n",
    "\n",
    "dict_sizes2 = {key:math.log(value) if value != 0 else 0 for key,value in dict_sizes2.items()}"
   ]
  },
  {
   "cell_type": "code",
   "execution_count": 80,
   "id": "db35e049",
   "metadata": {},
   "outputs": [],
   "source": [
    "df_connections2 = prepare_df_connections(df_groups.name.values)"
   ]
  },
  {
   "cell_type": "code",
   "execution_count": 81,
   "id": "9b324d77",
   "metadata": {},
   "outputs": [],
   "source": [
    "def detect_relationship2(text, entity_1, entity_2):\n",
    "\n",
    "    positions_1 = [i for i in range(len(text)) if text.startswith(entity_1, i)] # Proximity search\n",
    "    positions_2 = [i for i in range(len(text)) if text.startswith(entity_2, i)]\n",
    "\n",
    "    proximity_counter = 0\n",
    "    for position_1 in positions_1:\n",
    "        for position_2 in positions_2:\n",
    "            if abs(position_1-position_2) <= 60: # the average word length in English is 5 characters (+ 1 blank space)\n",
    "                proximity_counter += 1\n",
    "\n",
    "    if entity_1 in text and entity_2 in text and proximity_counter >= 3:\n",
    "\n",
    "        alliance_score = count_words_in_text(alliance_keywords,clean_text(text))\n",
    "        rivalry_score = count_words_in_text(rivalry_keywords,clean_text(text))\n",
    "\n",
    "        if alliance_score > rivalry_score:\n",
    "            return 1\n",
    "        else:\n",
    "            return 0\n",
    "        \n",
    "    else:\n",
    "        return 0"
   ]
  },
  {
   "cell_type": "code",
   "execution_count": 82,
   "id": "e7299478",
   "metadata": {},
   "outputs": [
    {
     "data": {
      "text/plain": [
       "\"for article in tqdm(df_articles.text.values):\\n    for row in range(len(df_connections2)):\\n        0\\n        entity_1 = dict_groups[df_connections2.loc[row,'entity_1']]\\n        entity_2 = dict_groups[df_connections2.loc[row,'entity_2']]\\n\\n        df_connections2.loc[row,'weight'] += detect_relationship2(article, entity_1, entity_2)\\n\\ndf_connections2.to_csv('_aux/Connections between groups - alliances.csv')\""
      ]
     },
     "execution_count": 82,
     "metadata": {},
     "output_type": "execute_result"
    }
   ],
   "source": [
    "'''for article in tqdm(df_articles.text.values):\n",
    "    for row in range(len(df_connections2)):\n",
    "        0\n",
    "        entity_1 = dict_groups[df_connections2.loc[row,'entity_1']]\n",
    "        entity_2 = dict_groups[df_connections2.loc[row,'entity_2']]\n",
    "\n",
    "        df_connections2.loc[row,'weight'] += detect_relationship2(article, entity_1, entity_2)\n",
    "\n",
    "df_connections2.to_csv('_aux/Connections between groups - alliances.csv')'''"
   ]
  },
  {
   "cell_type": "code",
   "execution_count": 83,
   "id": "df73ea55",
   "metadata": {},
   "outputs": [
    {
     "name": "stdout",
     "output_type": "stream",
     "text": [
      "_out/networks/groups_alliances.html\n"
     ]
    }
   ],
   "source": [
    "g2, nt2 = network_preparation(df_connections2,dict_sizes2)\n",
    "nt2.show('_out/networks/groups_alliances.html',notebook=False)"
   ]
  },
  {
   "cell_type": "code",
   "execution_count": 84,
   "id": "c3bf7e14",
   "metadata": {},
   "outputs": [],
   "source": [
    "with open(\"_out/networks/groups_alliances.pkl\", \"wb\") as f:\n",
    "    pickle.dump(g2, f)"
   ]
  },
  {
   "cell_type": "markdown",
   "id": "f9e72989",
   "metadata": {},
   "source": [
    "## Community detection"
   ]
  },
  {
   "cell_type": "code",
   "execution_count": 85,
   "id": "afd02d31",
   "metadata": {},
   "outputs": [
    {
     "data": {
      "text/plain": [
       "\"partition2 = algorithms.louvain(g2, resolution=1., randomize=False)\\nprint(partition2.communities) # identified clustering\\n\\ncolors = ['#0000FF','#008000','#800080','#FF0000','#F0F8FF','#FF7F50','#B22222','#FF69B4','\\t#FFFACD']\\n\\nfor community,color_code in zip(partition2.communities,colors):   \\n    for node in nt2.nodes:\\n        if node['id'] in community:\\n            node['color'] = color_code\""
      ]
     },
     "execution_count": 85,
     "metadata": {},
     "output_type": "execute_result"
    }
   ],
   "source": [
    "'''partition2 = algorithms.louvain(g2, resolution=1., randomize=False)\n",
    "print(partition2.communities) # identified clustering\n",
    "\n",
    "colors = ['#0000FF','#008000','#800080','#FF0000','#F0F8FF','#FF7F50','#B22222','#FF69B4','\t#FFFACD']\n",
    "\n",
    "for community,color_code in zip(partition2.communities,colors):   \n",
    "    for node in nt2.nodes:\n",
    "        if node['id'] in community:\n",
    "            node['color'] = color_code'''"
   ]
  },
  {
   "cell_type": "markdown",
   "id": "8cd178e6",
   "metadata": {},
   "source": [
    "## Preferential attachment"
   ]
  },
  {
   "cell_type": "code",
   "execution_count": 86,
   "id": "523a9728",
   "metadata": {},
   "outputs": [
    {
     "data": {
      "text/plain": [
       "'degree_sequence = [degree for node, degree in g2.degree()]\\n\\nplt.hist(degree_sequence, bins=20, density=True, alpha=0.7)\\nplt.xlabel(\"Degree\")\\nplt.ylabel(\"Probability\")\\nplt.title(\"Degree Distribution\")\\nplt.show()\\n\\nfit = powerlaw.Fit(degree_sequence)\\n\\nfit.plot_pdf(color=\\'b\\', linewidth=2)\\nfit.power_law.plot_pdf(color=\\'r\\', linestyle=\\'--\\', ax=plt.gca())\\nplt.xlabel(\"Degree\")\\nplt.ylabel(\"Probability\")\\nplt.title(\"Degree Distribution and Power Law Fit\")\\nplt.legend([\\'Data\\', \\'Power Law Fit\\'])\\nplt.show()\\n\\nprint(\"Power Law Fit Summary:\")\\nprint(fit.power_law.alpha)\\nprint(fit.power_law.xmin)\\nprint(\"KS p-value:\", fit.power_law.KS())'"
      ]
     },
     "execution_count": 86,
     "metadata": {},
     "output_type": "execute_result"
    }
   ],
   "source": [
    "'''degree_sequence = [degree for node, degree in g2.degree()]\n",
    "\n",
    "plt.hist(degree_sequence, bins=20, density=True, alpha=0.7)\n",
    "plt.xlabel(\"Degree\")\n",
    "plt.ylabel(\"Probability\")\n",
    "plt.title(\"Degree Distribution\")\n",
    "plt.show()\n",
    "\n",
    "fit = powerlaw.Fit(degree_sequence)\n",
    "\n",
    "fit.plot_pdf(color='b', linewidth=2)\n",
    "fit.power_law.plot_pdf(color='r', linestyle='--', ax=plt.gca())\n",
    "plt.xlabel(\"Degree\")\n",
    "plt.ylabel(\"Probability\")\n",
    "plt.title(\"Degree Distribution and Power Law Fit\")\n",
    "plt.legend(['Data', 'Power Law Fit'])\n",
    "plt.show()\n",
    "\n",
    "print(\"Power Law Fit Summary:\")\n",
    "print(fit.power_law.alpha)\n",
    "print(fit.power_law.xmin)\n",
    "print(\"KS p-value:\", fit.power_law.KS())'''"
   ]
  },
  {
   "cell_type": "markdown",
   "id": "fe1715d3",
   "metadata": {},
   "source": [
    "## Validation"
   ]
  },
  {
   "cell_type": "markdown",
   "id": "431c292f",
   "metadata": {},
   "source": [
    "1. ELN and FARC have a longstanding rivalry.\n",
    "2. MS13 and Barrio 18... Don't even get me started.\n",
    "3. The Zetas and the Cartel del Golfo had a war starting in 2010.\n",
    "4. FARC and ERPAC were rivals.\n",
    "5. ELN and Rastrojos had clashes."
   ]
  },
  {
   "cell_type": "code",
   "execution_count": 87,
   "id": "98767823",
   "metadata": {},
   "outputs": [
    {
     "data": {
      "text/plain": [
       "\"df_connections2.sort_values('weight',ascending=False).head(30)\""
      ]
     },
     "execution_count": 87,
     "metadata": {},
     "output_type": "execute_result"
    }
   ],
   "source": [
    "'''df_connections2.sort_values('weight',ascending=False).head(30)'''"
   ]
  }
 ],
 "metadata": {
  "kernelspec": {
   "display_name": "Python 3 (ipykernel)",
   "language": "python",
   "name": "python3"
  },
  "language_info": {
   "codemirror_mode": {
    "name": "ipython",
    "version": 3
   },
   "file_extension": ".py",
   "mimetype": "text/x-python",
   "name": "python",
   "nbconvert_exporter": "python",
   "pygments_lexer": "ipython3",
   "version": "3.10.9"
  },
  "toc": {
   "base_numbering": 1,
   "nav_menu": {},
   "number_sections": true,
   "sideBar": true,
   "skip_h1_title": false,
   "title_cell": "Table of Contents",
   "title_sidebar": "Contents",
   "toc_cell": false,
   "toc_position": {
    "height": "calc(100% - 180px)",
    "left": "10px",
    "top": "150px",
    "width": "285.275px"
   },
   "toc_section_display": true,
   "toc_window_display": true
  }
 },
 "nbformat": 4,
 "nbformat_minor": 5
}
