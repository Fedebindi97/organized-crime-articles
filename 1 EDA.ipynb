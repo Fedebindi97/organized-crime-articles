{
 "cells": [
  {
   "cell_type": "markdown",
   "metadata": {},
   "source": [
    "# Packages"
   ]
  },
  {
   "cell_type": "code",
   "execution_count": 18,
   "metadata": {},
   "outputs": [],
   "source": [
    "import pandas as pd\n",
    "import numpy as np\n",
    "from plotnine import *"
   ]
  },
  {
   "cell_type": "markdown",
   "metadata": {},
   "source": [
    "# Load and prepare data"
   ]
  },
  {
   "cell_type": "code",
   "execution_count": 4,
   "metadata": {},
   "outputs": [
    {
     "data": {
      "text/html": [
       "<div>\n",
       "<style scoped>\n",
       "    .dataframe tbody tr th:only-of-type {\n",
       "        vertical-align: middle;\n",
       "    }\n",
       "\n",
       "    .dataframe tbody tr th {\n",
       "        vertical-align: top;\n",
       "    }\n",
       "\n",
       "    .dataframe thead th {\n",
       "        text-align: right;\n",
       "    }\n",
       "</style>\n",
       "<table border=\"1\" class=\"dataframe\">\n",
       "  <thead>\n",
       "    <tr style=\"text-align: right;\">\n",
       "      <th></th>\n",
       "      <th>text</th>\n",
       "      <th>lang</th>\n",
       "      <th>length</th>\n",
       "    </tr>\n",
       "  </thead>\n",
       "  <tbody>\n",
       "    <tr>\n",
       "      <th>0</th>\n",
       "      <td>EPL Muscles in on El Naya Drug Corridor in Wes...</td>\n",
       "      <td>en</td>\n",
       "      <td>3494</td>\n",
       "    </tr>\n",
       "    <tr>\n",
       "      <th>1</th>\n",
       "      <td>Campaign Group Warns of Dangers for Colombia E...</td>\n",
       "      <td>en</td>\n",
       "      <td>1133</td>\n",
       "    </tr>\n",
       "    <tr>\n",
       "      <th>2</th>\n",
       "      <td>InSight: Report Tracks How Intra-Cartel Wars E...</td>\n",
       "      <td>en</td>\n",
       "      <td>6203</td>\n",
       "    </tr>\n",
       "    <tr>\n",
       "      <th>3</th>\n",
       "      <td>Colombia Cocaine Production Breaks New Record ...</td>\n",
       "      <td>en</td>\n",
       "      <td>6758</td>\n",
       "    </tr>\n",
       "    <tr>\n",
       "      <th>4</th>\n",
       "      <td>US Marijuana Vote Unlikely to Impact Mexico in...</td>\n",
       "      <td>en</td>\n",
       "      <td>3895</td>\n",
       "    </tr>\n",
       "    <tr>\n",
       "      <th>...</th>\n",
       "      <td>...</td>\n",
       "      <td>...</td>\n",
       "      <td>...</td>\n",
       "    </tr>\n",
       "    <tr>\n",
       "      <th>19935</th>\n",
       "      <td>Presencia de pandillas en Tegucigalpa. La exto...</td>\n",
       "      <td>es</td>\n",
       "      <td>482</td>\n",
       "    </tr>\n",
       "    <tr>\n",
       "      <th>19936</th>\n",
       "      <td>Pandillas callejeras. Las conocidas pandillas ...</td>\n",
       "      <td>es</td>\n",
       "      <td>4212</td>\n",
       "    </tr>\n",
       "    <tr>\n",
       "      <th>19937</th>\n",
       "      <td>Imitadores. Mediante la violencia, la Mara Sal...</td>\n",
       "      <td>es</td>\n",
       "      <td>2955</td>\n",
       "    </tr>\n",
       "    <tr>\n",
       "      <th>19938</th>\n",
       "      <td>ABC de la extorsión 3: El modus operandi. Un t...</td>\n",
       "      <td>es</td>\n",
       "      <td>3415</td>\n",
       "    </tr>\n",
       "    <tr>\n",
       "      <th>19939</th>\n",
       "      <td>Presencia de pandillas en San Pedro Sula. San ...</td>\n",
       "      <td>es</td>\n",
       "      <td>671</td>\n",
       "    </tr>\n",
       "  </tbody>\n",
       "</table>\n",
       "<p>19940 rows × 3 columns</p>\n",
       "</div>"
      ],
      "text/plain": [
       "                                                    text lang  length\n",
       "0      EPL Muscles in on El Naya Drug Corridor in Wes...   en    3494\n",
       "1      Campaign Group Warns of Dangers for Colombia E...   en    1133\n",
       "2      InSight: Report Tracks How Intra-Cartel Wars E...   en    6203\n",
       "3      Colombia Cocaine Production Breaks New Record ...   en    6758\n",
       "4      US Marijuana Vote Unlikely to Impact Mexico in...   en    3895\n",
       "...                                                  ...  ...     ...\n",
       "19935  Presencia de pandillas en Tegucigalpa. La exto...   es     482\n",
       "19936  Pandillas callejeras. Las conocidas pandillas ...   es    4212\n",
       "19937  Imitadores. Mediante la violencia, la Mara Sal...   es    2955\n",
       "19938  ABC de la extorsión 3: El modus operandi. Un t...   es    3415\n",
       "19939  Presencia de pandillas en San Pedro Sula. San ...   es     671\n",
       "\n",
       "[19940 rows x 3 columns]"
      ]
     },
     "execution_count": 4,
     "metadata": {},
     "output_type": "execute_result"
    }
   ],
   "source": [
    "df = pd.read_csv('_raw/Organized crime articles.csv')\n",
    "df['length'] = df.text.apply(lambda x: len(x))\n",
    "df"
   ]
  },
  {
   "cell_type": "markdown",
   "metadata": {},
   "source": [
    "# Graphs"
   ]
  },
  {
   "cell_type": "code",
   "execution_count": 17,
   "metadata": {},
   "outputs": [
    {
     "name": "stdout",
     "output_type": "stream",
     "text": [
      "EN article length mean: 4443.519911840705 median: 3016.0\n",
      "ES article length mean: 5548.321439103509 median: 3582.5\n"
     ]
    },
    {
     "data": {
      "image/png": "[encoded data removed]",
      "text/plain": [
       "<Figure size 640x480 with 1 Axes>"
      ]
     },
     "metadata": {
      "needs_background": "light"
     },
     "output_type": "display_data"
    },
    {
     "name": "stdout",
     "output_type": "stream",
     "text": [
      "\n"
     ]
    }
   ],
   "source": [
    "plot = (\n",
    "    ggplot(df, aes(x='length',fill='lang'))\n",
    "    + geom_histogram(binwidth=10, alpha=0.7, position='identity')\n",
    "    + theme_minimal()\n",
    "    + labs(title='Article length frequency',x='',y='')\n",
    ")\n",
    "print(f\"EN article length mean: {df[df.lang=='en'].length.mean()} median: {df[df.lang=='en'].length.median()}\")\n",
    "print(f\"ES article length mean: {df[df.lang=='es'].length.mean()} median: {df[df.lang=='es'].length.median()}\")\n",
    "print(plot)"
   ]
  }
 ],
 "metadata": {
  "kernelspec": {
   "display_name": "baseplus",
   "language": "python",
   "name": "python3"
  },
  "language_info": {
   "codemirror_mode": {
    "name": "ipython",
    "version": 3
   },
   "file_extension": ".py",
   "mimetype": "text/x-python",
   "name": "python",
   "nbconvert_exporter": "python",
   "pygments_lexer": "ipython3",
   "version": "3.10.9"
  },
  "orig_nbformat": 4
 },
 "nbformat": 4,
 "nbformat_minor": 2
}
