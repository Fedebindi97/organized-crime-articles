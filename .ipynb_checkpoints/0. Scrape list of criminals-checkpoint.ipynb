{
 "cells": [
  {
   "cell_type": "markdown",
   "id": "d6133139",
   "metadata": {},
   "source": [
    "# Packages"
   ]
  },
  {
   "cell_type": "code",
   "execution_count": 56,
   "id": "36b28830",
   "metadata": {},
   "outputs": [],
   "source": [
    "import pandas as pd\n",
    "import requests\n",
    "import bs4\n",
    "import urllib\n",
    "import time"
   ]
  },
  {
   "cell_type": "markdown",
   "id": "f35da4c2",
   "metadata": {},
   "source": [
    "# Scraping"
   ]
  },
  {
   "cell_type": "code",
   "execution_count": 57,
   "id": "f36d7f40",
   "metadata": {},
   "outputs": [],
   "source": [
    "base_url_individuals = 'https://insightcrime.org/criminal-actors/page/{}/?filter=personalities&country=0&orderby'\n",
    "pages_individuals = 8\n",
    "\n",
    "base_url_groups = 'https://insightcrime.org/criminal-actors/page/{}/?filter=armed_groups&country=0&orderby'\n",
    "pages_groups = 9"
   ]
  },
  {
   "cell_type": "code",
   "execution_count": 58,
   "id": "fdd46ff0",
   "metadata": {},
   "outputs": [],
   "source": [
    "individuals_list = []\n",
    "groups_list = []"
   ]
  },
  {
   "cell_type": "code",
   "execution_count": 59,
   "id": "f0d9918c",
   "metadata": {},
   "outputs": [],
   "source": [
    "for page in range(1,pages_groups+1):\n",
    "    \n",
    "    url = base_url_groups.format(page)\n",
    "    res = requests.get(url)\n",
    "    soup = bs4.BeautifulSoup(res.text,'lxml')\n",
    "    \n",
    "    boxes = soup.select('.page-general__news-list-criminals .box h2 a')\n",
    "    page_list = [box.get_text(strip=True) for box in boxes]\n",
    "    groups_list += page_list"
   ]
  },
  {
   "cell_type": "code",
   "execution_count": 60,
   "id": "49a8590d",
   "metadata": {},
   "outputs": [],
   "source": [
    "for page in range(1,pages_individuals+1):\n",
    "    \n",
    "    url = base_url_individuals.format(page)\n",
    "    res = requests.get(url)\n",
    "    soup = bs4.BeautifulSoup(res.text,'lxml')\n",
    "    \n",
    "    boxes = soup.select('.page-general__news-list-criminals .box h2 a')\n",
    "    page_list = [box.get_text(strip=True) for box in boxes]\n",
    "    individuals_list += page_list"
   ]
  },
  {
   "cell_type": "markdown",
   "id": "c864c38c",
   "metadata": {},
   "source": [
    "# Cleaning and export"
   ]
  },
  {
   "cell_type": "markdown",
   "id": "e47f1c7c",
   "metadata": {},
   "source": [
    "## Individuals"
   ]
  },
  {
   "cell_type": "code",
   "execution_count": 61,
   "id": "7bff1541",
   "metadata": {},
   "outputs": [],
   "source": [
    "individuals_list = [name.split(',') for name in individuals_list]\n",
    "individuals_list = [[sublist[0], sublist[1].replace(' alias ', '').replace(\"'\",'').replace('‘', '').replace('’', ''), sublist[2].replace(' or the ','').replace(\"'\",'')] if len(sublist) == 3 \n",
    "              else [sublist[0], sublist[1].replace(' alias ', '').replace(\"'\",'').replace('‘', '').replace('’', ''), ''] if len(sublist) == 2\n",
    "              else [sublist[0], '', '']\n",
    "              for sublist in individuals_list]"
   ]
  },
  {
   "cell_type": "code",
   "execution_count": 62,
   "id": "870c1654",
   "metadata": {},
   "outputs": [],
   "source": [
    "df_individuals = pd.DataFrame(individuals_list).rename(columns={0:'name',1:'alias_1',2:'alias_2'})"
   ]
  },
  {
   "cell_type": "code",
   "execution_count": 63,
   "id": "af3395eb",
   "metadata": {},
   "outputs": [],
   "source": [
    "dict_corr_names = {'Miguel Angel Treviño':'Miguel Angel Treviño Morales',\n",
    "                  'Diego Fernando Murillo':'Diego Fernando Murillo Bejarano',\n",
    "                  'Luis E. Calle Serna':'Luis Enrique Calle Serna'}\n",
    "hector manuel beltran leyva\n",
    "\n",
    "for name, correction in dict_corr_names.items():\n",
    "    df_individuals.loc[df_individuals.name==name,'name'] = correction"
   ]
  },
  {
   "cell_type": "code",
   "execution_count": 64,
   "id": "9d563d7e",
   "metadata": {},
   "outputs": [],
   "source": [
    "def get_first_name(name):\n",
    "    if len(name.split())==4:\n",
    "        first_name = name.split()[0] + ' ' + name.split()[1]\n",
    "    else:\n",
    "        first_name = name.split()[0]\n",
    "    return first_name\n",
    "\n",
    "def get_last_name(name):\n",
    "    if len(name.split())<=2:\n",
    "        last_name = name.split()[-1]\n",
    "    else:\n",
    "        last_name = name.split()[-2] + ' ' + name.split()[-1]\n",
    "    return last_name"
   ]
  },
  {
   "cell_type": "code",
   "execution_count": 65,
   "id": "0f499fde",
   "metadata": {},
   "outputs": [],
   "source": [
    "df_individuals['first_name'] = df_individuals['name'].apply(get_first_name)\n",
    "df_individuals['family_name'] = df_individuals['name'].apply(get_last_name)"
   ]
  },
  {
   "cell_type": "markdown",
   "id": "0711a071",
   "metadata": {},
   "source": [
    "We necessarily need to complement with visual inspection and make some corrections:"
   ]
  },
  {
   "cell_type": "code",
   "execution_count": 66,
   "id": "2f4cea68",
   "metadata": {},
   "outputs": [],
   "source": [
    "dict_corr_first_family_names = {'César Emilio Peralta':['César Emilio','Peralta'],\n",
    "             'Jobanis de Jesús Ávila Villadiego':['Jobanis de Jesús','Ávila Villadiego'],\n",
    "             'Leider Johani Noscue':['Leider Johani','Noscue'],\n",
    "             'Walter Patricio Arizala':['Walter Patricio','Arizala'],\n",
    "             'Henry de Jesús López':['Henry de Jesús','López'],\n",
    "             'Horst Walther Overdick':['Horst Walther','Overdick'],\n",
    "             'Dairo Antonio Úsuga':['Dairo Antonio','Úsuga'],\n",
    "             'Juan de Dios Úsuga':['Juan de Dios','Úsuga'],\n",
    "             'Juan Orlando Hernández':['Juan Orlando','Hernández'],\n",
    "             'Ariel Máximo Cantero':['Ariel Máximo','Cantero'],\n",
    "             'Pedro Oliverio Guerrero':['Pedro Oliverio','Guerrero']}"
   ]
  },
  {
   "cell_type": "code",
   "execution_count": 67,
   "id": "e6016733",
   "metadata": {},
   "outputs": [],
   "source": [
    "for name, corrections in dict_corr_first_family_names.items():\n",
    "    df_individuals.loc[df_individuals.name==name,'first_name'] = corrections[0]\n",
    "    df_individuals.loc[df_individuals.name==name,'family_name'] = corrections[1]"
   ]
  },
  {
   "cell_type": "markdown",
   "id": "bf73bbff",
   "metadata": {},
   "source": [
    "\"Rastrojos\" is actually a group and Juan Orlando Hernández was the president of Honduras"
   ]
  },
  {
   "cell_type": "code",
   "execution_count": 68,
   "id": "6ca97382",
   "metadata": {},
   "outputs": [],
   "source": [
    "df_individuals = df_individuals[(df_individuals.name != 'Rastrojos') & (df_individuals.name != 'Juan Orlando Hernández')]"
   ]
  },
  {
   "cell_type": "code",
   "execution_count": 69,
   "id": "9555b106",
   "metadata": {},
   "outputs": [],
   "source": [
    "df_individuals.to_csv('_aux/Individuals.csv',index=False)"
   ]
  }
 ],
 "metadata": {
  "kernelspec": {
   "display_name": "Python 3 (ipykernel)",
   "language": "python",
   "name": "python3"
  },
  "language_info": {
   "codemirror_mode": {
    "name": "ipython",
    "version": 3
   },
   "file_extension": ".py",
   "mimetype": "text/x-python",
   "name": "python",
   "nbconvert_exporter": "python",
   "pygments_lexer": "ipython3",
   "version": "3.10.9"
  },
  "toc": {
   "base_numbering": 1,
   "nav_menu": {},
   "number_sections": true,
   "sideBar": true,
   "skip_h1_title": false,
   "title_cell": "Table of Contents",
   "title_sidebar": "Contents",
   "toc_cell": false,
   "toc_position": {
    "height": "calc(100% - 180px)",
    "left": "10px",
    "top": "150px",
    "width": "165px"
   },
   "toc_section_display": true,
   "toc_window_display": true
  }
 },
 "nbformat": 4,
 "nbformat_minor": 5
}
