{
 "cells": [
  {
   "cell_type": "markdown",
   "metadata": {},
   "source": [
    "# Packages"
   ]
  },
  {
   "cell_type": "code",
   "execution_count": 19,
   "metadata": {},
   "outputs": [
    {
     "name": "stderr",
     "output_type": "stream",
     "text": [
      "[nltk_data] Downloading package vader_lexicon to\n",
      "[nltk_data]     /Users/federico.bindi/nltk_data...\n",
      "[nltk_data]   Package vader_lexicon is already up-to-date!\n"
     ]
    }
   ],
   "source": [
    "import pandas as pd\n",
    "import numpy as np\n",
    "from plotnine import *\n",
    "import matplotlib.pyplot as plt\n",
    "\n",
    "import nltk\n",
    "nltk.download('vader_lexicon')\n",
    "from nltk.sentiment.vader import SentimentIntensityAnalyzer"
   ]
  },
  {
   "cell_type": "markdown",
   "metadata": {},
   "source": [
    "# Load and prepare data"
   ]
  },
  {
   "cell_type": "code",
   "execution_count": 20,
   "metadata": {},
   "outputs": [
    {
     "data": {
      "text/html": [
       "<div>\n",
       "<style scoped>\n",
       "    .dataframe tbody tr th:only-of-type {\n",
       "        vertical-align: middle;\n",
       "    }\n",
       "\n",
       "    .dataframe tbody tr th {\n",
       "        vertical-align: top;\n",
       "    }\n",
       "\n",
       "    .dataframe thead th {\n",
       "        text-align: right;\n",
       "    }\n",
       "</style>\n",
       "<table border=\"1\" class=\"dataframe\">\n",
       "  <thead>\n",
       "    <tr style=\"text-align: right;\">\n",
       "      <th></th>\n",
       "      <th>title</th>\n",
       "      <th>url</th>\n",
       "      <th>tag</th>\n",
       "      <th>text</th>\n",
       "      <th>date</th>\n",
       "      <th>author</th>\n",
       "      <th>length</th>\n",
       "    </tr>\n",
       "  </thead>\n",
       "  <tbody>\n",
       "    <tr>\n",
       "      <th>0</th>\n",
       "      <td>Firearms, Disappearances, Prison Overcrowding:...</td>\n",
       "      <td>https://insightcrime.org/news/firearms-disappe...</td>\n",
       "      <td>ARMS TRAFFICKING</td>\n",
       "      <td>From overpopulated, crumbling prisons to tens ...</td>\n",
       "      <td>2023-08-01</td>\n",
       "      <td>CHRIS DALBY</td>\n",
       "      <td>8048</td>\n",
       "    </tr>\n",
       "    <tr>\n",
       "      <th>1</th>\n",
       "      <td>Uruguay's Top Trafficker Disappears Yet Again ...</td>\n",
       "      <td>https://insightcrime.org/news/uruguay-traffick...</td>\n",
       "      <td>URUGUAY</td>\n",
       "      <td>Uruguayan drug trafficker Sebastián Marset has...</td>\n",
       "      <td>2023-07-31</td>\n",
       "      <td>CHRISTOPHER NEWTON AND CHRIS DALBY</td>\n",
       "      <td>5949</td>\n",
       "    </tr>\n",
       "    <tr>\n",
       "      <th>2</th>\n",
       "      <td>Latin America’s Criminal Bankers: Explaining C...</td>\n",
       "      <td>https://insightcrime.org/news/latin-america-cr...</td>\n",
       "      <td>COLOMBIA</td>\n",
       "      <td>Three cases in recent weeks highlight how Colo...</td>\n",
       "      <td>2023-07-28</td>\n",
       "      <td>ANASTASIA AUSTIN</td>\n",
       "      <td>3876</td>\n",
       "    </tr>\n",
       "    <tr>\n",
       "      <th>3</th>\n",
       "      <td>Criminal Groups Ally With State Forces for Cat...</td>\n",
       "      <td>https://insightcrime.org/news/criminal-groups-...</td>\n",
       "      <td>VENEZUELA</td>\n",
       "      <td>An increase in cattle rustling across Venezuel...</td>\n",
       "      <td>2023-07-27</td>\n",
       "      <td>VENEZUELA INVESTIGATIVE UNIT</td>\n",
       "      <td>3462</td>\n",
       "    </tr>\n",
       "    <tr>\n",
       "      <th>4</th>\n",
       "      <td>Shark Fin Trade Thriving in Latin America, Des...</td>\n",
       "      <td>https://insightcrime.org/news/shark-fin-trade-...</td>\n",
       "      <td>ILLEGAL FISHING</td>\n",
       "      <td>With record shark fin seizures continuing acro...</td>\n",
       "      <td>2023-07-26</td>\n",
       "      <td>MARÍA FERNANDA RAMÍREZ AND CHRIS DALBY</td>\n",
       "      <td>5030</td>\n",
       "    </tr>\n",
       "    <tr>\n",
       "      <th>...</th>\n",
       "      <td>...</td>\n",
       "      <td>...</td>\n",
       "      <td>...</td>\n",
       "      <td>...</td>\n",
       "      <td>...</td>\n",
       "      <td>...</td>\n",
       "      <td>...</td>\n",
       "    </tr>\n",
       "    <tr>\n",
       "      <th>10777</th>\n",
       "      <td>20,000 Migrants Kidnapped per year in Mexico</td>\n",
       "      <td>https://insightcrime.org/news/analysis/20000-m...</td>\n",
       "      <td>HUMAN TRAFFICKING</td>\n",
       "      <td>Twenty thousand migrants per year are kidnappe...</td>\n",
       "      <td>2010-10-31</td>\n",
       "      <td>INSIGHT CRIME</td>\n",
       "      <td>440</td>\n",
       "    </tr>\n",
       "    <tr>\n",
       "      <th>10778</th>\n",
       "      <td>Colombia Government: 152 Gangs in Medellin</td>\n",
       "      <td>https://insightcrime.org/news/analysis/colombi...</td>\n",
       "      <td>COLOMBIA</td>\n",
       "      <td>Colombian authorities have indentified 152 gan...</td>\n",
       "      <td>2010-10-31</td>\n",
       "      <td>INSIGHT CRIME</td>\n",
       "      <td>715</td>\n",
       "    </tr>\n",
       "    <tr>\n",
       "      <th>10779</th>\n",
       "      <td>Uruguay's Security Minister: \"Feudalization\" o...</td>\n",
       "      <td>https://insightcrime.org/news/analysis/uruguay...</td>\n",
       "      <td>BRAZIL</td>\n",
       "      <td>In an academic forum in Montevideo, Uruguay’s ...</td>\n",
       "      <td>2010-10-31</td>\n",
       "      <td>INSIGHT CRIME</td>\n",
       "      <td>421</td>\n",
       "    </tr>\n",
       "    <tr>\n",
       "      <th>10780</th>\n",
       "      <td>17 Dead in Honduras Gang Massacre</td>\n",
       "      <td>https://insightcrime.org/news/analysis/17-dead...</td>\n",
       "      <td>HONDURAS</td>\n",
       "      <td>Honduras is seeing the fallout from Tuesday’s ...</td>\n",
       "      <td>2010-09-09</td>\n",
       "      <td>INSIGHT CRIME</td>\n",
       "      <td>1334</td>\n",
       "    </tr>\n",
       "    <tr>\n",
       "      <th>10781</th>\n",
       "      <td>Plan Colombia</td>\n",
       "      <td>https://insightcrime.org/news/analysis/plan-co...</td>\n",
       "      <td>COLOMBIA</td>\n",
       "      <td>\"Plan Colombia\" is a multi-pronged, multi-bill...</td>\n",
       "      <td>2004-08-19</td>\n",
       "      <td>INSIGHT CRIME</td>\n",
       "      <td>3170</td>\n",
       "    </tr>\n",
       "  </tbody>\n",
       "</table>\n",
       "<p>10782 rows × 7 columns</p>\n",
       "</div>"
      ],
      "text/plain": [
       "                                                   title  \\\n",
       "0      Firearms, Disappearances, Prison Overcrowding:...   \n",
       "1      Uruguay's Top Trafficker Disappears Yet Again ...   \n",
       "2      Latin America’s Criminal Bankers: Explaining C...   \n",
       "3      Criminal Groups Ally With State Forces for Cat...   \n",
       "4      Shark Fin Trade Thriving in Latin America, Des...   \n",
       "...                                                  ...   \n",
       "10777       20,000 Migrants Kidnapped per year in Mexico   \n",
       "10778         Colombia Government: 152 Gangs in Medellin   \n",
       "10779  Uruguay's Security Minister: \"Feudalization\" o...   \n",
       "10780                  17 Dead in Honduras Gang Massacre   \n",
       "10781                                      Plan Colombia   \n",
       "\n",
       "                                                     url                tag  \\\n",
       "0      https://insightcrime.org/news/firearms-disappe...   ARMS TRAFFICKING   \n",
       "1      https://insightcrime.org/news/uruguay-traffick...            URUGUAY   \n",
       "2      https://insightcrime.org/news/latin-america-cr...           COLOMBIA   \n",
       "3      https://insightcrime.org/news/criminal-groups-...          VENEZUELA   \n",
       "4      https://insightcrime.org/news/shark-fin-trade-...    ILLEGAL FISHING   \n",
       "...                                                  ...                ...   \n",
       "10777  https://insightcrime.org/news/analysis/20000-m...  HUMAN TRAFFICKING   \n",
       "10778  https://insightcrime.org/news/analysis/colombi...           COLOMBIA   \n",
       "10779  https://insightcrime.org/news/analysis/uruguay...             BRAZIL   \n",
       "10780  https://insightcrime.org/news/analysis/17-dead...           HONDURAS   \n",
       "10781  https://insightcrime.org/news/analysis/plan-co...           COLOMBIA   \n",
       "\n",
       "                                                    text        date  \\\n",
       "0      From overpopulated, crumbling prisons to tens ...  2023-08-01   \n",
       "1      Uruguayan drug trafficker Sebastián Marset has...  2023-07-31   \n",
       "2      Three cases in recent weeks highlight how Colo...  2023-07-28   \n",
       "3      An increase in cattle rustling across Venezuel...  2023-07-27   \n",
       "4      With record shark fin seizures continuing acro...  2023-07-26   \n",
       "...                                                  ...         ...   \n",
       "10777  Twenty thousand migrants per year are kidnappe...  2010-10-31   \n",
       "10778  Colombian authorities have indentified 152 gan...  2010-10-31   \n",
       "10779  In an academic forum in Montevideo, Uruguay’s ...  2010-10-31   \n",
       "10780  Honduras is seeing the fallout from Tuesday’s ...  2010-09-09   \n",
       "10781  \"Plan Colombia\" is a multi-pronged, multi-bill...  2004-08-19   \n",
       "\n",
       "                                        author  length  \n",
       "0                                  CHRIS DALBY    8048  \n",
       "1           CHRISTOPHER NEWTON AND CHRIS DALBY    5949  \n",
       "2                             ANASTASIA AUSTIN    3876  \n",
       "3                 VENEZUELA INVESTIGATIVE UNIT    3462  \n",
       "4       MARÍA FERNANDA RAMÍREZ AND CHRIS DALBY    5030  \n",
       "...                                        ...     ...  \n",
       "10777                            INSIGHT CRIME     440  \n",
       "10778                            INSIGHT CRIME     715  \n",
       "10779                            INSIGHT CRIME     421  \n",
       "10780                            INSIGHT CRIME    1334  \n",
       "10781                            INSIGHT CRIME    3170  \n",
       "\n",
       "[10782 rows x 7 columns]"
      ]
     },
     "execution_count": 20,
     "metadata": {},
     "output_type": "execute_result"
    }
   ],
   "source": [
    "df_articles = pd.read_csv('_raw/articles_scraped.csv')\n",
    "df_articles['length'] = df_articles.text.apply(lambda x: len(x))\n",
    "df_articles"
   ]
  },
  {
   "cell_type": "markdown",
   "metadata": {},
   "source": [
    "# Graphs"
   ]
  },
  {
   "cell_type": "code",
   "execution_count": 21,
   "metadata": {},
   "outputs": [
    {
     "data": {
      "text/plain": [
       "'plot = (\\n    ggplot(df, aes(x=\\'length\\',fill=\\'lang\\'))\\n    + geom_histogram(binwidth=10, alpha=0.7, position=\\'identity\\')\\n    + theme_minimal()\\n    + labs(title=\\'Article length frequency\\',x=\\'\\',y=\\'\\')\\n)\\nprint(f\"EN article length mean: {df[df.lang==\\'en\\'].length.mean()} median: {df[df.lang==\\'en\\'].length.median()}\")\\nprint(f\"ES article length mean: {df[df.lang==\\'es\\'].length.mean()} median: {df[df.lang==\\'es\\'].length.median()}\")\\nprint(plot)'"
      ]
     },
     "execution_count": 21,
     "metadata": {},
     "output_type": "execute_result"
    }
   ],
   "source": [
    "'''plot = (\n",
    "    ggplot(df, aes(x='length',fill='lang'))\n",
    "    + geom_histogram(binwidth=10, alpha=0.7, position='identity')\n",
    "    + theme_minimal()\n",
    "    + labs(title='Article length frequency',x='',y='')\n",
    ")\n",
    "print(f\"EN article length mean: {df[df.lang=='en'].length.mean()} median: {df[df.lang=='en'].length.median()}\")\n",
    "print(f\"ES article length mean: {df[df.lang=='es'].length.mean()} median: {df[df.lang=='es'].length.median()}\")\n",
    "print(plot)'''"
   ]
  },
  {
   "cell_type": "markdown",
   "metadata": {},
   "source": [
    "# Exploratory sentiment analysis of articles"
   ]
  },
  {
   "cell_type": "code",
   "execution_count": 22,
   "metadata": {},
   "outputs": [],
   "source": [
    "def analyze_sentiment(text):\n",
    "    sentiment_analyzer = SentimentIntensityAnalyzer()\n",
    "    sentiment_scores = sentiment_analyzer.polarity_scores(text)\n",
    "    if sentiment_scores[\"compound\"] > 0.2:\n",
    "        category = \"Positive (Allies)\"\n",
    "    elif sentiment_scores[\"compound\"] < -0.2:\n",
    "        category =  \"Negative (Rivals)\"\n",
    "    else:\n",
    "        category = \"Neutral\"\n",
    "    \n",
    "    return sentiment_scores[\"compound\"], category"
   ]
  },
  {
   "cell_type": "code",
   "execution_count": 23,
   "metadata": {},
   "outputs": [],
   "source": [
    "df_articles['sent_score'] = df_articles['text'].apply(lambda x: analyze_sentiment(x)[0])\n",
    "df_articles['sentiment'] = df_articles['text'].apply(lambda x: analyze_sentiment(x)[1])"
   ]
  },
  {
   "cell_type": "code",
   "execution_count": 24,
   "metadata": {},
   "outputs": [
    {
     "data": {
      "text/plain": [
       "(array([8818.,    0.,    0.,    0.,    0.,  279.,    0.,    0.,    0.,\n",
       "        1685.]),\n",
       " array([0. , 0.2, 0.4, 0.6, 0.8, 1. , 1.2, 1.4, 1.6, 1.8, 2. ]),\n",
       " <BarContainer object of 10 artists>)"
      ]
     },
     "execution_count": 24,
     "metadata": {},
     "output_type": "execute_result"
    },
    {
     "data": {
      "image/png": "[encoded data removed]",
      "text/plain": [
       "<Figure size 640x480 with 1 Axes>"
      ]
     },
     "metadata": {},
     "output_type": "display_data"
    }
   ],
   "source": [
    "plt.hist(df_articles.sentiment)"
   ]
  },
  {
   "cell_type": "markdown",
   "metadata": {},
   "source": [
    "nltk vader does not capture sarcasm (it's based on a pre-defined lexicon) but InsightCrime articles do not contain sarcasm (most likely)"
   ]
  },
  {
   "cell_type": "markdown",
   "metadata": {},
   "source": []
  }
 ],
 "metadata": {
  "kernelspec": {
   "display_name": "Python 3 (ipykernel)",
   "language": "python",
   "name": "python3"
  },
  "language_info": {
   "codemirror_mode": {
    "name": "ipython",
    "version": 3
   },
   "file_extension": ".py",
   "mimetype": "text/x-python",
   "name": "python",
   "nbconvert_exporter": "python",
   "pygments_lexer": "ipython3",
   "version": "3.10.9"
  },
  "toc": {
   "base_numbering": 1,
   "nav_menu": {},
   "number_sections": true,
   "sideBar": true,
   "skip_h1_title": false,
   "title_cell": "Table of Contents",
   "title_sidebar": "Contents",
   "toc_cell": false,
   "toc_position": {},
   "toc_section_display": true,
   "toc_window_display": false
  }
 },
 "nbformat": 4,
 "nbformat_minor": 2
}
