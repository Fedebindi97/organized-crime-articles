{
 "cells": [
  {
   "cell_type": "markdown",
   "metadata": {},
   "source": [
    "# Packages"
   ]
  },
  {
   "cell_type": "code",
   "execution_count": 1,
   "metadata": {},
   "outputs": [
    {
     "name": "stderr",
     "output_type": "stream",
     "text": [
      "[nltk_data] Downloading package vader_lexicon to\n",
      "[nltk_data]     /Users/federico.bindi/nltk_data...\n",
      "[nltk_data]   Package vader_lexicon is already up-to-date!\n"
     ]
    }
   ],
   "source": [
    "import pandas as pd\n",
    "import numpy as np\n",
    "from plotnine import *\n",
    "import matplotlib.pyplot as plt\n",
    "\n",
    "import nltk\n",
    "nltk.download('vader_lexicon')\n",
    "from nltk.sentiment.vader import SentimentIntensityAnalyzer"
   ]
  },
  {
   "cell_type": "markdown",
   "metadata": {},
   "source": [
    "# Load and prepare data"
   ]
  },
  {
   "cell_type": "code",
   "execution_count": 2,
   "metadata": {},
   "outputs": [
    {
     "data": {
      "text/html": [
       "<div>\n",
       "<style scoped>\n",
       "    .dataframe tbody tr th:only-of-type {\n",
       "        vertical-align: middle;\n",
       "    }\n",
       "\n",
       "    .dataframe tbody tr th {\n",
       "        vertical-align: top;\n",
       "    }\n",
       "\n",
       "    .dataframe thead th {\n",
       "        text-align: right;\n",
       "    }\n",
       "</style>\n",
       "<table border=\"1\" class=\"dataframe\">\n",
       "  <thead>\n",
       "    <tr style=\"text-align: right;\">\n",
       "      <th></th>\n",
       "      <th>title</th>\n",
       "      <th>url</th>\n",
       "      <th>tag</th>\n",
       "      <th>text</th>\n",
       "      <th>date</th>\n",
       "      <th>author</th>\n",
       "      <th>length</th>\n",
       "    </tr>\n",
       "  </thead>\n",
       "  <tbody>\n",
       "    <tr>\n",
       "      <th>0</th>\n",
       "      <td>Colombian Mayors at a Crossroads: Co-Govern Wi...</td>\n",
       "      <td>https://insightcrime.org/news/colombian-mayors...</td>\n",
       "      <td>ES</td>\n",
       "      <td>On the morning of June 4, 2023, during a town...</td>\n",
       "      <td>2023-08-25</td>\n",
       "      <td>ALICIA FLÓREZ AND LARA LOAIZA</td>\n",
       "      <td>12038</td>\n",
       "    </tr>\n",
       "    <tr>\n",
       "      <th>1</th>\n",
       "      <td>Colombia's Total Peace 1-Year-On: Less State V...</td>\n",
       "      <td>https://insightcrime.org/news/colombias-total-...</td>\n",
       "      <td>COLOMBIA</td>\n",
       "      <td>One year into Colombian President Gustavo Pet...</td>\n",
       "      <td>2023-08-24</td>\n",
       "      <td>YAGO ROSADO</td>\n",
       "      <td>4014</td>\n",
       "    </tr>\n",
       "    <tr>\n",
       "      <th>2</th>\n",
       "      <td>Is Evacuation of 8,600 Venezuelan Miners Just ...</td>\n",
       "      <td>https://insightcrime.org/news/is-evacuation-of...</td>\n",
       "      <td>ES</td>\n",
       "      <td>Venezuelan military officials claim to have “...</td>\n",
       "      <td>2023-08-23</td>\n",
       "      <td>VENEZUELA INVESTIGATIVE UNIT</td>\n",
       "      <td>4458</td>\n",
       "    </tr>\n",
       "    <tr>\n",
       "      <th>3</th>\n",
       "      <td>Venezuela's Reliance on Contraband Food Risks ...</td>\n",
       "      <td>https://insightcrime.org/news/venezuelas-relia...</td>\n",
       "      <td>COLOMBIA</td>\n",
       "      <td>Venezuela’s agriculture and drinks industries...</td>\n",
       "      <td>2023-08-22</td>\n",
       "      <td>VENEZUELA INVESTIGATIVE UNIT</td>\n",
       "      <td>5393</td>\n",
       "    </tr>\n",
       "    <tr>\n",
       "      <th>4</th>\n",
       "      <td>In Ecuador’s Elections, Social Programs Won</td>\n",
       "      <td>https://insightcrime.org/news/in-ecuadors-elec...</td>\n",
       "      <td>ECUADOR</td>\n",
       "      <td>Ecuador is headed to the second round of pres...</td>\n",
       "      <td>2023-08-21</td>\n",
       "      <td>YAGO ROSADO</td>\n",
       "      <td>2786</td>\n",
       "    </tr>\n",
       "    <tr>\n",
       "      <th>...</th>\n",
       "      <td>...</td>\n",
       "      <td>...</td>\n",
       "      <td>...</td>\n",
       "      <td>...</td>\n",
       "      <td>...</td>\n",
       "      <td>...</td>\n",
       "      <td>...</td>\n",
       "    </tr>\n",
       "    <tr>\n",
       "      <th>10793</th>\n",
       "      <td>Paying Attention to Central America's Drug Tra...</td>\n",
       "      <td>https://insightcrime.org/news/analysis/paying-...</td>\n",
       "      <td>ES</td>\n",
       "      <td>From an October 27, 2010 report by Kevin Casa...</td>\n",
       "      <td>2010-10-31</td>\n",
       "      <td>INSIGHT CRIME</td>\n",
       "      <td>702</td>\n",
       "    </tr>\n",
       "    <tr>\n",
       "      <th>10794</th>\n",
       "      <td>'Barbie' Talks?</td>\n",
       "      <td>https://insightcrime.org/news/analysis/barbie-...</td>\n",
       "      <td>BELTRAN LEYVA ORG</td>\n",
       "      <td>Mexican authorities are making it seem as if ...</td>\n",
       "      <td>2010-10-31</td>\n",
       "      <td>INSIGHT CRIME</td>\n",
       "      <td>1919</td>\n",
       "    </tr>\n",
       "    <tr>\n",
       "      <th>10795</th>\n",
       "      <td>63pc of Mexican Municipalities 'Inflitrated' b...</td>\n",
       "      <td>https://insightcrime.org/news/analysis/63pc-of...</td>\n",
       "      <td>MEXICO</td>\n",
       "      <td>A new study by the Congressional Commission o...</td>\n",
       "      <td>2010-10-31</td>\n",
       "      <td>INSIGHT CRIME</td>\n",
       "      <td>634</td>\n",
       "    </tr>\n",
       "    <tr>\n",
       "      <th>10796</th>\n",
       "      <td>20,000 Migrants Kidnapped per year in Mexico</td>\n",
       "      <td>https://insightcrime.org/news/analysis/20000-m...</td>\n",
       "      <td>HUMAN TRAFFICKING</td>\n",
       "      <td>Twenty thousand migrants per year are kidnapp...</td>\n",
       "      <td>2010-10-31</td>\n",
       "      <td>INSIGHT CRIME</td>\n",
       "      <td>442</td>\n",
       "    </tr>\n",
       "    <tr>\n",
       "      <th>10797</th>\n",
       "      <td>Colombia Government: 152 Gangs in Medellin</td>\n",
       "      <td>https://insightcrime.org/news/analysis/colombi...</td>\n",
       "      <td>COLOMBIA</td>\n",
       "      <td>Colombian authorities have indentified 152 ga...</td>\n",
       "      <td>2010-10-31</td>\n",
       "      <td>INSIGHT CRIME</td>\n",
       "      <td>717</td>\n",
       "    </tr>\n",
       "  </tbody>\n",
       "</table>\n",
       "<p>10798 rows × 7 columns</p>\n",
       "</div>"
      ],
      "text/plain": [
       "                                                   title  \\\n",
       "0      Colombian Mayors at a Crossroads: Co-Govern Wi...   \n",
       "1      Colombia's Total Peace 1-Year-On: Less State V...   \n",
       "2      Is Evacuation of 8,600 Venezuelan Miners Just ...   \n",
       "3      Venezuela's Reliance on Contraband Food Risks ...   \n",
       "4            In Ecuador’s Elections, Social Programs Won   \n",
       "...                                                  ...   \n",
       "10793  Paying Attention to Central America's Drug Tra...   \n",
       "10794                                    'Barbie' Talks?   \n",
       "10795  63pc of Mexican Municipalities 'Inflitrated' b...   \n",
       "10796       20,000 Migrants Kidnapped per year in Mexico   \n",
       "10797         Colombia Government: 152 Gangs in Medellin   \n",
       "\n",
       "                                                     url                tag  \\\n",
       "0      https://insightcrime.org/news/colombian-mayors...                 ES   \n",
       "1      https://insightcrime.org/news/colombias-total-...           COLOMBIA   \n",
       "2      https://insightcrime.org/news/is-evacuation-of...                 ES   \n",
       "3      https://insightcrime.org/news/venezuelas-relia...           COLOMBIA   \n",
       "4      https://insightcrime.org/news/in-ecuadors-elec...            ECUADOR   \n",
       "...                                                  ...                ...   \n",
       "10793  https://insightcrime.org/news/analysis/paying-...                 ES   \n",
       "10794  https://insightcrime.org/news/analysis/barbie-...  BELTRAN LEYVA ORG   \n",
       "10795  https://insightcrime.org/news/analysis/63pc-of...             MEXICO   \n",
       "10796  https://insightcrime.org/news/analysis/20000-m...  HUMAN TRAFFICKING   \n",
       "10797  https://insightcrime.org/news/analysis/colombi...           COLOMBIA   \n",
       "\n",
       "                                                    text        date  \\\n",
       "0       On the morning of June 4, 2023, during a town...  2023-08-25   \n",
       "1       One year into Colombian President Gustavo Pet...  2023-08-24   \n",
       "2       Venezuelan military officials claim to have “...  2023-08-23   \n",
       "3       Venezuela’s agriculture and drinks industries...  2023-08-22   \n",
       "4       Ecuador is headed to the second round of pres...  2023-08-21   \n",
       "...                                                  ...         ...   \n",
       "10793   From an October 27, 2010 report by Kevin Casa...  2010-10-31   \n",
       "10794   Mexican authorities are making it seem as if ...  2010-10-31   \n",
       "10795   A new study by the Congressional Commission o...  2010-10-31   \n",
       "10796   Twenty thousand migrants per year are kidnapp...  2010-10-31   \n",
       "10797   Colombian authorities have indentified 152 ga...  2010-10-31   \n",
       "\n",
       "                                author  length  \n",
       "0       ALICIA FLÓREZ AND LARA LOAIZA    12038  \n",
       "1                         YAGO ROSADO     4014  \n",
       "2        VENEZUELA INVESTIGATIVE UNIT     4458  \n",
       "3        VENEZUELA INVESTIGATIVE UNIT     5393  \n",
       "4                         YAGO ROSADO     2786  \n",
       "...                                ...     ...  \n",
       "10793                   INSIGHT CRIME      702  \n",
       "10794                   INSIGHT CRIME     1919  \n",
       "10795                   INSIGHT CRIME      634  \n",
       "10796                   INSIGHT CRIME      442  \n",
       "10797                   INSIGHT CRIME      717  \n",
       "\n",
       "[10798 rows x 7 columns]"
      ]
     },
     "execution_count": 2,
     "metadata": {},
     "output_type": "execute_result"
    }
   ],
   "source": [
    "df_articles = pd.read_csv('_raw/articles_scraped.csv')\n",
    "df_articles['length'] = df_articles.text.apply(lambda x: len(x))\n",
    "df_articles"
   ]
  },
  {
   "cell_type": "markdown",
   "metadata": {},
   "source": [
    "# Graphs"
   ]
  },
  {
   "cell_type": "code",
   "execution_count": 3,
   "metadata": {},
   "outputs": [
    {
     "data": {
      "text/plain": [
       "'plot = (\\n    ggplot(df, aes(x=\\'length\\',fill=\\'lang\\'))\\n    + geom_histogram(binwidth=10, alpha=0.7, position=\\'identity\\')\\n    + theme_minimal()\\n    + labs(title=\\'Article length frequency\\',x=\\'\\',y=\\'\\')\\n)\\nprint(f\"EN article length mean: {df[df.lang==\\'en\\'].length.mean()} median: {df[df.lang==\\'en\\'].length.median()}\")\\nprint(f\"ES article length mean: {df[df.lang==\\'es\\'].length.mean()} median: {df[df.lang==\\'es\\'].length.median()}\")\\nprint(plot)'"
      ]
     },
     "execution_count": 3,
     "metadata": {},
     "output_type": "execute_result"
    }
   ],
   "source": [
    "'''plot = (\n",
    "    ggplot(df, aes(x='length',fill='lang'))\n",
    "    + geom_histogram(binwidth=10, alpha=0.7, position='identity')\n",
    "    + theme_minimal()\n",
    "    + labs(title='Article length frequency',x='',y='')\n",
    ")\n",
    "print(f\"EN article length mean: {df[df.lang=='en'].length.mean()} median: {df[df.lang=='en'].length.median()}\")\n",
    "print(f\"ES article length mean: {df[df.lang=='es'].length.mean()} median: {df[df.lang=='es'].length.median()}\")\n",
    "print(plot)'''"
   ]
  },
  {
   "cell_type": "markdown",
   "metadata": {},
   "source": [
    "# Exploratory sentiment analysis of articles"
   ]
  },
  {
   "cell_type": "code",
   "execution_count": 4,
   "metadata": {},
   "outputs": [],
   "source": [
    "def analyze_sentiment(text):\n",
    "    sentiment_analyzer = SentimentIntensityAnalyzer()\n",
    "    sentiment_scores = sentiment_analyzer.polarity_scores(text)\n",
    "    if sentiment_scores[\"compound\"] > 0.2:\n",
    "        category = \"Positive (Allies)\"\n",
    "    elif sentiment_scores[\"compound\"] < -0.2:\n",
    "        category =  \"Negative (Rivals)\"\n",
    "    else:\n",
    "        category = \"Neutral\"\n",
    "    \n",
    "    return sentiment_scores[\"compound\"], category"
   ]
  },
  {
   "cell_type": "code",
   "execution_count": 5,
   "metadata": {},
   "outputs": [],
   "source": [
    "df_articles['sent_score'] = df_articles['text'].apply(lambda x: analyze_sentiment(x)[0])\n",
    "df_articles['sentiment'] = df_articles['text'].apply(lambda x: analyze_sentiment(x)[1])"
   ]
  },
  {
   "cell_type": "code",
   "execution_count": 6,
   "metadata": {},
   "outputs": [
    {
     "data": {
      "text/plain": [
       "(array([8895.,    0.,    0.,    0.,    0., 1636.,    0.,    0.,    0.,\n",
       "         267.]),\n",
       " array([0. , 0.2, 0.4, 0.6, 0.8, 1. , 1.2, 1.4, 1.6, 1.8, 2. ]),\n",
       " <BarContainer object of 10 artists>)"
      ]
     },
     "execution_count": 6,
     "metadata": {},
     "output_type": "execute_result"
    },
    {
     "data": {
      "image/png": "[encoded data removed]",
      "text/plain": [
       "<Figure size 640x480 with 1 Axes>"
      ]
     },
     "metadata": {},
     "output_type": "display_data"
    }
   ],
   "source": [
    "plt.hist(df_articles.sentiment)"
   ]
  },
  {
   "cell_type": "markdown",
   "metadata": {},
   "source": [
    "nltk vader does not capture sarcasm (it's based on a pre-defined lexicon) but InsightCrime articles do not contain sarcasm (most likely)"
   ]
  },
  {
   "cell_type": "markdown",
   "metadata": {},
   "source": []
  }
 ],
 "metadata": {
  "kernelspec": {
   "display_name": "Python 3 (ipykernel)",
   "language": "python",
   "name": "python3"
  },
  "language_info": {
   "codemirror_mode": {
    "name": "ipython",
    "version": 3
   },
   "file_extension": ".py",
   "mimetype": "text/x-python",
   "name": "python",
   "nbconvert_exporter": "python",
   "pygments_lexer": "ipython3",
   "version": "3.10.9"
  },
  "toc": {
   "base_numbering": 1,
   "nav_menu": {},
   "number_sections": true,
   "sideBar": true,
   "skip_h1_title": false,
   "title_cell": "Table of Contents",
   "title_sidebar": "Contents",
   "toc_cell": false,
   "toc_position": {},
   "toc_section_display": true,
   "toc_window_display": false
  }
 },
 "nbformat": 4,
 "nbformat_minor": 2
}
