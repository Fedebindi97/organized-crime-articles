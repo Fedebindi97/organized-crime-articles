{
 "cells": [
  {
   "cell_type": "markdown",
   "id": "d6133139",
   "metadata": {},
   "source": [
    "# Packages"
   ]
  },
  {
   "cell_type": "code",
   "execution_count": 1,
   "id": "36b28830",
   "metadata": {},
   "outputs": [],
   "source": [
    "import pandas as pd\n",
    "import requests\n",
    "import bs4\n",
    "import urllib\n",
    "import time\n",
    "import re\n",
    "from tqdm import tqdm"
   ]
  },
  {
   "cell_type": "markdown",
   "id": "3816676e",
   "metadata": {},
   "source": [
    "# Articles"
   ]
  },
  {
   "cell_type": "code",
   "execution_count": 2,
   "id": "27687942",
   "metadata": {},
   "outputs": [],
   "source": [
    "base_url_articles = 'https://insightcrime.org/news/page/{}/'\n",
    "pages_articles = 899\n",
    "articles_data = {'title':[],'tag':[],'date_author':[],'text':[]}"
   ]
  },
  {
   "cell_type": "code",
   "execution_count": 3,
   "id": "86d7193f",
   "metadata": {},
   "outputs": [
    {
     "name": "stderr",
     "output_type": "stream",
     "text": [
      "  3%|▎         | 29/899 [04:56<2:56:14, 12.15s/it]"
     ]
    }
   ],
   "source": [
    "for page in tqdm(range(1,pages_articles+1)):\n",
    "    \n",
    "    url = base_url_articles.format(page)\n",
    "    res = requests.get(url)\n",
    "    soup = bs4.BeautifulSoup(res.text,'lxml')\n",
    "    \n",
    "    boxes = soup.select('.page-general__list-news .card-news h2 a')\n",
    "\n",
    "    for box in boxes:\n",
    "        articles_data['title'].append(box.get_text(strip=True))\n",
    "\n",
    "        article_link = box['href']  \n",
    "        article_response = requests.get(article_link)\n",
    "        article_soup = bs4.BeautifulSoup(article_response.content, 'html.parser')\n",
    "        article_content = article_soup.find('div', class_='single-content')\n",
    "        articles_data['text'].append(article_content.get_text())\n",
    "\n",
    "        articles_data['date_author'].append(article_soup.find('span',class_='autor').get_text())\n",
    "\n",
    "        articles_data['tag'].append(article_soup.find('div',class_='date').find('a').get_text())"
   ]
  },
  {
   "cell_type": "code",
   "execution_count": null,
   "id": "88f44f59",
   "metadata": {},
   "outputs": [],
   "source": [
    "df_articles = pd.DataFrame(articles_data)"
   ]
  },
  {
   "cell_type": "code",
   "execution_count": null,
   "id": "cf4dfe23",
   "metadata": {},
   "outputs": [],
   "source": [
    "df_articles[['date','author']] = df_articles['date_author'].str.split('BY',n=1,expand=True)\n",
    "df_articles.drop(columns=['date_author'],inplace=True)\n",
    "\n",
    "pattern = r\"\\nSEE ALSO: .*?\\n\"\n",
    "df_articles['text'] = df_articles['text'].apply(lambda x: re.sub(pattern, \"\\n\", x))\n",
    "\n",
    "for col in ['text','date','author']:\n",
    "    df_articles[col] = df_articles[col].str.replace(\"\\n\", \"\")\n",
    "\n",
    "df_articles['date'] = pd.to_datetime(df_articles['date'].str.strip(), format='%d %b %Y')"
   ]
  },
  {
   "cell_type": "code",
   "execution_count": null,
   "id": "c6b41724",
   "metadata": {},
   "outputs": [
    {
     "name": "stdout",
     "output_type": "stream",
     "text": [
      "Uruguayan drug trafficker Sebastián Marset has gone on the run after narrowly evading capture in Santa Cruz, Bolivia, showcasing yet again his ability to hide behind official protection and fake identities. Nearly 2,500 police officers were dispatched in raids at Marset's luxury mansion in Santa Cruz and seven other properties connected to him. Marset and his wife and children escaped in a white Land Cruiser after he was likely forewarned that a raid was imminent.  Authorities found a small arsenal of assault weapons and ammunition, luxury vehicles, and exotic animals, including monkeys and ocelots.Marset appears to have obtained a Bolivian passport under the name Gabriel de Souza Beumer, but it is unknown if this was an official or fake document. He had even bought a second-division football team in Santa Cruz. Marset's Bolivian passport. Source: Bolivian Attorney-General's OfficeMarset has links to political elites in several countries and has used such connections to avoid trouble in the past.In 2012, he was accused of arranging for a shipment of marijuana to be flown from Paraguay to Uruguay on a private jet piloted by the uncle of Paraguay's former President, Horacio Cartes. He was never charged for this case, although he was detained a year later for arranging another similar shipment. In 2021, he was arrested in Dubai after entering the United Arab Emirates on a fake Paraguayan passport. Within days, he had allegedly contacted officials in Montevideo and had a new Uruguayan passport issued and sent to Dubai, where he was promptly released. In March 2022, the sweeping A Ultranza Py investigation in Paraguay named Marset as the leader of a transcontinental drug trafficking and money laundering scheme linked to members of the Insfrán family, a Paraguayan clan heavily involved in politics and the Catholic Church.And in 2022, Colombian President Gustavo Petro named Marset as having ordered the assassination of Marcelo Pecci, one of Paraguay's top anti-crime prosecutors who was shot dead on a Colombian beach while on honeymoon.InSight Crime AnalysisIn yet another twist involving yet another passport in yet another country, Marset has confirmed his top-level status in cocaine trafficking between Bolivia, Paraguay, Brazil, and Uruguay.Santa Cruz, the Bolivian city where he was found, is a hub for the country's cocaine trade, where a war between Brazilian gangs, the First Capital Command (Primeiro Comando da Capital – PCC) and the Red Command (Comando Vermelho – CV), has left dozens dead. It makes sense for Marset to have been based there, given his cocaine trafficking ambitions. Sourced in Bolivia's western Chapare region and neighboring Peru, cocaine is moved to Santa Cruz, where it can be smuggled into Brazil or Paraguay. \"Marset's structure is well established in Paraguay, and part of its organization was discovered in the Ultranza Py operation. It also revealed his connections with other countries. Marset, after being imprisoned in Uruguay, made connections in Bolivia,\" said Nicolás Centurión, an Uruguay crime observer and analyst at the Latin American Center for Strategic Analysis (Centro Latinoamericano de Análisis Estratégico - CLAE) in Montevideo.And while Marset only rose to public notoriety after his Dubai arrest in 2021, he had been sowing the seeds of his drug trafficking operations for far longer.  After his 2013 arrest for marijuana trafficking, he spent five years in Uruguay's Libertad prison, just outside Montevideo, where he forged links to jailed members of Brazil's PCC, after whom he named his own group, the First Uruguayan Cartel (Primer Cartel Uruguayo - PCU), according to a report by Uruguayan newspaper, El Observador.After being released in 2018, he moved to Paraguay and is known to have traveled using fake identities to Bolivia and Central America, likely making cocaine trafficking contacts, reported Paraguay's Última Hora newspaper in March 2022.There are also real parallels between Marset’s latest exploits in Bolivia and previous scandals involving the Uruguayan trafficker.Fake identities and gaining protection through corrupt officials are a regular part of his modus operandi. He has done so successfully in at least three countries. He lived in Bolivia under a false name and passport, believable enough for him to own property and a football club. In Paraguay, he similarly acquired a fake passport on which he traveled widely until being arrested after trying to use it to enter Dubai in 2021. Paraguay has an infamous history with fake passports, with Brazilian money launderer Dario Messer and football superstar Ronaldinho among those believed to have used them.Marset's fake Paraguay passport. Source: Uruguayan judiciaryHis quick release in Dubai after receiving a Uruguayan passport sparked an ongoing scandal in Uruguay as prosecutors investigate what, if any, help Marset received to get out of jail. Earlier in July, the country's foreign and interior ministers and an ex-foreign minister were summoned to testify in the case. Last December, Uruguay's deputy foreign minister, Carolina Ache, resigned after being implicated in the scandal.Since leaving Dubai, Marset's whereabouts were unknown, with rumors spreading that he had fled to Africa.\"I think the location of Marset in Bolivia confused many. He was closer than we thought. What is most striking is the public life that he led in Bolivia. He played soccer in a local Santa Cruz league,\" said Centurión.Marset repeatedly pursued his love of football while in hiding. In Paraguay, he played for Club Deportivo Capiatá, a club in the top division of Paraguayan football, for several games in 2021. He was allegedly recruited by the club after promising them a sponsorship payment of 100 million guaraní ($13,750) through an agent, but this money never came after he stopped coming to practice.Marset playing for Club Deportivo Capiatá. Source: Paraguay Attorney-General's Office\n"
     ]
    }
   ],
   "source": [
    "print(df_articles.loc[0,'text'])"
   ]
  },
  {
   "cell_type": "code",
   "execution_count": null,
   "id": "f4f9975c",
   "metadata": {},
   "outputs": [
    {
     "data": {
      "text/html": [
       "<div>\n",
       "<style scoped>\n",
       "    .dataframe tbody tr th:only-of-type {\n",
       "        vertical-align: middle;\n",
       "    }\n",
       "\n",
       "    .dataframe tbody tr th {\n",
       "        vertical-align: top;\n",
       "    }\n",
       "\n",
       "    .dataframe thead th {\n",
       "        text-align: right;\n",
       "    }\n",
       "</style>\n",
       "<table border=\"1\" class=\"dataframe\">\n",
       "  <thead>\n",
       "    <tr style=\"text-align: right;\">\n",
       "      <th></th>\n",
       "      <th>title</th>\n",
       "      <th>tag</th>\n",
       "      <th>text</th>\n",
       "      <th>date</th>\n",
       "      <th>author</th>\n",
       "    </tr>\n",
       "  </thead>\n",
       "  <tbody>\n",
       "    <tr>\n",
       "      <th>0</th>\n",
       "      <td>Uruguay's Top Trafficker Disappears Yet Again ...</td>\n",
       "      <td>URUGUAY</td>\n",
       "      <td>Uruguayan drug trafficker Sebastián Marset has...</td>\n",
       "      <td>2023-07-31</td>\n",
       "      <td>CHRISTOPHER NEWTON AND CHRIS DALBY</td>\n",
       "    </tr>\n",
       "    <tr>\n",
       "      <th>1</th>\n",
       "      <td>Latin America’s Criminal Bankers: Explaining C...</td>\n",
       "      <td>COLOMBIA</td>\n",
       "      <td>Three cases in recent weeks highlight how Colo...</td>\n",
       "      <td>2023-07-28</td>\n",
       "      <td>ANASTASIA AUSTIN</td>\n",
       "    </tr>\n",
       "    <tr>\n",
       "      <th>2</th>\n",
       "      <td>Criminal Groups Ally With State Forces for Cat...</td>\n",
       "      <td>VENEZUELA</td>\n",
       "      <td>An increase in cattle rustling across Venezuel...</td>\n",
       "      <td>2023-07-27</td>\n",
       "      <td>VENEZUELA INVESTIGATIVE UNIT</td>\n",
       "    </tr>\n",
       "    <tr>\n",
       "      <th>3</th>\n",
       "      <td>Shark Fin Trade Thriving in Latin America, Des...</td>\n",
       "      <td>ILLEGAL FISHING</td>\n",
       "      <td>With record shark fin seizures continuing acro...</td>\n",
       "      <td>2023-07-26</td>\n",
       "      <td>MARÍA FERNANDA RAMÍREZ AND CHRIS DALBY</td>\n",
       "    </tr>\n",
       "    <tr>\n",
       "      <th>4</th>\n",
       "      <td>Q&amp;A: Voices Opposing Mano Dura Policies in Lat...</td>\n",
       "      <td>EL SALVADOR</td>\n",
       "      <td>The long-term consequences of mano dura, or ir...</td>\n",
       "      <td>2023-07-25</td>\n",
       "      <td>GAVIN VOSS</td>\n",
       "    </tr>\n",
       "    <tr>\n",
       "      <th>5</th>\n",
       "      <td>Monagas: The Missing Link for Venezuela Drug T...</td>\n",
       "      <td>VENEZUELA</td>\n",
       "      <td>Venezuela’s northeastern state of Monagas has ...</td>\n",
       "      <td>2023-07-24</td>\n",
       "      <td>VENEZUELA INVESTIGATIVE UNIT</td>\n",
       "    </tr>\n",
       "    <tr>\n",
       "      <th>6</th>\n",
       "      <td>Fraud Groups Use Deepfakes to Enhance Imitatio...</td>\n",
       "      <td>CYBERCRIME</td>\n",
       "      <td>Fraudsters are targeting Peruvians using deepf...</td>\n",
       "      <td>2023-07-21</td>\n",
       "      <td>GAVIN VOSS</td>\n",
       "    </tr>\n",
       "    <tr>\n",
       "      <th>7</th>\n",
       "      <td>The Rise and Fall of the Choneros, Ecuador’s D...</td>\n",
       "      <td>CHONEROS</td>\n",
       "      <td>Jorge Bismarck Véliz España was an ambitious m...</td>\n",
       "      <td>2023-07-20</td>\n",
       "      <td>CHRIS DALBY</td>\n",
       "    </tr>\n",
       "    <tr>\n",
       "      <th>8</th>\n",
       "      <td>Ex-President Sentenced as Panama Makes Progres...</td>\n",
       "      <td>PANAMA</td>\n",
       "      <td>Former Panamanian president Ricardo Martinelli...</td>\n",
       "      <td>2023-07-19</td>\n",
       "      <td>GAVIN VOSS</td>\n",
       "    </tr>\n",
       "    <tr>\n",
       "      <th>9</th>\n",
       "      <td>Kidnappings Surge in Colombia Amid ELN Peace N...</td>\n",
       "      <td>COLOMBIA</td>\n",
       "      <td>Kidnappings are rising across Colombia, despit...</td>\n",
       "      <td>2023-07-18</td>\n",
       "      <td>HENRY SHULDINER</td>\n",
       "    </tr>\n",
       "    <tr>\n",
       "      <th>10</th>\n",
       "      <td>How Mexico’s Sinaloa Cartel Has Stayed United ...</td>\n",
       "      <td>SINALOA CARTEL</td>\n",
       "      <td>The break-up cycle of large criminal groups in...</td>\n",
       "      <td>2023-07-17</td>\n",
       "      <td>CHRIS DALBY</td>\n",
       "    </tr>\n",
       "    <tr>\n",
       "      <th>11</th>\n",
       "      <td>Guatemala’s Elections in Disarray As Corrupt E...</td>\n",
       "      <td>GUATEMALA</td>\n",
       "      <td>Guatemalan judicial officials made yet another...</td>\n",
       "      <td>2023-07-14</td>\n",
       "      <td>PETER APPLEBY</td>\n",
       "    </tr>\n",
       "  </tbody>\n",
       "</table>\n",
       "</div>"
      ],
      "text/plain": [
       "                                                title              tag  \\\n",
       "0   Uruguay's Top Trafficker Disappears Yet Again ...          URUGUAY   \n",
       "1   Latin America’s Criminal Bankers: Explaining C...         COLOMBIA   \n",
       "2   Criminal Groups Ally With State Forces for Cat...        VENEZUELA   \n",
       "3   Shark Fin Trade Thriving in Latin America, Des...  ILLEGAL FISHING   \n",
       "4   Q&A: Voices Opposing Mano Dura Policies in Lat...      EL SALVADOR   \n",
       "5   Monagas: The Missing Link for Venezuela Drug T...        VENEZUELA   \n",
       "6   Fraud Groups Use Deepfakes to Enhance Imitatio...       CYBERCRIME   \n",
       "7   The Rise and Fall of the Choneros, Ecuador’s D...         CHONEROS   \n",
       "8   Ex-President Sentenced as Panama Makes Progres...           PANAMA   \n",
       "9   Kidnappings Surge in Colombia Amid ELN Peace N...         COLOMBIA   \n",
       "10  How Mexico’s Sinaloa Cartel Has Stayed United ...   SINALOA CARTEL   \n",
       "11  Guatemala’s Elections in Disarray As Corrupt E...        GUATEMALA   \n",
       "\n",
       "                                                 text       date  \\\n",
       "0   Uruguayan drug trafficker Sebastián Marset has... 2023-07-31   \n",
       "1   Three cases in recent weeks highlight how Colo... 2023-07-28   \n",
       "2   An increase in cattle rustling across Venezuel... 2023-07-27   \n",
       "3   With record shark fin seizures continuing acro... 2023-07-26   \n",
       "4   The long-term consequences of mano dura, or ir... 2023-07-25   \n",
       "5   Venezuela’s northeastern state of Monagas has ... 2023-07-24   \n",
       "6   Fraudsters are targeting Peruvians using deepf... 2023-07-21   \n",
       "7   Jorge Bismarck Véliz España was an ambitious m... 2023-07-20   \n",
       "8   Former Panamanian president Ricardo Martinelli... 2023-07-19   \n",
       "9   Kidnappings are rising across Colombia, despit... 2023-07-18   \n",
       "10  The break-up cycle of large criminal groups in... 2023-07-17   \n",
       "11  Guatemalan judicial officials made yet another... 2023-07-14   \n",
       "\n",
       "                                     author  \n",
       "0        CHRISTOPHER NEWTON AND CHRIS DALBY  \n",
       "1                          ANASTASIA AUSTIN  \n",
       "2              VENEZUELA INVESTIGATIVE UNIT  \n",
       "3    MARÍA FERNANDA RAMÍREZ AND CHRIS DALBY  \n",
       "4                                GAVIN VOSS  \n",
       "5              VENEZUELA INVESTIGATIVE UNIT  \n",
       "6                                GAVIN VOSS  \n",
       "7                               CHRIS DALBY  \n",
       "8                                GAVIN VOSS  \n",
       "9                           HENRY SHULDINER  \n",
       "10                              CHRIS DALBY  \n",
       "11                            PETER APPLEBY  "
      ]
     },
     "execution_count": 45,
     "metadata": {},
     "output_type": "execute_result"
    }
   ],
   "source": [
    "df_articles"
   ]
  },
  {
   "cell_type": "code",
   "execution_count": null,
   "id": "249de84d",
   "metadata": {},
   "outputs": [],
   "source": [
    "df_articles.to_csv('_raw/articles_scraped.csv',index=False)"
   ]
  },
  {
   "cell_type": "markdown",
   "id": "f35da4c2",
   "metadata": {},
   "source": [
    "# Groups"
   ]
  },
  {
   "cell_type": "code",
   "execution_count": null,
   "id": "f36d7f40",
   "metadata": {},
   "outputs": [],
   "source": [
    "base_url_groups = 'https://insightcrime.org/criminal-actors/page/{}/?filter=armed_groups&country=0&orderby'\n",
    "pages_groups = 9\n",
    "groups_list = []"
   ]
  },
  {
   "cell_type": "code",
   "execution_count": null,
   "id": "f0d9918c",
   "metadata": {},
   "outputs": [],
   "source": [
    "for page in range(1,pages_groups+1):\n",
    "    \n",
    "    url = base_url_groups.format(page)\n",
    "    res = requests.get(url)\n",
    "    soup = bs4.BeautifulSoup(res.text,'lxml')\n",
    "    \n",
    "    boxes = soup.select('.page-general__news-list-criminals .box h2 a')\n",
    "    page_list = [box.get_text(strip=True) for box in boxes]\n",
    "    groups_list += page_list"
   ]
  },
  {
   "cell_type": "markdown",
   "id": "e47f1c7c",
   "metadata": {},
   "source": [
    "# Individuals"
   ]
  },
  {
   "cell_type": "markdown",
   "id": "1b06c056",
   "metadata": {},
   "source": [
    "## Scraping"
   ]
  },
  {
   "cell_type": "code",
   "execution_count": null,
   "id": "fb13f1db",
   "metadata": {},
   "outputs": [],
   "source": [
    "base_url_individuals = 'https://insightcrime.org/criminal-actors/page/{}/?filter=personalities&country=0&orderby'\n",
    "pages_individuals = 8\n",
    "individuals_list = []"
   ]
  },
  {
   "cell_type": "code",
   "execution_count": null,
   "id": "49a8590d",
   "metadata": {},
   "outputs": [],
   "source": [
    "for page in range(1,pages_individuals+1):\n",
    "    \n",
    "    url = base_url_individuals.format(page)\n",
    "    res = requests.get(url)\n",
    "    soup = bs4.BeautifulSoup(res.text,'lxml')\n",
    "    \n",
    "    boxes = soup.select('.page-general__news-list-criminals .box h2 a')\n",
    "    page_list = [box.get_text(strip=True) for box in boxes]\n",
    "    individuals_list += page_list"
   ]
  },
  {
   "cell_type": "markdown",
   "id": "1bb69ca4",
   "metadata": {},
   "source": [
    "## Cleaning and export"
   ]
  },
  {
   "cell_type": "code",
   "execution_count": null,
   "id": "7bff1541",
   "metadata": {},
   "outputs": [],
   "source": [
    "individuals_list = [name.split(',') for name in individuals_list]\n",
    "individuals_list = [[sublist[0], sublist[1].replace(' alias ', '').replace(\"'\",'').replace('‘', '').replace('’', ''), sublist[2].replace(' or the ','').replace(\"'\",'')] if len(sublist) == 3 \n",
    "              else [sublist[0], sublist[1].replace(' alias ', '').replace(\"'\",'').replace('‘', '').replace('’', ''), ''] if len(sublist) == 2\n",
    "              else [sublist[0], '', '']\n",
    "              for sublist in individuals_list]"
   ]
  },
  {
   "cell_type": "code",
   "execution_count": null,
   "id": "870c1654",
   "metadata": {},
   "outputs": [],
   "source": [
    "df_individuals = pd.DataFrame(individuals_list).rename(columns={0:'name',1:'alias_1',2:'alias_2'})"
   ]
  },
  {
   "cell_type": "code",
   "execution_count": null,
   "id": "af3395eb",
   "metadata": {},
   "outputs": [],
   "source": [
    "dict_corr_names = {'Miguel Angel Treviño':'Miguel Angel Treviño Morales',\n",
    "                  'Diego Fernando Murillo':'Diego Fernando Murillo Bejarano',\n",
    "                  'Luis E. Calle Serna':'Luis Enrique Calle Serna',\n",
    "                  'Hector Beltran Leyva':'Hector Manuel Beltran Leyva'}\n",
    "\n",
    "for name, correction in dict_corr_names.items():\n",
    "    df_individuals.loc[df_individuals.name==name,'name'] = correction"
   ]
  },
  {
   "cell_type": "code",
   "execution_count": null,
   "id": "9d563d7e",
   "metadata": {},
   "outputs": [],
   "source": [
    "def get_first_name(name):\n",
    "    if len(name.split())==4:\n",
    "        first_name = name.split()[0] + ' ' + name.split()[1]\n",
    "    else:\n",
    "        first_name = name.split()[0]\n",
    "    return first_name\n",
    "\n",
    "def get_last_name(name):\n",
    "    if len(name.split())<=2:\n",
    "        last_name = name.split()[-1]\n",
    "    else:\n",
    "        last_name = name.split()[-2] + ' ' + name.split()[-1]\n",
    "    return last_name"
   ]
  },
  {
   "cell_type": "code",
   "execution_count": null,
   "id": "0f499fde",
   "metadata": {},
   "outputs": [],
   "source": [
    "df_individuals['first_name'] = df_individuals['name'].apply(get_first_name)\n",
    "df_individuals['family_name'] = df_individuals['name'].apply(get_last_name)"
   ]
  },
  {
   "cell_type": "markdown",
   "id": "0711a071",
   "metadata": {},
   "source": [
    "We necessarily need to complement with visual inspection and make some corrections:"
   ]
  },
  {
   "cell_type": "code",
   "execution_count": null,
   "id": "2f4cea68",
   "metadata": {},
   "outputs": [],
   "source": [
    "dict_corr_first_family_names = {'César Emilio Peralta':['César Emilio','Peralta'],\n",
    "             'Jobanis de Jesús Ávila Villadiego':['Jobanis de Jesús','Ávila Villadiego'],\n",
    "             'Leider Johani Noscue':['Leider Johani','Noscue'],\n",
    "             'Walter Patricio Arizala':['Walter Patricio','Arizala'],\n",
    "             'Henry de Jesús López':['Henry de Jesús','López'],\n",
    "             'Horst Walther Overdick':['Horst Walther','Overdick'],\n",
    "             'Dairo Antonio Úsuga':['Dairo Antonio','Úsuga'],\n",
    "             'Juan de Dios Úsuga':['Juan de Dios','Úsuga'],\n",
    "             'Juan Orlando Hernández':['Juan Orlando','Hernández'],\n",
    "             'Ariel Máximo Cantero':['Ariel Máximo','Cantero'],\n",
    "             'Pedro Oliverio Guerrero':['Pedro Oliverio','Guerrero']}"
   ]
  },
  {
   "cell_type": "code",
   "execution_count": null,
   "id": "e6016733",
   "metadata": {},
   "outputs": [],
   "source": [
    "for name, corrections in dict_corr_first_family_names.items():\n",
    "    df_individuals.loc[df_individuals.name==name,'first_name'] = corrections[0]\n",
    "    df_individuals.loc[df_individuals.name==name,'family_name'] = corrections[1]"
   ]
  },
  {
   "cell_type": "markdown",
   "id": "bf73bbff",
   "metadata": {},
   "source": [
    "\"Rastrojos\" is actually a group and Juan Orlando Hernández was the president of Honduras"
   ]
  },
  {
   "cell_type": "code",
   "execution_count": null,
   "id": "6ca97382",
   "metadata": {},
   "outputs": [],
   "source": [
    "df_individuals = df_individuals[(df_individuals.name != 'Rastrojos') & (df_individuals.name != 'Juan Orlando Hernández')]"
   ]
  },
  {
   "cell_type": "code",
   "execution_count": null,
   "id": "9555b106",
   "metadata": {},
   "outputs": [],
   "source": [
    "df_individuals.to_csv('_raw/Individuals.csv',index=False)"
   ]
  }
 ],
 "metadata": {
  "kernelspec": {
   "display_name": "Python 3 (ipykernel)",
   "language": "python",
   "name": "python3"
  },
  "language_info": {
   "codemirror_mode": {
    "name": "ipython",
    "version": 3
   },
   "file_extension": ".py",
   "mimetype": "text/x-python",
   "name": "python",
   "nbconvert_exporter": "python",
   "pygments_lexer": "ipython3",
   "version": "3.10.9"
  },
  "toc": {
   "base_numbering": 1,
   "nav_menu": {},
   "number_sections": true,
   "sideBar": true,
   "skip_h1_title": false,
   "title_cell": "Table of Contents",
   "title_sidebar": "Contents",
   "toc_cell": false,
   "toc_position": {
    "height": "calc(100% - 180px)",
    "left": "10px",
    "top": "150px",
    "width": "165px"
   },
   "toc_section_display": true,
   "toc_window_display": true
  }
 },
 "nbformat": 4,
 "nbformat_minor": 5
}
