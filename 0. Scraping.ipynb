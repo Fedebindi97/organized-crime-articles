{
 "cells": [
  {
   "cell_type": "markdown",
   "id": "d6133139",
   "metadata": {},
   "source": [
    "# Packages"
   ]
  },
  {
   "cell_type": "code",
   "execution_count": 1,
   "id": "36b28830",
   "metadata": {},
   "outputs": [],
   "source": [
    "import pandas as pd\n",
    "import requests\n",
    "import bs4\n",
    "import urllib\n",
    "import time\n",
    "import re\n",
    "from tqdm import tqdm"
   ]
  },
  {
   "cell_type": "markdown",
   "id": "3816676e",
   "metadata": {},
   "source": [
    "# Articles"
   ]
  },
  {
   "cell_type": "markdown",
   "id": "d6236ed2",
   "metadata": {},
   "source": [
    "## Scraping"
   ]
  },
  {
   "cell_type": "code",
   "execution_count": 2,
   "id": "27687942",
   "metadata": {},
   "outputs": [],
   "source": [
    "base_url_articles = 'https://insightcrime.org/news/page/{}/'\n",
    "pages_articles = 899\n",
    "articles_data = {'title':[],'url':[],'tag':[],'date_author':[],'text':[]}"
   ]
  },
  {
   "cell_type": "code",
   "execution_count": 3,
   "id": "86d7193f",
   "metadata": {},
   "outputs": [
    {
     "name": "stderr",
     "output_type": "stream",
     "text": [
      "  0%|          | 0/899 [00:00<?, ?it/s]"
     ]
    },
    {
     "name": "stderr",
     "output_type": "stream",
     "text": [
      "100%|██████████| 899/899 [2:53:11<00:00, 11.56s/it]  \n"
     ]
    }
   ],
   "source": [
    "for page in tqdm(range(1,pages_articles+1)):\n",
    "    \n",
    "    url = base_url_articles.format(page)\n",
    "    res = requests.get(url)\n",
    "    soup = bs4.BeautifulSoup(res.text,'lxml')\n",
    "    \n",
    "    boxes = soup.select('.page-general__list-news .card-news h2 a')\n",
    "\n",
    "    for box in boxes:\n",
    "        articles_data['title'].append(box.get_text(strip=True))\n",
    "\n",
    "        article_link = box['href']\n",
    "        articles_data['url'].append(article_link)\n",
    "\n",
    "        article_response = requests.get(article_link)\n",
    "        article_soup = bs4.BeautifulSoup(article_response.content, 'html.parser')\n",
    "        article_content = article_soup.find('div', class_='single-content')\n",
    "\n",
    "        try:\n",
    "            articles_data['text'].append(article_content.get_text())\n",
    "        except:\n",
    "            articles_data['text'].append('NOT FOUND')\n",
    "\n",
    "        try:\n",
    "            articles_data['date_author'].append(article_soup.find('span',class_='autor').get_text())\n",
    "        except:\n",
    "            articles_data['date_author'].append('NOT FOUND')\n",
    "\n",
    "        try:\n",
    "            articles_data['tag'].append(article_soup.find('div',class_='date').find('a').get_text())\n",
    "        except:\n",
    "            articles_data['tag'].append('NOT FOUND')"
   ]
  },
  {
   "cell_type": "code",
   "execution_count": 4,
   "id": "88f44f59",
   "metadata": {},
   "outputs": [],
   "source": [
    "df_articles = pd.DataFrame(articles_data)"
   ]
  },
  {
   "cell_type": "markdown",
   "id": "4a57c1f1",
   "metadata": {},
   "source": [
    "## Cleaning and export"
   ]
  },
  {
   "cell_type": "code",
   "execution_count": 11,
   "id": "cf4dfe23",
   "metadata": {},
   "outputs": [],
   "source": [
    "df_articles = df_articles[df_articles.text!='NOT FOUND'] # Article on Knights Templar mistakenly inserted in the 'News' section\n",
    "\n",
    "df_articles[['date','author']] = df_articles['date_author'].str.split('BY',n=1,expand=True)\n",
    "df_articles.drop(columns=['date_author'],inplace=True)\n",
    "\n",
    "pattern = r\"\\nSEE ALSO: .*?\\n\"\n",
    "df_articles['text'] = df_articles['text'].apply(lambda x: re.sub(pattern, \"\\n\", x))\n",
    "\n",
    "for col in ['text','date','author']:\n",
    "    df_articles[col] = df_articles[col].str.replace(\"\\n\", \"\")\n",
    "\n",
    "df_articles['date'] = pd.to_datetime(df_articles['date'].str.strip(), format='%d %b %Y')\n",
    "\n",
    "df_articles.drop_duplicates(inplace=True,ignore_index=True)"
   ]
  },
  {
   "cell_type": "code",
   "execution_count": 12,
   "id": "f4f9975c",
   "metadata": {},
   "outputs": [
    {
     "data": {
      "text/html": [
       "<div>\n",
       "<style scoped>\n",
       "    .dataframe tbody tr th:only-of-type {\n",
       "        vertical-align: middle;\n",
       "    }\n",
       "\n",
       "    .dataframe tbody tr th {\n",
       "        vertical-align: top;\n",
       "    }\n",
       "\n",
       "    .dataframe thead th {\n",
       "        text-align: right;\n",
       "    }\n",
       "</style>\n",
       "<table border=\"1\" class=\"dataframe\">\n",
       "  <thead>\n",
       "    <tr style=\"text-align: right;\">\n",
       "      <th></th>\n",
       "      <th>title</th>\n",
       "      <th>url</th>\n",
       "      <th>tag</th>\n",
       "      <th>text</th>\n",
       "      <th>date</th>\n",
       "      <th>author</th>\n",
       "    </tr>\n",
       "  </thead>\n",
       "  <tbody>\n",
       "    <tr>\n",
       "      <th>0</th>\n",
       "      <td>Firearms, Disappearances, Prison Overcrowding:...</td>\n",
       "      <td>https://insightcrime.org/news/firearms-disappe...</td>\n",
       "      <td>ARMS TRAFFICKING</td>\n",
       "      <td>From overpopulated, crumbling prisons to tens ...</td>\n",
       "      <td>2023-08-01</td>\n",
       "      <td>CHRIS DALBY</td>\n",
       "    </tr>\n",
       "    <tr>\n",
       "      <th>1</th>\n",
       "      <td>Uruguay's Top Trafficker Disappears Yet Again ...</td>\n",
       "      <td>https://insightcrime.org/news/uruguay-traffick...</td>\n",
       "      <td>URUGUAY</td>\n",
       "      <td>Uruguayan drug trafficker Sebastián Marset has...</td>\n",
       "      <td>2023-07-31</td>\n",
       "      <td>CHRISTOPHER NEWTON AND CHRIS DALBY</td>\n",
       "    </tr>\n",
       "    <tr>\n",
       "      <th>2</th>\n",
       "      <td>Latin America’s Criminal Bankers: Explaining C...</td>\n",
       "      <td>https://insightcrime.org/news/latin-america-cr...</td>\n",
       "      <td>COLOMBIA</td>\n",
       "      <td>Three cases in recent weeks highlight how Colo...</td>\n",
       "      <td>2023-07-28</td>\n",
       "      <td>ANASTASIA AUSTIN</td>\n",
       "    </tr>\n",
       "    <tr>\n",
       "      <th>3</th>\n",
       "      <td>Criminal Groups Ally With State Forces for Cat...</td>\n",
       "      <td>https://insightcrime.org/news/criminal-groups-...</td>\n",
       "      <td>VENEZUELA</td>\n",
       "      <td>An increase in cattle rustling across Venezuel...</td>\n",
       "      <td>2023-07-27</td>\n",
       "      <td>VENEZUELA INVESTIGATIVE UNIT</td>\n",
       "    </tr>\n",
       "    <tr>\n",
       "      <th>4</th>\n",
       "      <td>Shark Fin Trade Thriving in Latin America, Des...</td>\n",
       "      <td>https://insightcrime.org/news/shark-fin-trade-...</td>\n",
       "      <td>ILLEGAL FISHING</td>\n",
       "      <td>With record shark fin seizures continuing acro...</td>\n",
       "      <td>2023-07-26</td>\n",
       "      <td>MARÍA FERNANDA RAMÍREZ AND CHRIS DALBY</td>\n",
       "    </tr>\n",
       "    <tr>\n",
       "      <th>...</th>\n",
       "      <td>...</td>\n",
       "      <td>...</td>\n",
       "      <td>...</td>\n",
       "      <td>...</td>\n",
       "      <td>...</td>\n",
       "      <td>...</td>\n",
       "    </tr>\n",
       "    <tr>\n",
       "      <th>10777</th>\n",
       "      <td>20,000 Migrants Kidnapped per year in Mexico</td>\n",
       "      <td>https://insightcrime.org/news/analysis/20000-m...</td>\n",
       "      <td>HUMAN TRAFFICKING</td>\n",
       "      <td>Twenty thousand migrants per year are kidnappe...</td>\n",
       "      <td>2010-10-31</td>\n",
       "      <td>INSIGHT CRIME</td>\n",
       "    </tr>\n",
       "    <tr>\n",
       "      <th>10778</th>\n",
       "      <td>Colombia Government: 152 Gangs in Medellin</td>\n",
       "      <td>https://insightcrime.org/news/analysis/colombi...</td>\n",
       "      <td>COLOMBIA</td>\n",
       "      <td>Colombian authorities have indentified 152 gan...</td>\n",
       "      <td>2010-10-31</td>\n",
       "      <td>INSIGHT CRIME</td>\n",
       "    </tr>\n",
       "    <tr>\n",
       "      <th>10779</th>\n",
       "      <td>Uruguay's Security Minister: \"Feudalization\" o...</td>\n",
       "      <td>https://insightcrime.org/news/analysis/uruguay...</td>\n",
       "      <td>BRAZIL</td>\n",
       "      <td>In an academic forum in Montevideo, Uruguay’s ...</td>\n",
       "      <td>2010-10-31</td>\n",
       "      <td>INSIGHT CRIME</td>\n",
       "    </tr>\n",
       "    <tr>\n",
       "      <th>10780</th>\n",
       "      <td>17 Dead in Honduras Gang Massacre</td>\n",
       "      <td>https://insightcrime.org/news/analysis/17-dead...</td>\n",
       "      <td>HONDURAS</td>\n",
       "      <td>Honduras is seeing the fallout from Tuesday’s ...</td>\n",
       "      <td>2010-09-09</td>\n",
       "      <td>INSIGHT CRIME</td>\n",
       "    </tr>\n",
       "    <tr>\n",
       "      <th>10781</th>\n",
       "      <td>Plan Colombia</td>\n",
       "      <td>https://insightcrime.org/news/analysis/plan-co...</td>\n",
       "      <td>COLOMBIA</td>\n",
       "      <td>\"Plan Colombia\" is a multi-pronged, multi-bill...</td>\n",
       "      <td>2004-08-19</td>\n",
       "      <td>INSIGHT CRIME</td>\n",
       "    </tr>\n",
       "  </tbody>\n",
       "</table>\n",
       "<p>10782 rows × 6 columns</p>\n",
       "</div>"
      ],
      "text/plain": [
       "                                                   title  \\\n",
       "0      Firearms, Disappearances, Prison Overcrowding:...   \n",
       "1      Uruguay's Top Trafficker Disappears Yet Again ...   \n",
       "2      Latin America’s Criminal Bankers: Explaining C...   \n",
       "3      Criminal Groups Ally With State Forces for Cat...   \n",
       "4      Shark Fin Trade Thriving in Latin America, Des...   \n",
       "...                                                  ...   \n",
       "10777       20,000 Migrants Kidnapped per year in Mexico   \n",
       "10778         Colombia Government: 152 Gangs in Medellin   \n",
       "10779  Uruguay's Security Minister: \"Feudalization\" o...   \n",
       "10780                  17 Dead in Honduras Gang Massacre   \n",
       "10781                                      Plan Colombia   \n",
       "\n",
       "                                                     url                tag  \\\n",
       "0      https://insightcrime.org/news/firearms-disappe...   ARMS TRAFFICKING   \n",
       "1      https://insightcrime.org/news/uruguay-traffick...            URUGUAY   \n",
       "2      https://insightcrime.org/news/latin-america-cr...           COLOMBIA   \n",
       "3      https://insightcrime.org/news/criminal-groups-...          VENEZUELA   \n",
       "4      https://insightcrime.org/news/shark-fin-trade-...    ILLEGAL FISHING   \n",
       "...                                                  ...                ...   \n",
       "10777  https://insightcrime.org/news/analysis/20000-m...  HUMAN TRAFFICKING   \n",
       "10778  https://insightcrime.org/news/analysis/colombi...           COLOMBIA   \n",
       "10779  https://insightcrime.org/news/analysis/uruguay...             BRAZIL   \n",
       "10780  https://insightcrime.org/news/analysis/17-dead...           HONDURAS   \n",
       "10781  https://insightcrime.org/news/analysis/plan-co...           COLOMBIA   \n",
       "\n",
       "                                                    text       date  \\\n",
       "0      From overpopulated, crumbling prisons to tens ... 2023-08-01   \n",
       "1      Uruguayan drug trafficker Sebastián Marset has... 2023-07-31   \n",
       "2      Three cases in recent weeks highlight how Colo... 2023-07-28   \n",
       "3      An increase in cattle rustling across Venezuel... 2023-07-27   \n",
       "4      With record shark fin seizures continuing acro... 2023-07-26   \n",
       "...                                                  ...        ...   \n",
       "10777  Twenty thousand migrants per year are kidnappe... 2010-10-31   \n",
       "10778  Colombian authorities have indentified 152 gan... 2010-10-31   \n",
       "10779  In an academic forum in Montevideo, Uruguay’s ... 2010-10-31   \n",
       "10780  Honduras is seeing the fallout from Tuesday’s ... 2010-09-09   \n",
       "10781  \"Plan Colombia\" is a multi-pronged, multi-bill... 2004-08-19   \n",
       "\n",
       "                                        author  \n",
       "0                                  CHRIS DALBY  \n",
       "1           CHRISTOPHER NEWTON AND CHRIS DALBY  \n",
       "2                             ANASTASIA AUSTIN  \n",
       "3                 VENEZUELA INVESTIGATIVE UNIT  \n",
       "4       MARÍA FERNANDA RAMÍREZ AND CHRIS DALBY  \n",
       "...                                        ...  \n",
       "10777                            INSIGHT CRIME  \n",
       "10778                            INSIGHT CRIME  \n",
       "10779                            INSIGHT CRIME  \n",
       "10780                            INSIGHT CRIME  \n",
       "10781                            INSIGHT CRIME  \n",
       "\n",
       "[10782 rows x 6 columns]"
      ]
     },
     "execution_count": 12,
     "metadata": {},
     "output_type": "execute_result"
    }
   ],
   "source": [
    "df_articles"
   ]
  },
  {
   "cell_type": "code",
   "execution_count": 13,
   "id": "249de84d",
   "metadata": {},
   "outputs": [],
   "source": [
    "df_articles.to_csv('_raw/articles_scraped.csv',index=False)"
   ]
  },
  {
   "cell_type": "markdown",
   "id": "f35da4c2",
   "metadata": {},
   "source": [
    "# Groups"
   ]
  },
  {
   "cell_type": "code",
   "execution_count": null,
   "id": "f36d7f40",
   "metadata": {},
   "outputs": [],
   "source": [
    "base_url_groups = 'https://insightcrime.org/criminal-actors/page/{}/?filter=armed_groups&country=0&orderby'\n",
    "pages_groups = 9\n",
    "groups_list = []"
   ]
  },
  {
   "cell_type": "code",
   "execution_count": null,
   "id": "f0d9918c",
   "metadata": {},
   "outputs": [],
   "source": [
    "for page in range(1,pages_groups+1):\n",
    "    \n",
    "    url = base_url_groups.format(page)\n",
    "    res = requests.get(url)\n",
    "    soup = bs4.BeautifulSoup(res.text,'lxml')\n",
    "    \n",
    "    boxes = soup.select('.page-general__news-list-criminals .box h2 a')\n",
    "    page_list = [box.get_text(strip=True) for box in boxes]\n",
    "    groups_list += page_list"
   ]
  },
  {
   "cell_type": "markdown",
   "id": "e47f1c7c",
   "metadata": {},
   "source": [
    "# Individuals"
   ]
  },
  {
   "cell_type": "markdown",
   "id": "1b06c056",
   "metadata": {},
   "source": [
    "## Scraping"
   ]
  },
  {
   "cell_type": "code",
   "execution_count": null,
   "id": "fb13f1db",
   "metadata": {},
   "outputs": [],
   "source": [
    "base_url_individuals = 'https://insightcrime.org/criminal-actors/page/{}/?filter=personalities&country=0&orderby'\n",
    "pages_individuals = 8\n",
    "individuals_list = []"
   ]
  },
  {
   "cell_type": "code",
   "execution_count": null,
   "id": "49a8590d",
   "metadata": {},
   "outputs": [],
   "source": [
    "for page in range(1,pages_individuals+1):\n",
    "    \n",
    "    url = base_url_individuals.format(page)\n",
    "    res = requests.get(url)\n",
    "    soup = bs4.BeautifulSoup(res.text,'lxml')\n",
    "    \n",
    "    boxes = soup.select('.page-general__news-list-criminals .box h2 a')\n",
    "    page_list = [box.get_text(strip=True) for box in boxes]\n",
    "    individuals_list += page_list"
   ]
  },
  {
   "cell_type": "markdown",
   "id": "1bb69ca4",
   "metadata": {},
   "source": [
    "## Cleaning and export"
   ]
  },
  {
   "cell_type": "code",
   "execution_count": null,
   "id": "7bff1541",
   "metadata": {},
   "outputs": [],
   "source": [
    "individuals_list = [name.split(',') for name in individuals_list]\n",
    "individuals_list = [[sublist[0], sublist[1].replace(' alias ', '').replace(\"'\",'').replace('‘', '').replace('’', ''), sublist[2].replace(' or the ','').replace(\"'\",'')] if len(sublist) == 3 \n",
    "              else [sublist[0], sublist[1].replace(' alias ', '').replace(\"'\",'').replace('‘', '').replace('’', ''), ''] if len(sublist) == 2\n",
    "              else [sublist[0], '', '']\n",
    "              for sublist in individuals_list]"
   ]
  },
  {
   "cell_type": "code",
   "execution_count": null,
   "id": "870c1654",
   "metadata": {},
   "outputs": [],
   "source": [
    "df_individuals = pd.DataFrame(individuals_list).rename(columns={0:'name',1:'alias_1',2:'alias_2'})"
   ]
  },
  {
   "cell_type": "code",
   "execution_count": null,
   "id": "af3395eb",
   "metadata": {},
   "outputs": [],
   "source": [
    "dict_corr_names = {'Miguel Angel Treviño':'Miguel Angel Treviño Morales',\n",
    "                  'Diego Fernando Murillo':'Diego Fernando Murillo Bejarano',\n",
    "                  'Luis E. Calle Serna':'Luis Enrique Calle Serna',\n",
    "                  'Hector Beltran Leyva':'Hector Manuel Beltran Leyva'}\n",
    "\n",
    "for name, correction in dict_corr_names.items():\n",
    "    df_individuals.loc[df_individuals.name==name,'name'] = correction"
   ]
  },
  {
   "cell_type": "code",
   "execution_count": null,
   "id": "9d563d7e",
   "metadata": {},
   "outputs": [],
   "source": [
    "def get_first_name(name):\n",
    "    if len(name.split())==4:\n",
    "        first_name = name.split()[0] + ' ' + name.split()[1]\n",
    "    else:\n",
    "        first_name = name.split()[0]\n",
    "    return first_name\n",
    "\n",
    "def get_last_name(name):\n",
    "    if len(name.split())<=2:\n",
    "        last_name = name.split()[-1]\n",
    "    else:\n",
    "        last_name = name.split()[-2] + ' ' + name.split()[-1]\n",
    "    return last_name"
   ]
  },
  {
   "cell_type": "code",
   "execution_count": null,
   "id": "0f499fde",
   "metadata": {},
   "outputs": [],
   "source": [
    "df_individuals['first_name'] = df_individuals['name'].apply(get_first_name)\n",
    "df_individuals['family_name'] = df_individuals['name'].apply(get_last_name)"
   ]
  },
  {
   "cell_type": "markdown",
   "id": "0711a071",
   "metadata": {},
   "source": [
    "We necessarily need to complement with visual inspection and make some corrections:"
   ]
  },
  {
   "cell_type": "code",
   "execution_count": null,
   "id": "2f4cea68",
   "metadata": {},
   "outputs": [],
   "source": [
    "dict_corr_first_family_names = {'César Emilio Peralta':['César Emilio','Peralta'],\n",
    "             'Jobanis de Jesús Ávila Villadiego':['Jobanis de Jesús','Ávila Villadiego'],\n",
    "             'Leider Johani Noscue':['Leider Johani','Noscue'],\n",
    "             'Walter Patricio Arizala':['Walter Patricio','Arizala'],\n",
    "             'Henry de Jesús López':['Henry de Jesús','López'],\n",
    "             'Horst Walther Overdick':['Horst Walther','Overdick'],\n",
    "             'Dairo Antonio Úsuga':['Dairo Antonio','Úsuga'],\n",
    "             'Juan de Dios Úsuga':['Juan de Dios','Úsuga'],\n",
    "             'Juan Orlando Hernández':['Juan Orlando','Hernández'],\n",
    "             'Ariel Máximo Cantero':['Ariel Máximo','Cantero'],\n",
    "             'Pedro Oliverio Guerrero':['Pedro Oliverio','Guerrero']}"
   ]
  },
  {
   "cell_type": "code",
   "execution_count": null,
   "id": "e6016733",
   "metadata": {},
   "outputs": [],
   "source": [
    "for name, corrections in dict_corr_first_family_names.items():\n",
    "    df_individuals.loc[df_individuals.name==name,'first_name'] = corrections[0]\n",
    "    df_individuals.loc[df_individuals.name==name,'family_name'] = corrections[1]"
   ]
  },
  {
   "cell_type": "markdown",
   "id": "bf73bbff",
   "metadata": {},
   "source": [
    "\"Rastrojos\" is actually a group and Juan Orlando Hernández was the president of Honduras"
   ]
  },
  {
   "cell_type": "code",
   "execution_count": null,
   "id": "6ca97382",
   "metadata": {},
   "outputs": [],
   "source": [
    "df_individuals = df_individuals[(df_individuals.name != 'Rastrojos') & (df_individuals.name != 'Juan Orlando Hernández')]"
   ]
  },
  {
   "cell_type": "code",
   "execution_count": null,
   "id": "9555b106",
   "metadata": {},
   "outputs": [],
   "source": [
    "df_individuals.to_csv('_raw/Individuals.csv',index=False)"
   ]
  }
 ],
 "metadata": {
  "kernelspec": {
   "display_name": "Python 3 (ipykernel)",
   "language": "python",
   "name": "python3"
  },
  "language_info": {
   "codemirror_mode": {
    "name": "ipython",
    "version": 3
   },
   "file_extension": ".py",
   "mimetype": "text/x-python",
   "name": "python",
   "nbconvert_exporter": "python",
   "pygments_lexer": "ipython3",
   "version": "3.10.9"
  },
  "toc": {
   "base_numbering": 1,
   "nav_menu": {},
   "number_sections": true,
   "sideBar": true,
   "skip_h1_title": false,
   "title_cell": "Table of Contents",
   "title_sidebar": "Contents",
   "toc_cell": false,
   "toc_position": {
    "height": "calc(100% - 180px)",
    "left": "10px",
    "top": "150px",
    "width": "165px"
   },
   "toc_section_display": true,
   "toc_window_display": true
  }
 },
 "nbformat": 4,
 "nbformat_minor": 5
}
