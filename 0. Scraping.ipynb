{
 "cells": [
  {
   "cell_type": "markdown",
   "id": "d6133139",
   "metadata": {},
   "source": [
    "# Packages"
   ]
  },
  {
   "cell_type": "code",
   "execution_count": 1,
   "id": "36b28830",
   "metadata": {},
   "outputs": [],
   "source": [
    "import pandas as pd\n",
    "import numpy as np\n",
    "import requests\n",
    "import bs4\n",
    "import urllib\n",
    "import time\n",
    "import re\n",
    "from tqdm import tqdm\n",
    "from concurrent.futures import ThreadPoolExecutor"
   ]
  },
  {
   "cell_type": "markdown",
   "id": "3816676e",
   "metadata": {},
   "source": [
    "# Articles"
   ]
  },
  {
   "cell_type": "markdown",
   "id": "d6236ed2",
   "metadata": {},
   "source": [
    "## Scraping"
   ]
  },
  {
   "cell_type": "code",
   "execution_count": 25,
   "id": "27687942",
   "metadata": {},
   "outputs": [],
   "source": [
    "base_url_articles = 'https://insightcrime.org/news/page/{}/'\n",
    "pages_articles = 900\n",
    "articles_data = {'title':[],'url':[],'tag':[],'date_author':[],'text':[]}"
   ]
  },
  {
   "cell_type": "code",
   "execution_count": 26,
   "id": "b3146ed1",
   "metadata": {},
   "outputs": [
    {
     "name": "stderr",
     "output_type": "stream",
     "text": [
      "  0%|          | 0/899 [00:00<?, ?it/s]"
     ]
    },
    {
     "name": "stderr",
     "output_type": "stream",
     "text": [
      "100%|██████████| 899/899 [27:57<00:00,  1.87s/it]  \n"
     ]
    }
   ],
   "source": [
    "def process_page(page):\n",
    "    url = base_url_articles.format(page)\n",
    "    res = requests.get(url)\n",
    "    soup = bs4.BeautifulSoup(res.text, 'lxml')\n",
    "    \n",
    "    boxes = soup.select('.page-general__list-news .card-news h2 a')\n",
    "    \n",
    "    results = []\n",
    "\n",
    "    for box in boxes:\n",
    "\n",
    "        article_data = {}\n",
    "\n",
    "        article_data['title'] = box.get_text(strip=True)\n",
    "\n",
    "        article_link = box['href']\n",
    "        article_data['url'] = article_link\n",
    "\n",
    "        article_response = requests.get(article_link)\n",
    "        article_soup = bs4.BeautifulSoup(article_response.content, 'html.parser')\n",
    "        article_content = article_soup.find('div', class_='single-content')\n",
    "\n",
    "        try:\n",
    "            for quote in article_content.find_all(\"blockquote\", class_=\"wp-block-quote\"):\n",
    "                quote.extract()\n",
    "            for quote in article_content.find_all(\"h2\", class_=\"wp-block-heading\"):\n",
    "                quote.extract()\n",
    "            for quote in article_content.find_all(\"figcaption\", class_=\"wp-element-caption\"):\n",
    "                quote.extract()\n",
    "            for quote in article_content.find_all(\"h4\", class_=\"wp-block-heading\"):\n",
    "                quote.extract()\n",
    "\n",
    "            article_data['text'] = article_content.get_text()\n",
    "        except:\n",
    "            article_data['text'] = 'NOT FOUND'\n",
    "\n",
    "        try:\n",
    "            article_data['date_author'] = article_soup.find('span', class_='autor').get_text()\n",
    "        except:\n",
    "            article_data['date_author'] = 'NOT FOUND'\n",
    "\n",
    "        try:\n",
    "            article_data['tag'] = article_soup.find('div', class_='date').find('a').get_text()\n",
    "        except:\n",
    "            article_data['tag'] = 'NOT FOUND'\n",
    "\n",
    "        results.append(article_data)\n",
    "\n",
    "    return results\n",
    "\n",
    "with ThreadPoolExecutor() as executor:\n",
    "    all_results = list(tqdm(executor.map(process_page, range(1, pages_articles + 1)), total=pages_articles))\n",
    "\n",
    "for result_set in all_results:\n",
    "    for article_data in result_set:\n",
    "        articles_data['title'].append(article_data['title'])\n",
    "        articles_data['url'].append(article_data['url'])\n",
    "        articles_data['text'].append(article_data['text'])\n",
    "        articles_data['date_author'].append(article_data['date_author'])\n",
    "        articles_data['tag'].append(article_data['tag'])"
   ]
  },
  {
   "cell_type": "code",
   "execution_count": 27,
   "id": "86d7193f",
   "metadata": {},
   "outputs": [
    {
     "data": {
      "text/plain": [
       "'for page in tqdm(range(1,pages_articles+1)):\\n    \\n    url = base_url_articles.format(page)\\n    res = requests.get(url)\\n    soup = bs4.BeautifulSoup(res.text,\\'lxml\\')\\n    \\n    boxes = soup.select(\\'.page-general__list-news .card-news h2 a\\')\\n\\n    for box in boxes:\\n        articles_data[\\'title\\'].append(box.get_text(strip=True))\\n\\n        article_link = box[\\'href\\']\\n        articles_data[\\'url\\'].append(article_link)\\n\\n        article_response = requests.get(article_link)\\n        article_soup = bs4.BeautifulSoup(article_response.content, \\'html.parser\\')\\n        article_content = article_soup.find(\\'div\\', class_=\\'single-content\\')\\n        \\n        try:\\n            for quote in article_content.find_all(\"blockquote\", class_=\"wp-block-quote\"):\\n                quote.extract()\\n            for quote in article_content.find_all(\"h2\", class_=\"wp-block-heading\"):\\n                quote.extract()\\n\\n            articles_data[\\'text\\'].append(article_content.get_text())\\n        except:\\n            articles_data[\\'text\\'].append(\\'NOT FOUND\\')\\n\\n        try:\\n            articles_data[\\'date_author\\'].append(article_soup.find(\\'span\\',class_=\\'autor\\').get_text())\\n        except:\\n            articles_data[\\'date_author\\'].append(\\'NOT FOUND\\')\\n\\n        try:\\n            articles_data[\\'tag\\'].append(article_soup.find(\\'div\\',class_=\\'date\\').find(\\'a\\').get_text())\\n        except:\\n            articles_data[\\'tag\\'].append(\\'NOT FOUND\\')'"
      ]
     },
     "execution_count": 27,
     "metadata": {},
     "output_type": "execute_result"
    }
   ],
   "source": [
    "'''for page in tqdm(range(1,pages_articles+1)):\n",
    "    \n",
    "    url = base_url_articles.format(page)\n",
    "    res = requests.get(url)\n",
    "    soup = bs4.BeautifulSoup(res.text,'lxml')\n",
    "    \n",
    "    boxes = soup.select('.page-general__list-news .card-news h2 a')\n",
    "\n",
    "    for box in boxes:\n",
    "        articles_data['title'].append(box.get_text(strip=True))\n",
    "\n",
    "        article_link = box['href']\n",
    "        articles_data['url'].append(article_link)\n",
    "\n",
    "        article_response = requests.get(article_link)\n",
    "        article_soup = bs4.BeautifulSoup(article_response.content, 'html.parser')\n",
    "        article_content = article_soup.find('div', class_='single-content')\n",
    "        \n",
    "        try:\n",
    "            for quote in article_content.find_all(\"blockquote\", class_=\"wp-block-quote\"):\n",
    "                quote.extract()\n",
    "            for quote in article_content.find_all(\"h2\", class_=\"wp-block-heading\"):\n",
    "                quote.extract()\n",
    "\n",
    "            articles_data['text'].append(article_content.get_text())\n",
    "        except:\n",
    "            articles_data['text'].append('NOT FOUND')\n",
    "\n",
    "        try:\n",
    "            articles_data['date_author'].append(article_soup.find('span',class_='autor').get_text())\n",
    "        except:\n",
    "            articles_data['date_author'].append('NOT FOUND')\n",
    "\n",
    "        try:\n",
    "            articles_data['tag'].append(article_soup.find('div',class_='date').find('a').get_text())\n",
    "        except:\n",
    "            articles_data['tag'].append('NOT FOUND')'''"
   ]
  },
  {
   "cell_type": "code",
   "execution_count": 28,
   "id": "88f44f59",
   "metadata": {},
   "outputs": [],
   "source": [
    "df_articles = pd.DataFrame(articles_data)"
   ]
  },
  {
   "cell_type": "markdown",
   "id": "4a57c1f1",
   "metadata": {},
   "source": [
    "## Cleaning and export"
   ]
  },
  {
   "cell_type": "code",
   "execution_count": 29,
   "id": "cf4dfe23",
   "metadata": {},
   "outputs": [],
   "source": [
    "df_articles = df_articles[df_articles.text!='NOT FOUND'] # Article on Knights Templar mistakenly inserted in the 'News' section\n",
    "\n",
    "df_articles[['date','author']] = df_articles['date_author'].str.split('BY',n=1,expand=True)\n",
    "df_articles.drop(columns=['date_author'],inplace=True)\n",
    "\n",
    "for col in ['text','date','author']:\n",
    "    df_articles[col] = df_articles[col].str.replace(\"\\n\", \" \")\n",
    "    df_articles[col] = df_articles[col].str.replace(\"\\xa0\", \" \")\n",
    "\n",
    "df_articles['date'] = pd.to_datetime(df_articles['date'].str.strip(), format='%d %b %Y')\n",
    "\n",
    "df_articles.drop_duplicates(inplace=True,ignore_index=True)"
   ]
  },
  {
   "cell_type": "code",
   "execution_count": 31,
   "id": "249de84d",
   "metadata": {},
   "outputs": [],
   "source": [
    "df_articles.to_csv('_raw/articles_scraped.csv',index=False)"
   ]
  },
  {
   "cell_type": "markdown",
   "id": "f35da4c2",
   "metadata": {},
   "source": [
    "# Groups"
   ]
  },
  {
   "cell_type": "markdown",
   "id": "4e3e9366",
   "metadata": {},
   "source": [
    "## Scraping"
   ]
  },
  {
   "cell_type": "code",
   "execution_count": 2,
   "id": "f36d7f40",
   "metadata": {},
   "outputs": [],
   "source": [
    "base_url_groups = 'https://insightcrime.org/criminal-actors/page/{}/?filter=armed_groups&country=0&orderby'\n",
    "pages_groups = 9\n",
    "groups_list = []"
   ]
  },
  {
   "cell_type": "code",
   "execution_count": 3,
   "id": "f0d9918c",
   "metadata": {},
   "outputs": [],
   "source": [
    "for page in tqdm(range(1,pages_groups+1)):\n",
    "    \n",
    "    url = base_url_groups.format(page)\n",
    "    res = requests.get(url)\n",
    "    soup = bs4.BeautifulSoup(res.text,'lxml')\n",
    "    \n",
    "    boxes = soup.select('.page-general__news-list-criminals .box h2 a')\n",
    "    page_list = [box.get_text(strip=True) for box in boxes]\n",
    "    groups_list += page_list"
   ]
  },
  {
   "cell_type": "code",
   "execution_count": 4,
   "id": "90ae9a06",
   "metadata": {},
   "outputs": [],
   "source": [
    "df_groups = pd.DataFrame(groups_list).rename(columns={0:'name'})"
   ]
  },
  {
   "cell_type": "markdown",
   "id": "4db1c931",
   "metadata": {},
   "source": [
    "## Cleaning and export"
   ]
  },
  {
   "cell_type": "code",
   "execution_count": null,
   "id": "70092fcb",
   "metadata": {},
   "outputs": [],
   "source": [
    "dict_corr_names = {'Miguel Angel Treviño':'Miguel Angel Treviño Morales',\n",
    "                  'Diego Fernando Murillo':'Diego Fernando Murillo Bejarano',\n",
    "                  'Luis E. Calle Serna':'Luis Enrique Calle Serna',\n",
    "                  'Hector Beltran Leyva':'Hector Manuel Beltran Leyva'}\n",
    "\n",
    "for name, correction in dict_corr_names.items():\n",
    "    df_groups.loc[df_groups.name==name,'name'] = correction"
   ]
  },
  {
   "cell_type": "code",
   "execution_count": null,
   "id": "a62ffe08",
   "metadata": {},
   "outputs": [],
   "source": [
    "df_groups.drop_duplicates(inplace=True,ignore_index=True)"
   ]
  },
  {
   "cell_type": "code",
   "execution_count": 9,
   "id": "83f2f729",
   "metadata": {},
   "outputs": [
    {
     "data": {
      "text/html": [
       "<div>\n",
       "<style scoped>\n",
       "    .dataframe tbody tr th:only-of-type {\n",
       "        vertical-align: middle;\n",
       "    }\n",
       "\n",
       "    .dataframe tbody tr th {\n",
       "        vertical-align: top;\n",
       "    }\n",
       "\n",
       "    .dataframe thead th {\n",
       "        text-align: right;\n",
       "    }\n",
       "</style>\n",
       "<table border=\"1\" class=\"dataframe\">\n",
       "  <thead>\n",
       "    <tr style=\"text-align: right;\">\n",
       "      <th></th>\n",
       "      <th>name</th>\n",
       "    </tr>\n",
       "  </thead>\n",
       "  <tbody>\n",
       "    <tr>\n",
       "      <th>0</th>\n",
       "      <td>Central General Staff - Ex-FARC Mafia</td>\n",
       "    </tr>\n",
       "    <tr>\n",
       "      <th>1</th>\n",
       "      <td>Acacio Medina Front - Ex-FARC Mafia</td>\n",
       "    </tr>\n",
       "    <tr>\n",
       "      <th>2</th>\n",
       "      <td>Las Claritas Sindicato</td>\n",
       "    </tr>\n",
       "    <tr>\n",
       "      <th>3</th>\n",
       "      <td>Carlos Capa Gang</td>\n",
       "    </tr>\n",
       "    <tr>\n",
       "      <th>4</th>\n",
       "      <td>The R Organization</td>\n",
       "    </tr>\n",
       "    <tr>\n",
       "      <th>5</th>\n",
       "      <td>Tren de Guayana</td>\n",
       "    </tr>\n",
       "    <tr>\n",
       "      <th>6</th>\n",
       "      <td>Lobos</td>\n",
       "    </tr>\n",
       "    <tr>\n",
       "      <th>7</th>\n",
       "      <td>10th Front - Ex-FARC Mafia</td>\n",
       "    </tr>\n",
       "    <tr>\n",
       "      <th>8</th>\n",
       "      <td>Pachenca</td>\n",
       "    </tr>\n",
       "    <tr>\n",
       "      <th>9</th>\n",
       "      <td>Bala na Cara</td>\n",
       "    </tr>\n",
       "    <tr>\n",
       "      <th>10</th>\n",
       "      <td>Border Command</td>\n",
       "    </tr>\n",
       "    <tr>\n",
       "      <th>11</th>\n",
       "      <td>Lagartos</td>\n",
       "    </tr>\n",
       "    <tr>\n",
       "      <th>12</th>\n",
       "      <td>Cárteles Unidos</td>\n",
       "    </tr>\n",
       "    <tr>\n",
       "      <th>13</th>\n",
       "      <td>Shining Path</td>\n",
       "    </tr>\n",
       "    <tr>\n",
       "      <th>14</th>\n",
       "      <td>Sinaloa Cartel</td>\n",
       "    </tr>\n",
       "    <tr>\n",
       "      <th>15</th>\n",
       "      <td>Bagdad</td>\n",
       "    </tr>\n",
       "    <tr>\n",
       "      <th>16</th>\n",
       "      <td>Libertadores del Vichada</td>\n",
       "    </tr>\n",
       "    <tr>\n",
       "      <th>17</th>\n",
       "      <td>EPL</td>\n",
       "    </tr>\n",
       "    <tr>\n",
       "      <th>18</th>\n",
       "      <td>Choneros</td>\n",
       "    </tr>\n",
       "    <tr>\n",
       "      <th>19</th>\n",
       "      <td>Escritório do Crime</td>\n",
       "    </tr>\n",
       "    <tr>\n",
       "      <th>20</th>\n",
       "      <td>Border Security Colectivo</td>\n",
       "    </tr>\n",
       "    <tr>\n",
       "      <th>21</th>\n",
       "      <td>Cartel of the Suns</td>\n",
       "    </tr>\n",
       "    <tr>\n",
       "      <th>22</th>\n",
       "      <td>The Meleán</td>\n",
       "    </tr>\n",
       "    <tr>\n",
       "      <th>23</th>\n",
       "      <td>Fuerza Anti-Unión</td>\n",
       "    </tr>\n",
       "    <tr>\n",
       "      <th>24</th>\n",
       "      <td>La Unión Tepito</td>\n",
       "    </tr>\n",
       "    <tr>\n",
       "      <th>25</th>\n",
       "      <td>Rotela Clan</td>\n",
       "    </tr>\n",
       "    <tr>\n",
       "      <th>26</th>\n",
       "      <td>Second Marquetalia</td>\n",
       "    </tr>\n",
       "    <tr>\n",
       "      <th>27</th>\n",
       "      <td>Chapitos</td>\n",
       "    </tr>\n",
       "    <tr>\n",
       "      <th>28</th>\n",
       "      <td>Tren de Aragua</td>\n",
       "    </tr>\n",
       "    <tr>\n",
       "      <th>29</th>\n",
       "      <td>Family of the North - FDN</td>\n",
       "    </tr>\n",
       "    <tr>\n",
       "      <th>30</th>\n",
       "      <td>Ex-FARC Mafia</td>\n",
       "    </tr>\n",
       "    <tr>\n",
       "      <th>31</th>\n",
       "      <td>Ex-FARC Mafia</td>\n",
       "    </tr>\n",
       "    <tr>\n",
       "      <th>32</th>\n",
       "      <td>Monos</td>\n",
       "    </tr>\n",
       "    <tr>\n",
       "      <th>33</th>\n",
       "      <td>Caparros</td>\n",
       "    </tr>\n",
       "    <tr>\n",
       "      <th>34</th>\n",
       "      <td>Jalisco Cartel New Generation (CJNG)</td>\n",
       "    </tr>\n",
       "    <tr>\n",
       "      <th>35</th>\n",
       "      <td>Amigos dos Amigos</td>\n",
       "    </tr>\n",
       "    <tr>\n",
       "      <th>36</th>\n",
       "      <td>1st Front (Ex-FARC Mafia)</td>\n",
       "    </tr>\n",
       "    <tr>\n",
       "      <th>37</th>\n",
       "      <td>Knights Templar</td>\n",
       "    </tr>\n",
       "    <tr>\n",
       "      <th>38</th>\n",
       "      <td>Cartel of the Suns</td>\n",
       "    </tr>\n",
       "    <tr>\n",
       "      <th>39</th>\n",
       "      <td>Juarez Cartel</td>\n",
       "    </tr>\n",
       "    <tr>\n",
       "      <th>40</th>\n",
       "      <td>Tijuana Cartel</td>\n",
       "    </tr>\n",
       "    <tr>\n",
       "      <th>41</th>\n",
       "      <td>Gulf Cartel</td>\n",
       "    </tr>\n",
       "    <tr>\n",
       "      <th>42</th>\n",
       "      <td>Sinaloa Cartel</td>\n",
       "    </tr>\n",
       "    <tr>\n",
       "      <th>43</th>\n",
       "      <td>Familia Michoacana</td>\n",
       "    </tr>\n",
       "    <tr>\n",
       "      <th>44</th>\n",
       "      <td>Cachiros</td>\n",
       "    </tr>\n",
       "    <tr>\n",
       "      <th>45</th>\n",
       "      <td>Perrones Cartel</td>\n",
       "    </tr>\n",
       "    <tr>\n",
       "      <th>46</th>\n",
       "      <td>Barrio 18</td>\n",
       "    </tr>\n",
       "    <tr>\n",
       "      <th>47</th>\n",
       "      <td>Texis Cartel</td>\n",
       "    </tr>\n",
       "    <tr>\n",
       "      <th>48</th>\n",
       "      <td>MS13</td>\n",
       "    </tr>\n",
       "    <tr>\n",
       "      <th>49</th>\n",
       "      <td>FARC</td>\n",
       "    </tr>\n",
       "    <tr>\n",
       "      <th>50</th>\n",
       "      <td>Rastrojos</td>\n",
       "    </tr>\n",
       "    <tr>\n",
       "      <th>51</th>\n",
       "      <td>ELN</td>\n",
       "    </tr>\n",
       "    <tr>\n",
       "      <th>52</th>\n",
       "      <td>AUC</td>\n",
       "    </tr>\n",
       "    <tr>\n",
       "      <th>53</th>\n",
       "      <td>Urabeños</td>\n",
       "    </tr>\n",
       "    <tr>\n",
       "      <th>54</th>\n",
       "      <td>Norte del Valle Cartel</td>\n",
       "    </tr>\n",
       "    <tr>\n",
       "      <th>55</th>\n",
       "      <td>Red Command</td>\n",
       "    </tr>\n",
       "    <tr>\n",
       "      <th>56</th>\n",
       "      <td>First Capital Command - PCC</td>\n",
       "    </tr>\n",
       "    <tr>\n",
       "      <th>57</th>\n",
       "      <td>Shining Path</td>\n",
       "    </tr>\n",
       "    <tr>\n",
       "      <th>58</th>\n",
       "      <td>Tren del Llano</td>\n",
       "    </tr>\n",
       "    <tr>\n",
       "      <th>59</th>\n",
       "      <td>FARC 57th Front in Panama</td>\n",
       "    </tr>\n",
       "  </tbody>\n",
       "</table>\n",
       "</div>"
      ],
      "text/plain": [
       "                                     name\n",
       "0   Central General Staff - Ex-FARC Mafia\n",
       "1     Acacio Medina Front - Ex-FARC Mafia\n",
       "2                  Las Claritas Sindicato\n",
       "3                        Carlos Capa Gang\n",
       "4                      The R Organization\n",
       "5                         Tren de Guayana\n",
       "6                                   Lobos\n",
       "7              10th Front - Ex-FARC Mafia\n",
       "8                                Pachenca\n",
       "9                            Bala na Cara\n",
       "10                         Border Command\n",
       "11                               Lagartos\n",
       "12                        Cárteles Unidos\n",
       "13                           Shining Path\n",
       "14                         Sinaloa Cartel\n",
       "15                                 Bagdad\n",
       "16               Libertadores del Vichada\n",
       "17                                    EPL\n",
       "18                               Choneros\n",
       "19                    Escritório do Crime\n",
       "20              Border Security Colectivo\n",
       "21                     Cartel of the Suns\n",
       "22                             The Meleán\n",
       "23                      Fuerza Anti-Unión\n",
       "24                        La Unión Tepito\n",
       "25                            Rotela Clan\n",
       "26                     Second Marquetalia\n",
       "27                               Chapitos\n",
       "28                         Tren de Aragua\n",
       "29              Family of the North - FDN\n",
       "30                          Ex-FARC Mafia\n",
       "31                          Ex-FARC Mafia\n",
       "32                                  Monos\n",
       "33                               Caparros\n",
       "34   Jalisco Cartel New Generation (CJNG)\n",
       "35                      Amigos dos Amigos\n",
       "36              1st Front (Ex-FARC Mafia)\n",
       "37                        Knights Templar\n",
       "38                     Cartel of the Suns\n",
       "39                          Juarez Cartel\n",
       "40                         Tijuana Cartel\n",
       "41                            Gulf Cartel\n",
       "42                         Sinaloa Cartel\n",
       "43                     Familia Michoacana\n",
       "44                               Cachiros\n",
       "45                        Perrones Cartel\n",
       "46                              Barrio 18\n",
       "47                           Texis Cartel\n",
       "48                                   MS13\n",
       "49                                   FARC\n",
       "50                              Rastrojos\n",
       "51                                    ELN\n",
       "52                                    AUC\n",
       "53                               Urabeños\n",
       "54                 Norte del Valle Cartel\n",
       "55                            Red Command\n",
       "56            First Capital Command - PCC\n",
       "57                           Shining Path\n",
       "58                         Tren del Llano\n",
       "59              FARC 57th Front in Panama"
      ]
     },
     "execution_count": 9,
     "metadata": {},
     "output_type": "execute_result"
    }
   ],
   "source": [
    "df_groups.head(60)"
   ]
  },
  {
   "cell_type": "code",
   "execution_count": 7,
   "id": "7993c520",
   "metadata": {},
   "outputs": [],
   "source": [
    "df_groups.to_csv('_raw/groups.csv')"
   ]
  },
  {
   "cell_type": "markdown",
   "id": "e47f1c7c",
   "metadata": {},
   "source": [
    "# Individuals"
   ]
  },
  {
   "cell_type": "markdown",
   "id": "1b06c056",
   "metadata": {},
   "source": [
    "## Scraping"
   ]
  },
  {
   "cell_type": "code",
   "execution_count": 34,
   "id": "fb13f1db",
   "metadata": {},
   "outputs": [],
   "source": [
    "base_url_individuals = 'https://insightcrime.org/criminal-actors/page/{}/?filter=personalities&country=0&orderby'\n",
    "pages_individuals = 8\n",
    "individuals_list = []"
   ]
  },
  {
   "cell_type": "code",
   "execution_count": 35,
   "id": "49a8590d",
   "metadata": {},
   "outputs": [],
   "source": [
    "for page in tqdm(range(1,pages_individuals+1)):\n",
    "    \n",
    "    url = base_url_individuals.format(page)\n",
    "    res = requests.get(url)\n",
    "    soup = bs4.BeautifulSoup(res.text,'lxml')\n",
    "    \n",
    "    boxes = soup.select('.page-general__news-list-criminals .box h2 a')\n",
    "    page_list = [box.get_text(strip=True) for box in boxes]\n",
    "    individuals_list += page_list"
   ]
  },
  {
   "cell_type": "markdown",
   "id": "1bb69ca4",
   "metadata": {},
   "source": [
    "## Cleaning and export"
   ]
  },
  {
   "cell_type": "code",
   "execution_count": 36,
   "id": "7bff1541",
   "metadata": {},
   "outputs": [],
   "source": [
    "individuals_list = [name.split(',') for name in individuals_list]\n",
    "individuals_list = [[sublist[0], sublist[1].replace(' alias ', '').replace(\"'\",'').replace('‘', '').replace('’', ''), sublist[2].replace(' or the ','').replace(\"'\",'')] if len(sublist) == 3 \n",
    "              else [sublist[0], sublist[1].replace(' alias ', '').replace(\"'\",'').replace('‘', '').replace('’', ''), ''] if len(sublist) == 2\n",
    "              else [sublist[0], '', '']\n",
    "              for sublist in individuals_list]"
   ]
  },
  {
   "cell_type": "code",
   "execution_count": 37,
   "id": "870c1654",
   "metadata": {},
   "outputs": [],
   "source": [
    "df_individuals = pd.DataFrame(individuals_list).rename(columns={0:'name',1:'alias_1',2:'alias_2'})"
   ]
  },
  {
   "cell_type": "code",
   "execution_count": 38,
   "id": "af3395eb",
   "metadata": {},
   "outputs": [],
   "source": [
    "dict_corr_names = {'Miguel Angel Treviño':'Miguel Angel Treviño Morales',\n",
    "                  'Diego Fernando Murillo':'Diego Fernando Murillo Bejarano',\n",
    "                  'Luis E. Calle Serna':'Luis Enrique Calle Serna',\n",
    "                  'Hector Beltran Leyva':'Hector Manuel Beltran Leyva'}\n",
    "\n",
    "for name, correction in dict_corr_names.items():\n",
    "    df_individuals.loc[df_individuals.name==name,'name'] = correction"
   ]
  },
  {
   "cell_type": "code",
   "execution_count": 39,
   "id": "9d563d7e",
   "metadata": {},
   "outputs": [],
   "source": [
    "def get_first_name(name):\n",
    "    if len(name.split())==4:\n",
    "        first_name = name.split()[0] + ' ' + name.split()[1]\n",
    "    else:\n",
    "        first_name = name.split()[0]\n",
    "    return first_name\n",
    "\n",
    "def get_last_name(name):\n",
    "    if len(name.split())<=2:\n",
    "        last_name = name.split()[-1]\n",
    "    else:\n",
    "        last_name = name.split()[-2] + ' ' + name.split()[-1]\n",
    "    return last_name"
   ]
  },
  {
   "cell_type": "code",
   "execution_count": 40,
   "id": "0f499fde",
   "metadata": {},
   "outputs": [],
   "source": [
    "df_individuals['first_name'] = df_individuals['name'].apply(get_first_name)\n",
    "df_individuals['family_name'] = df_individuals['name'].apply(get_last_name)"
   ]
  },
  {
   "cell_type": "markdown",
   "id": "0711a071",
   "metadata": {},
   "source": [
    "We necessarily need to complement with visual inspection and make some corrections:"
   ]
  },
  {
   "cell_type": "code",
   "execution_count": 41,
   "id": "2f4cea68",
   "metadata": {},
   "outputs": [],
   "source": [
    "dict_corr_first_family_names = {'César Emilio Peralta':['César Emilio','Peralta'],\n",
    "             'Jobanis de Jesús Ávila Villadiego':['Jobanis de Jesús','Ávila Villadiego'],\n",
    "             'Leider Johani Noscue':['Leider Johani','Noscue'],\n",
    "             'Walter Patricio Arizala':['Walter Patricio','Arizala'],\n",
    "             'Henry de Jesús López':['Henry de Jesús','López'],\n",
    "             'Horst Walther Overdick':['Horst Walther','Overdick'],\n",
    "             'Dairo Antonio Úsuga':['Dairo Antonio','Úsuga'],\n",
    "             'Juan de Dios Úsuga':['Juan de Dios','Úsuga'],\n",
    "             'Juan Orlando Hernández':['Juan Orlando','Hernández'],\n",
    "             'Ariel Máximo Cantero':['Ariel Máximo','Cantero'],\n",
    "             'Pedro Oliverio Guerrero':['Pedro Oliverio','Guerrero']}"
   ]
  },
  {
   "cell_type": "code",
   "execution_count": 42,
   "id": "e6016733",
   "metadata": {},
   "outputs": [],
   "source": [
    "for name, corrections in dict_corr_first_family_names.items():\n",
    "    df_individuals.loc[df_individuals.name==name,'first_name'] = corrections[0]\n",
    "    df_individuals.loc[df_individuals.name==name,'family_name'] = corrections[1]"
   ]
  },
  {
   "cell_type": "markdown",
   "id": "bf73bbff",
   "metadata": {},
   "source": [
    "\"Rastrojos\" is actually a group and Juan Orlando Hernández was the president of Honduras"
   ]
  },
  {
   "cell_type": "code",
   "execution_count": 43,
   "id": "6ca97382",
   "metadata": {},
   "outputs": [],
   "source": [
    "df_individuals = df_individuals[(df_individuals.name != 'Rastrojos') & (df_individuals.name != 'Juan Orlando Hernández')]"
   ]
  },
  {
   "cell_type": "markdown",
   "id": "146de7de",
   "metadata": {},
   "source": [
    "Let's create search terms for individuals. \"Úsuga\" and \"Calle Serna\" are duplicated family names (2 copies each). Both the two \"Úsuga\" and the two \"Calle Serna\" are brothers. Hence, for them the search term will be the whole name, while for other criminals it will just be the family name."
   ]
  },
  {
   "cell_type": "code",
   "execution_count": null,
   "id": "829052a1",
   "metadata": {},
   "outputs": [],
   "source": [
    "df_individuals['search_term'] = np.where((df_individuals.family_name==\"Úsuga\") | (df_individuals.family_name==\"Calle Serna\"),df_individuals.first_name+' '+df_individuals.family_name,df_individuals.family_name)"
   ]
  },
  {
   "cell_type": "code",
   "execution_count": 44,
   "id": "9555b106",
   "metadata": {},
   "outputs": [],
   "source": [
    "df_individuals.to_csv('_raw/Individuals.csv',index=False)"
   ]
  }
 ],
 "metadata": {
  "kernelspec": {
   "display_name": "Python 3 (ipykernel)",
   "language": "python",
   "name": "python3"
  },
  "language_info": {
   "codemirror_mode": {
    "name": "ipython",
    "version": 3
   },
   "file_extension": ".py",
   "mimetype": "text/x-python",
   "name": "python",
   "nbconvert_exporter": "python",
   "pygments_lexer": "ipython3",
   "version": "3.10.9"
  },
  "toc": {
   "base_numbering": 1,
   "nav_menu": {},
   "number_sections": true,
   "sideBar": true,
   "skip_h1_title": false,
   "title_cell": "Table of Contents",
   "title_sidebar": "Contents",
   "toc_cell": false,
   "toc_position": {
    "height": "calc(100% - 180px)",
    "left": "10px",
    "top": "150px",
    "width": "165px"
   },
   "toc_section_display": true,
   "toc_window_display": true
  }
 },
 "nbformat": 4,
 "nbformat_minor": 5
}
