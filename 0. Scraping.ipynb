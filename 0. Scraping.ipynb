{
 "cells": [
  {
   "cell_type": "markdown",
   "id": "d6133139",
   "metadata": {},
   "source": [
    "# Packages"
   ]
  },
  {
   "cell_type": "code",
   "execution_count": 1,
   "id": "36b28830",
   "metadata": {},
   "outputs": [],
   "source": [
    "import pandas as pd\n",
    "import numpy as np\n",
    "import requests\n",
    "import bs4\n",
    "import urllib\n",
    "import time\n",
    "import re\n",
    "from tqdm import tqdm\n",
    "from concurrent.futures import ThreadPoolExecutor\n",
    "from IPython.display import display"
   ]
  },
  {
   "cell_type": "markdown",
   "id": "3816676e",
   "metadata": {},
   "source": [
    "# Articles"
   ]
  },
  {
   "cell_type": "markdown",
   "id": "d6236ed2",
   "metadata": {},
   "source": [
    "## Scraping"
   ]
  },
  {
   "cell_type": "code",
   "execution_count": 2,
   "id": "27687942",
   "metadata": {},
   "outputs": [],
   "source": [
    "base_url_articles = 'https://insightcrime.org/news/page/{}/'\n",
    "pages_articles = 900\n",
    "articles_data = {'title':[],'url':[],'tag':[],'date_author':[],'text':[]}"
   ]
  },
  {
   "cell_type": "code",
   "execution_count": 3,
   "id": "b3146ed1",
   "metadata": {},
   "outputs": [
    {
     "name": "stderr",
     "output_type": "stream",
     "text": [
      "100%|██████████| 900/900 [00:08<00:00, 106.25it/s]\n"
     ]
    }
   ],
   "source": [
    "def process_page(page):\n",
    "    url = base_url_articles.format(page)\n",
    "    res = requests.get(url)\n",
    "    soup = bs4.BeautifulSoup(res.text, 'lxml')\n",
    "    \n",
    "    boxes = soup.select('.page-general__list-news .card-news h2 a')\n",
    "    \n",
    "    results = []\n",
    "\n",
    "    for box in boxes:\n",
    "\n",
    "        article_data = {}\n",
    "\n",
    "        article_data['title'] = box.get_text(strip=True)\n",
    "\n",
    "        article_link = box['href']\n",
    "        article_data['url'] = article_link\n",
    "\n",
    "        article_response = requests.get(article_link)\n",
    "        article_soup = bs4.BeautifulSoup(article_response.content, 'html.parser')\n",
    "        article_content = article_soup.find('div', class_='single-content')\n",
    "\n",
    "        try:\n",
    "            for quote in article_content.find_all(\"blockquote\", class_=\"wp-block-quote\"):\n",
    "                quote.extract()\n",
    "            for quote in article_content.find_all(\"h2\", class_=\"wp-block-heading\"):\n",
    "                quote.extract()\n",
    "            for quote in article_content.find_all(\"figcaption\", class_=\"wp-element-caption\"):\n",
    "                quote.extract()\n",
    "            for quote in article_content.find_all(\"h4\", class_=\"wp-block-heading\"):\n",
    "                quote.extract()\n",
    "\n",
    "            article_data['text'] = article_content.get_text()\n",
    "        except:\n",
    "            article_data['text'] = 'NOT FOUND'\n",
    "\n",
    "        try:\n",
    "            article_data['date_author'] = article_soup.find('span', class_='autor').get_text()\n",
    "        except:\n",
    "            article_data['date_author'] = 'NOT FOUND'\n",
    "\n",
    "        try:\n",
    "            article_data['tag'] = article_soup.find('div', class_='date').find('a').get_text()\n",
    "        except:\n",
    "            article_data['tag'] = 'NOT FOUND'\n",
    "\n",
    "        results.append(article_data)\n",
    "\n",
    "    return results\n",
    "\n",
    "with ThreadPoolExecutor() as executor:\n",
    "    all_results = list(tqdm(executor.map(process_page, range(1, pages_articles + 1)), total=pages_articles))\n",
    "\n",
    "for result_set in all_results:\n",
    "    for article_data in result_set:\n",
    "        articles_data['title'].append(article_data['title'])\n",
    "        articles_data['url'].append(article_data['url'])\n",
    "        articles_data['text'].append(article_data['text'])\n",
    "        articles_data['date_author'].append(article_data['date_author'])\n",
    "        articles_data['tag'].append(article_data['tag'])"
   ]
  },
  {
   "cell_type": "code",
   "execution_count": 4,
   "id": "88f44f59",
   "metadata": {},
   "outputs": [],
   "source": [
    "df_articles = pd.DataFrame(articles_data)"
   ]
  },
  {
   "cell_type": "markdown",
   "id": "4a57c1f1",
   "metadata": {},
   "source": [
    "## Cleaning and export"
   ]
  },
  {
   "cell_type": "code",
   "execution_count": 5,
   "id": "cf4dfe23",
   "metadata": {},
   "outputs": [
    {
     "ename": "AttributeError",
     "evalue": "Can only use .str accessor with string values!",
     "output_type": "error",
     "traceback": [
      "\u001b[0;31m---------------------------------------------------------------------------\u001b[0m",
      "\u001b[0;31mAttributeError\u001b[0m                            Traceback (most recent call last)",
      "\u001b[1;32m/Users/federico.bindi/Desktop/GitHub/organized-crime-articles/0. Scraping.ipynb Cell 9\u001b[0m line \u001b[0;36m3\n\u001b[1;32m      <a href='vscode-notebook-cell:/Users/federico.bindi/Desktop/GitHub/organized-crime-articles/0.%20Scraping.ipynb#X11sZmlsZQ%3D%3D?line=0'>1</a>\u001b[0m df_articles \u001b[39m=\u001b[39m df_articles[df_articles\u001b[39m.\u001b[39mtext\u001b[39m!=\u001b[39m\u001b[39m'\u001b[39m\u001b[39mNOT FOUND\u001b[39m\u001b[39m'\u001b[39m] \u001b[39m# Article on Knights Templar mistakenly inserted in the 'News' section\u001b[39;00m\n\u001b[0;32m----> <a href='vscode-notebook-cell:/Users/federico.bindi/Desktop/GitHub/organized-crime-articles/0.%20Scraping.ipynb#X11sZmlsZQ%3D%3D?line=2'>3</a>\u001b[0m df_articles[[\u001b[39m'\u001b[39m\u001b[39mdate\u001b[39m\u001b[39m'\u001b[39m,\u001b[39m'\u001b[39m\u001b[39mauthor\u001b[39m\u001b[39m'\u001b[39m]] \u001b[39m=\u001b[39m df_articles[\u001b[39m'\u001b[39;49m\u001b[39mdate_author\u001b[39;49m\u001b[39m'\u001b[39;49m]\u001b[39m.\u001b[39;49mstr\u001b[39m.\u001b[39msplit(\u001b[39m'\u001b[39m\u001b[39mBY\u001b[39m\u001b[39m'\u001b[39m,n\u001b[39m=\u001b[39m\u001b[39m1\u001b[39m,expand\u001b[39m=\u001b[39m\u001b[39mTrue\u001b[39;00m)\n\u001b[1;32m      <a href='vscode-notebook-cell:/Users/federico.bindi/Desktop/GitHub/organized-crime-articles/0.%20Scraping.ipynb#X11sZmlsZQ%3D%3D?line=3'>4</a>\u001b[0m df_articles\u001b[39m.\u001b[39mdrop(columns\u001b[39m=\u001b[39m[\u001b[39m'\u001b[39m\u001b[39mdate_author\u001b[39m\u001b[39m'\u001b[39m],inplace\u001b[39m=\u001b[39m\u001b[39mTrue\u001b[39;00m)\n\u001b[1;32m      <a href='vscode-notebook-cell:/Users/federico.bindi/Desktop/GitHub/organized-crime-articles/0.%20Scraping.ipynb#X11sZmlsZQ%3D%3D?line=5'>6</a>\u001b[0m \u001b[39mfor\u001b[39;00m col \u001b[39min\u001b[39;00m [\u001b[39m'\u001b[39m\u001b[39mtext\u001b[39m\u001b[39m'\u001b[39m,\u001b[39m'\u001b[39m\u001b[39mdate\u001b[39m\u001b[39m'\u001b[39m,\u001b[39m'\u001b[39m\u001b[39mauthor\u001b[39m\u001b[39m'\u001b[39m]:\n",
      "File \u001b[0;32m~/anaconda3/envs/baseplus/lib/python3.10/site-packages/pandas/core/generic.py:5902\u001b[0m, in \u001b[0;36mNDFrame.__getattr__\u001b[0;34m(self, name)\u001b[0m\n\u001b[1;32m   5895\u001b[0m \u001b[39mif\u001b[39;00m (\n\u001b[1;32m   5896\u001b[0m     name \u001b[39mnot\u001b[39;00m \u001b[39min\u001b[39;00m \u001b[39mself\u001b[39m\u001b[39m.\u001b[39m_internal_names_set\n\u001b[1;32m   5897\u001b[0m     \u001b[39mand\u001b[39;00m name \u001b[39mnot\u001b[39;00m \u001b[39min\u001b[39;00m \u001b[39mself\u001b[39m\u001b[39m.\u001b[39m_metadata\n\u001b[1;32m   5898\u001b[0m     \u001b[39mand\u001b[39;00m name \u001b[39mnot\u001b[39;00m \u001b[39min\u001b[39;00m \u001b[39mself\u001b[39m\u001b[39m.\u001b[39m_accessors\n\u001b[1;32m   5899\u001b[0m     \u001b[39mand\u001b[39;00m \u001b[39mself\u001b[39m\u001b[39m.\u001b[39m_info_axis\u001b[39m.\u001b[39m_can_hold_identifiers_and_holds_name(name)\n\u001b[1;32m   5900\u001b[0m ):\n\u001b[1;32m   5901\u001b[0m     \u001b[39mreturn\u001b[39;00m \u001b[39mself\u001b[39m[name]\n\u001b[0;32m-> 5902\u001b[0m \u001b[39mreturn\u001b[39;00m \u001b[39mobject\u001b[39;49m\u001b[39m.\u001b[39;49m\u001b[39m__getattribute__\u001b[39;49m(\u001b[39mself\u001b[39;49m, name)\n",
      "File \u001b[0;32m~/anaconda3/envs/baseplus/lib/python3.10/site-packages/pandas/core/accessor.py:182\u001b[0m, in \u001b[0;36mCachedAccessor.__get__\u001b[0;34m(self, obj, cls)\u001b[0m\n\u001b[1;32m    179\u001b[0m \u001b[39mif\u001b[39;00m obj \u001b[39mis\u001b[39;00m \u001b[39mNone\u001b[39;00m:\n\u001b[1;32m    180\u001b[0m     \u001b[39m# we're accessing the attribute of the class, i.e., Dataset.geo\u001b[39;00m\n\u001b[1;32m    181\u001b[0m     \u001b[39mreturn\u001b[39;00m \u001b[39mself\u001b[39m\u001b[39m.\u001b[39m_accessor\n\u001b[0;32m--> 182\u001b[0m accessor_obj \u001b[39m=\u001b[39m \u001b[39mself\u001b[39;49m\u001b[39m.\u001b[39;49m_accessor(obj)\n\u001b[1;32m    183\u001b[0m \u001b[39m# Replace the property with the accessor object. Inspired by:\u001b[39;00m\n\u001b[1;32m    184\u001b[0m \u001b[39m# https://www.pydanny.com/cached-property.html\u001b[39;00m\n\u001b[1;32m    185\u001b[0m \u001b[39m# We need to use object.__setattr__ because we overwrite __setattr__ on\u001b[39;00m\n\u001b[1;32m    186\u001b[0m \u001b[39m# NDFrame\u001b[39;00m\n\u001b[1;32m    187\u001b[0m \u001b[39mobject\u001b[39m\u001b[39m.\u001b[39m\u001b[39m__setattr__\u001b[39m(obj, \u001b[39mself\u001b[39m\u001b[39m.\u001b[39m_name, accessor_obj)\n",
      "File \u001b[0;32m~/anaconda3/envs/baseplus/lib/python3.10/site-packages/pandas/core/strings/accessor.py:181\u001b[0m, in \u001b[0;36mStringMethods.__init__\u001b[0;34m(self, data)\u001b[0m\n\u001b[1;32m    178\u001b[0m \u001b[39mdef\u001b[39;00m \u001b[39m__init__\u001b[39m(\u001b[39mself\u001b[39m, data) \u001b[39m-\u001b[39m\u001b[39m>\u001b[39m \u001b[39mNone\u001b[39;00m:\n\u001b[1;32m    179\u001b[0m     \u001b[39mfrom\u001b[39;00m \u001b[39mpandas\u001b[39;00m\u001b[39m.\u001b[39;00m\u001b[39mcore\u001b[39;00m\u001b[39m.\u001b[39;00m\u001b[39marrays\u001b[39;00m\u001b[39m.\u001b[39;00m\u001b[39mstring_\u001b[39;00m \u001b[39mimport\u001b[39;00m StringDtype\n\u001b[0;32m--> 181\u001b[0m     \u001b[39mself\u001b[39m\u001b[39m.\u001b[39m_inferred_dtype \u001b[39m=\u001b[39m \u001b[39mself\u001b[39;49m\u001b[39m.\u001b[39;49m_validate(data)\n\u001b[1;32m    182\u001b[0m     \u001b[39mself\u001b[39m\u001b[39m.\u001b[39m_is_categorical \u001b[39m=\u001b[39m is_categorical_dtype(data\u001b[39m.\u001b[39mdtype)\n\u001b[1;32m    183\u001b[0m     \u001b[39mself\u001b[39m\u001b[39m.\u001b[39m_is_string \u001b[39m=\u001b[39m \u001b[39misinstance\u001b[39m(data\u001b[39m.\u001b[39mdtype, StringDtype)\n",
      "File \u001b[0;32m~/anaconda3/envs/baseplus/lib/python3.10/site-packages/pandas/core/strings/accessor.py:235\u001b[0m, in \u001b[0;36mStringMethods._validate\u001b[0;34m(data)\u001b[0m\n\u001b[1;32m    232\u001b[0m inferred_dtype \u001b[39m=\u001b[39m lib\u001b[39m.\u001b[39minfer_dtype(values, skipna\u001b[39m=\u001b[39m\u001b[39mTrue\u001b[39;00m)\n\u001b[1;32m    234\u001b[0m \u001b[39mif\u001b[39;00m inferred_dtype \u001b[39mnot\u001b[39;00m \u001b[39min\u001b[39;00m allowed_types:\n\u001b[0;32m--> 235\u001b[0m     \u001b[39mraise\u001b[39;00m \u001b[39mAttributeError\u001b[39;00m(\u001b[39m\"\u001b[39m\u001b[39mCan only use .str accessor with string values!\u001b[39m\u001b[39m\"\u001b[39m)\n\u001b[1;32m    236\u001b[0m \u001b[39mreturn\u001b[39;00m inferred_dtype\n",
      "\u001b[0;31mAttributeError\u001b[0m: Can only use .str accessor with string values!"
     ]
    }
   ],
   "source": [
    "df_articles = df_articles[df_articles.text!='NOT FOUND'] # Article on Knights Templar mistakenly inserted in the 'News' section\n",
    "\n",
    "df_articles[['date','author']] = df_articles['date_author'].str.split('BY',n=1,expand=True)\n",
    "df_articles.drop(columns=['date_author'],inplace=True)\n",
    "\n",
    "for col in ['text','date','author']:\n",
    "    df_articles[col] = df_articles[col].str.replace(\"\\n\", \" \")\n",
    "    df_articles[col] = df_articles[col].str.replace(\"\\xa0\", \" \")\n",
    "\n",
    "df_articles['date'] = pd.to_datetime(df_articles['date'].str.strip(), format='%d %b %Y')\n",
    "\n",
    "df_articles.drop_duplicates(inplace=True,ignore_index=True)"
   ]
  },
  {
   "cell_type": "code",
   "execution_count": null,
   "id": "249de84d",
   "metadata": {},
   "outputs": [],
   "source": [
    "df_articles.to_csv('_raw/articles_scraped.csv',index=False)"
   ]
  },
  {
   "cell_type": "markdown",
   "id": "f35da4c2",
   "metadata": {},
   "source": [
    "# Groups"
   ]
  },
  {
   "cell_type": "markdown",
   "id": "4e3e9366",
   "metadata": {},
   "source": [
    "## Scraping"
   ]
  },
  {
   "cell_type": "code",
   "execution_count": null,
   "id": "f36d7f40",
   "metadata": {},
   "outputs": [],
   "source": [
    "base_url_groups = 'https://insightcrime.org/criminal-actors/page/{}/?filter=armed_groups&country=0&orderby'\n",
    "pages_groups = 9\n",
    "groups_list = []"
   ]
  },
  {
   "cell_type": "code",
   "execution_count": null,
   "id": "f0d9918c",
   "metadata": {},
   "outputs": [
    {
     "name": "stderr",
     "output_type": "stream",
     "text": [
      "  0%|          | 0/9 [00:00<?, ?it/s]"
     ]
    },
    {
     "name": "stderr",
     "output_type": "stream",
     "text": [
      "100%|██████████| 9/9 [00:16<00:00,  1.84s/it]\n"
     ]
    }
   ],
   "source": [
    "for page in tqdm(range(1,pages_groups+1)):\n",
    "    \n",
    "    url = base_url_groups.format(page)\n",
    "    res = requests.get(url)\n",
    "    soup = bs4.BeautifulSoup(res.text,'lxml')\n",
    "    \n",
    "    boxes = soup.select('.page-general__news-list-criminals .box h2 a')\n",
    "    page_list = [box.get_text(strip=True) for box in boxes]\n",
    "    groups_list += page_list"
   ]
  },
  {
   "cell_type": "code",
   "execution_count": null,
   "id": "90ae9a06",
   "metadata": {},
   "outputs": [],
   "source": [
    "df_groups = pd.DataFrame(groups_list).rename(columns={0:'name'})"
   ]
  },
  {
   "cell_type": "markdown",
   "id": "4db1c931",
   "metadata": {},
   "source": [
    "## Cleaning and export"
   ]
  },
  {
   "cell_type": "code",
   "execution_count": null,
   "id": "a62ffe08",
   "metadata": {},
   "outputs": [],
   "source": [
    "df_groups.drop_duplicates(inplace=True,ignore_index=True)\n",
    "\n",
    "df_groups['alias'] = ''\n",
    "df_groups.loc[df_groups.name=='Jalisco Cartel New Generation (CJNG)','alias'] = 'CJNG'\n",
    "df_groups.loc[df_groups.name=='Family of the North - FDN','alias'] = 'FDN'\n",
    "df_groups.loc[df_groups.name=='First Capital Command - PCC','alias'] = 'PCC'\n",
    "df_groups.loc[df_groups.name=='Gaitanistas - Gulf Clan','alias'] = 'AGC'\n",
    "df_groups.loc[df_groups.name=='FBL/FPLN','alias'] = 'FPLN'\n",
    "df_groups.loc[df_groups.name=='Autodefensas Unidas de Colombia - AUC','alias'] = 'AUC'\n",
    "\n",
    "df_groups = df_groups[(df_groups.name != 'Ex-FARC Mafia') & (df_groups.name != 'Ex-FARC Mafia in Venezuela')] # We have different ex-FARC groups, we don't want the supergroup to be a separate entity\n",
    "df_groups = df_groups[df_groups.name != 'BACRIM in Venezuela'] # 'BACRIM' is a general term to indicate criminal organisations in Colombia\n",
    "df_groups = df_groups[df_groups.name != 'ELN in Venezuela'] # We already have ELN\n",
    "df_groups = df_groups[df_groups.name != 'FARC 57th Front in Panama'] # We already have FARC\n",
    "df_groups = df_groups[df_groups.name != 'Urabeños'] # We already have AUC\n",
    "df_groups = df_groups[df_groups.name != 'AUC'] # We already have AUC\n",
    "df_groups['super_group'] = df_groups.name.apply(lambda text: 'Ex-FARC Mafia' if 'Ex-FARC Mafia' in text else '')\n",
    "\n",
    "df_groups.name = df_groups.name.str.replace(' - Ex-FARC Mafia','')\n",
    "df_groups.name = df_groups.name.str.replace(' (Ex-FARC Mafia)','',regex=False)\n",
    "\n",
    "df_groups.reset_index(inplace=True,drop=True)"
   ]
  },
  {
   "cell_type": "code",
   "execution_count": null,
   "id": "70092fcb",
   "metadata": {},
   "outputs": [],
   "source": [
    "dict_corr_names = {'Jalisco Cartel New Generation (CJNG)':'Jalisco Cartel New Generation',\n",
    "                  'Family of the North - FDN':'Family of the North',\n",
    "                  'First Capital Command - PCC':'First Capital Command',\n",
    "                  'Gaitanistas - Gulf Clan':'Gulf Clan',\n",
    "                  'FBL/FPLN':'FBL',\n",
    "                  'Autodefensas Unidas de Colombia - AUC':'Autodefensas Unidas de Colombia'}\n",
    "\n",
    "for name, correction in dict_corr_names.items():\n",
    "    df_groups.loc[df_groups.name==name,'name'] = correction"
   ]
  },
  {
   "cell_type": "code",
   "execution_count": null,
   "id": "f829f09c",
   "metadata": {},
   "outputs": [],
   "source": [
    "df_groups['search_term'] = df_groups.name"
   ]
  },
  {
   "cell_type": "code",
   "execution_count": null,
   "id": "7993c520",
   "metadata": {},
   "outputs": [],
   "source": [
    "df_groups.to_csv('_raw/groups.csv')"
   ]
  },
  {
   "cell_type": "markdown",
   "id": "e47f1c7c",
   "metadata": {},
   "source": [
    "# Individuals"
   ]
  },
  {
   "cell_type": "markdown",
   "id": "1b06c056",
   "metadata": {},
   "source": [
    "## Scraping"
   ]
  },
  {
   "cell_type": "code",
   "execution_count": null,
   "id": "fb13f1db",
   "metadata": {},
   "outputs": [],
   "source": [
    "base_url_individuals = 'https://insightcrime.org/criminal-actors/page/{}/?filter=personalities&country=0&orderby'\n",
    "pages_individuals = 8\n",
    "individuals_list = []"
   ]
  },
  {
   "cell_type": "code",
   "execution_count": null,
   "id": "49a8590d",
   "metadata": {},
   "outputs": [
    {
     "name": "stderr",
     "output_type": "stream",
     "text": [
      "  0%|          | 0/8 [00:00<?, ?it/s]"
     ]
    },
    {
     "name": "stderr",
     "output_type": "stream",
     "text": [
      "100%|██████████| 8/8 [00:12<00:00,  1.60s/it]\n"
     ]
    }
   ],
   "source": [
    "for page in tqdm(range(1,pages_individuals+1)):\n",
    "    \n",
    "    url = base_url_individuals.format(page)\n",
    "    res = requests.get(url)\n",
    "    soup = bs4.BeautifulSoup(res.text,'lxml')\n",
    "    \n",
    "    boxes = soup.select('.page-general__news-list-criminals .box h2 a')\n",
    "    page_list = [box.get_text(strip=True) for box in boxes]\n",
    "    individuals_list += page_list"
   ]
  },
  {
   "cell_type": "markdown",
   "id": "1bb69ca4",
   "metadata": {},
   "source": [
    "## Cleaning and export"
   ]
  },
  {
   "cell_type": "code",
   "execution_count": null,
   "id": "7bff1541",
   "metadata": {},
   "outputs": [],
   "source": [
    "individuals_list = [name.split(',') for name in individuals_list]\n",
    "individuals_list = [[sublist[0], sublist[1].replace(' alias ', '').replace(\"'\",'').replace('‘', '').replace('’', ''), sublist[2].replace(' or the ','').replace(\"'\",'')] if len(sublist) == 3 \n",
    "              else [sublist[0], sublist[1].replace(' alias ', '').replace(\"'\",'').replace('‘', '').replace('’', ''), ''] if len(sublist) == 2\n",
    "              else [sublist[0], '', '']\n",
    "              for sublist in individuals_list]"
   ]
  },
  {
   "cell_type": "code",
   "execution_count": null,
   "id": "870c1654",
   "metadata": {},
   "outputs": [],
   "source": [
    "df_individuals = pd.DataFrame(individuals_list).rename(columns={0:'name',1:'alias_1',2:'alias_2'})\n",
    "df_individuals.alias_1 = df_individuals.alias_1.str.replace('\"','')\n",
    "df_individuals.alias_1 = df_individuals.alias_1.str.replace('“','')\n",
    "df_individuals.alias_1 = df_individuals.alias_1.str.replace('”','')"
   ]
  },
  {
   "cell_type": "code",
   "execution_count": null,
   "id": "af3395eb",
   "metadata": {},
   "outputs": [],
   "source": [
    "dict_corr_names = {'Miguel Angel Treviño':'Miguel Angel Treviño Morales',\n",
    "                  'Diego Fernando Murillo':'Diego Fernando Murillo Bejarano',\n",
    "                  'Luis E. Calle Serna':'Luis Enrique Calle Serna',\n",
    "                  'Hector Beltran Leyva':'Hector Manuel Beltran Leyva',\n",
    "                  'Pedro Oliverio Guerrero':'Pedro Oliverio Guerrero Castillo',\n",
    "                  'Henry de Jesús López':'Henry de Jesús López Londoño',\n",
    "                  'Nemesio Oseguera Cervantes':'Nemesio Rubén Oseguera Cervantes'}\n",
    "\n",
    "for name, correction in dict_corr_names.items():\n",
    "    df_individuals.loc[df_individuals.name==name,'name'] = correction"
   ]
  },
  {
   "cell_type": "code",
   "execution_count": null,
   "id": "9d563d7e",
   "metadata": {},
   "outputs": [],
   "source": [
    "def get_first_name(name):\n",
    "    if len(name.split())==4:\n",
    "        first_name = name.split()[0] + ' ' + name.split()[1]\n",
    "    else:\n",
    "        first_name = name.split()[0]\n",
    "    return first_name\n",
    "\n",
    "def get_last_name(name):\n",
    "    if len(name.split())<=2:\n",
    "        last_name = name.split()[-1]\n",
    "    else:\n",
    "        last_name = name.split()[-2] + ' ' + name.split()[-1]\n",
    "    return last_name"
   ]
  },
  {
   "cell_type": "code",
   "execution_count": null,
   "id": "0f499fde",
   "metadata": {},
   "outputs": [],
   "source": [
    "df_individuals['first_name'] = df_individuals['name'].apply(get_first_name)\n",
    "df_individuals['family_name'] = df_individuals['name'].apply(get_last_name)"
   ]
  },
  {
   "cell_type": "markdown",
   "id": "0711a071",
   "metadata": {},
   "source": [
    "We necessarily need to complement with visual inspection and make some corrections:"
   ]
  },
  {
   "cell_type": "code",
   "execution_count": null,
   "id": "2f4cea68",
   "metadata": {},
   "outputs": [],
   "source": [
    "dict_corr_first_family_names = {'César Emilio Peralta':['César Emilio','Peralta'],\n",
    "             'Jobanis de Jesús Ávila Villadiego':['Jobanis de Jesús','Ávila Villadiego'],\n",
    "             'Leider Johani Noscue':['Leider Johani','Noscue'],\n",
    "             'Walter Patricio Arizala':['Walter Patricio','Arizala'],\n",
    "             'Horst Walther Overdick':['Horst Walther','Overdick'],\n",
    "             'Dairo Antonio Úsuga':['Dairo Antonio','Úsuga'],\n",
    "             'Juan de Dios Úsuga':['Juan de Dios','Úsuga'],\n",
    "             'Juan Orlando Hernández':['Juan Orlando','Hernández'],\n",
    "             'Ariel Máximo Cantero':['Ariel Máximo','Cantero']}"
   ]
  },
  {
   "cell_type": "code",
   "execution_count": null,
   "id": "e6016733",
   "metadata": {},
   "outputs": [],
   "source": [
    "for name, corrections in dict_corr_first_family_names.items():\n",
    "    df_individuals.loc[df_individuals.name==name,'first_name'] = corrections[0]\n",
    "    df_individuals.loc[df_individuals.name==name,'family_name'] = corrections[1]"
   ]
  },
  {
   "cell_type": "markdown",
   "id": "bf73bbff",
   "metadata": {},
   "source": [
    "\"Rastrojos\" is actually a group; Juan Orlando Hernández was the president of Honduras; Tareck El Aissami was a Venezuelan politician; \"Chapitos\" is the collective name for El Chapo's sons"
   ]
  },
  {
   "cell_type": "code",
   "execution_count": null,
   "id": "6ca97382",
   "metadata": {},
   "outputs": [],
   "source": [
    "df_individuals = df_individuals[(df_individuals.name != 'Rastrojos') & (df_individuals.name != 'Chapitos') & (df_individuals.name != 'Juan Orlando Hernández') & (df_individuals.name != 'Tareck El Aissami')]"
   ]
  },
  {
   "cell_type": "markdown",
   "id": "146de7de",
   "metadata": {},
   "source": [
    "Let's create search terms for individuals. It will be the alias, if the individual has one, otherwise the family name, with a few exceptions:\n",
    "* \"El H\" and \"Nem\" have aliases so short that they can be found in normal text.\n",
    "* \"Chepe\" and \"Chepe Diablo\" have aliases that are contained within each other, so they will matched by the search algorithm an excessive number of times."
   ]
  },
  {
   "cell_type": "code",
   "execution_count": null,
   "id": "829052a1",
   "metadata": {},
   "outputs": [],
   "source": [
    "df_individuals['search_term'] = np.where(((df_individuals.alias_1 == '') | (df_individuals.alias_1 == 'Nem') | (df_individuals.alias_1 == 'El H') | (df_individuals.alias_1 == 'Chepe')),df_individuals.family_name,df_individuals.alias_1)\n",
    "#df_individuals['search_term'] = np.where((df_individuals.family_name==\"Úsuga\") | (df_individuals.family_name==\"Calle Serna\") | (df_individuals.family_name==\"Treviño Morales\"),df_individuals.first_name+' '+df_individuals.family_name,df_individuals.family_name)"
   ]
  },
  {
   "cell_type": "code",
   "execution_count": 6,
   "id": "9555b106",
   "metadata": {},
   "outputs": [
    {
     "ename": "NameError",
     "evalue": "name 'df_individuals' is not defined",
     "output_type": "error",
     "traceback": [
      "\u001b[0;31m---------------------------------------------------------------------------\u001b[0m",
      "\u001b[0;31mNameError\u001b[0m                                 Traceback (most recent call last)",
      "\u001b[1;32m/Users/federico.bindi/Desktop/GitHub/organized-crime-articles/0. Scraping.ipynb Cell 38\u001b[0m line \u001b[0;36m1\n\u001b[0;32m----> <a href='vscode-notebook-cell:/Users/federico.bindi/Desktop/GitHub/organized-crime-articles/0.%20Scraping.ipynb#X52sZmlsZQ%3D%3D?line=0'>1</a>\u001b[0m df_individuals\u001b[39m.\u001b[39mto_csv(\u001b[39m'\u001b[39m\u001b[39m_raw/Individuals.csv\u001b[39m\u001b[39m'\u001b[39m,index\u001b[39m=\u001b[39m\u001b[39mFalse\u001b[39;00m)\n",
      "\u001b[0;31mNameError\u001b[0m: name 'df_individuals' is not defined"
     ]
    }
   ],
   "source": [
    "df_individuals.to_csv('_raw/Individuals.csv',index=False)"
   ]
  }
 ],
 "metadata": {
  "kernelspec": {
   "display_name": "Python 3 (ipykernel)",
   "language": "python",
   "name": "python3"
  },
  "language_info": {
   "codemirror_mode": {
    "name": "ipython",
    "version": 3
   },
   "file_extension": ".py",
   "mimetype": "text/x-python",
   "name": "python",
   "nbconvert_exporter": "python",
   "pygments_lexer": "ipython3",
   "version": "3.10.9"
  },
  "toc": {
   "base_numbering": 1,
   "nav_menu": {},
   "number_sections": true,
   "sideBar": true,
   "skip_h1_title": false,
   "title_cell": "Table of Contents",
   "title_sidebar": "Contents",
   "toc_cell": false,
   "toc_position": {
    "height": "calc(100% - 180px)",
    "left": "10px",
    "top": "150px",
    "width": "165px"
   },
   "toc_section_display": true,
   "toc_window_display": true
  }
 },
 "nbformat": 4,
 "nbformat_minor": 5
}
