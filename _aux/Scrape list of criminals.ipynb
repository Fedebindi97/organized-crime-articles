{
 "cells": [
  {
   "cell_type": "markdown",
   "id": "d6133139",
   "metadata": {},
   "source": [
    "# Packages"
   ]
  },
  {
   "cell_type": "code",
   "execution_count": 10,
   "id": "36b28830",
   "metadata": {},
   "outputs": [],
   "source": [
    "import pandas as pd\n",
    "import requests\n",
    "import bs4"
   ]
  },
  {
   "cell_type": "markdown",
   "id": "f35da4c2",
   "metadata": {},
   "source": [
    "# Scraping"
   ]
  },
  {
   "cell_type": "code",
   "execution_count": null,
   "id": "f36d7f40",
   "metadata": {},
   "outputs": [],
   "source": [
    "base_url_individuals = 'https://insightcrime.org/criminal-actors/page/{}/'\n",
    "pages_individuals = 8\n",
    "\n",
    "base_url_groups = 'https://insightcrime.org/criminal-actors/page/{}/'\n",
    "pages_groups = 9"
   ]
  },
  {
   "cell_type": "code",
   "execution_count": 12,
   "id": "f0d9918c",
   "metadata": {},
   "outputs": [],
   "source": [
    "individuals_list = []\n",
    "groups_list = []\n",
    "\n",
    "for i,base_url,pages,list in enumerate():\n",
    "    \n",
    "    url = base_url.format(i+1)\n",
    "    res = requests.get(url)\n",
    "    soup = bs4.BeautifulSoup(res.text,'lxml')\n",
    "    \n",
    "    boxes = soup.select('.page-general__news-list-criminals .box h2 a')\n",
    "    page_list = [box.get_text(strip=True) for box in boxes]\n",
    "    individuals_list += page_list"
   ]
  },
  {
   "cell_type": "code",
   "execution_count": null,
   "id": "67f9286d",
   "metadata": {},
   "outputs": [],
   "source": [
    "groups_list = []"
   ]
  },
  {
   "cell_type": "markdown",
   "id": "8e796ad3",
   "metadata": {},
   "source": [
    "# Data cleaning and export"
   ]
  },
  {
   "cell_type": "code",
   "execution_count": 14,
   "id": "4666258f",
   "metadata": {},
   "outputs": [
    {
     "data": {
      "text/html": [
       "<div>\n",
       "<style scoped>\n",
       "    .dataframe tbody tr th:only-of-type {\n",
       "        vertical-align: middle;\n",
       "    }\n",
       "\n",
       "    .dataframe tbody tr th {\n",
       "        vertical-align: top;\n",
       "    }\n",
       "\n",
       "    .dataframe thead th {\n",
       "        text-align: right;\n",
       "    }\n",
       "</style>\n",
       "<table border=\"1\" class=\"dataframe\">\n",
       "  <thead>\n",
       "    <tr style=\"text-align: right;\">\n",
       "      <th></th>\n",
       "      <th>name</th>\n",
       "    </tr>\n",
       "  </thead>\n",
       "  <tbody>\n",
       "    <tr>\n",
       "      <th>0</th>\n",
       "      <td>Gulf Cartel</td>\n",
       "    </tr>\n",
       "    <tr>\n",
       "      <th>1</th>\n",
       "      <td>Central General Staff - Ex-FARC Mafia</td>\n",
       "    </tr>\n",
       "    <tr>\n",
       "      <th>2</th>\n",
       "      <td>Héctor Rusthenford Guerrero Flores, alias 'Niñ...</td>\n",
       "    </tr>\n",
       "    <tr>\n",
       "      <th>3</th>\n",
       "      <td>Acacio Medina Front - Ex-FARC Mafia</td>\n",
       "    </tr>\n",
       "    <tr>\n",
       "      <th>4</th>\n",
       "      <td>Hermágoras González Polanco, alias ‘Gordito Go...</td>\n",
       "    </tr>\n",
       "    <tr>\n",
       "      <th>...</th>\n",
       "      <td>...</td>\n",
       "    </tr>\n",
       "    <tr>\n",
       "      <th>252</th>\n",
       "      <td>Rastrojos</td>\n",
       "    </tr>\n",
       "    <tr>\n",
       "      <th>253</th>\n",
       "      <td>Familia Michoacana</td>\n",
       "    </tr>\n",
       "    <tr>\n",
       "      <th>254</th>\n",
       "      <td>ERPAC</td>\n",
       "    </tr>\n",
       "    <tr>\n",
       "      <th>255</th>\n",
       "      <td>Oficina de Envigado</td>\n",
       "    </tr>\n",
       "    <tr>\n",
       "      <th>256</th>\n",
       "      <td>CIACS</td>\n",
       "    </tr>\n",
       "  </tbody>\n",
       "</table>\n",
       "<p>257 rows × 1 columns</p>\n",
       "</div>"
      ],
      "text/plain": [
       "                                                  name\n",
       "0                                          Gulf Cartel\n",
       "1                Central General Staff - Ex-FARC Mafia\n",
       "2    Héctor Rusthenford Guerrero Flores, alias 'Niñ...\n",
       "3                  Acacio Medina Front - Ex-FARC Mafia\n",
       "4    Hermágoras González Polanco, alias ‘Gordito Go...\n",
       "..                                                 ...\n",
       "252                                          Rastrojos\n",
       "253                                 Familia Michoacana\n",
       "254                                              ERPAC\n",
       "255                                Oficina de Envigado\n",
       "256                                              CIACS\n",
       "\n",
       "[257 rows x 1 columns]"
      ]
     },
     "execution_count": 14,
     "metadata": {},
     "output_type": "execute_result"
    }
   ],
   "source": [
    "df = pd.DataFrame(criminals_list).rename(columns={0:'name'})\n",
    "df"
   ]
  },
  {
   "cell_type": "code",
   "execution_count": null,
   "id": "367d4adc",
   "metadata": {},
   "outputs": [],
   "source": [
    "df.to_csv('List of criminal individuals and organizations.csv',index=False)"
   ]
  }
 ],
 "metadata": {
  "kernelspec": {
   "display_name": "Python 3 (ipykernel)",
   "language": "python",
   "name": "python3"
  },
  "language_info": {
   "codemirror_mode": {
    "name": "ipython",
    "version": 3
   },
   "file_extension": ".py",
   "mimetype": "text/x-python",
   "name": "python",
   "nbconvert_exporter": "python",
   "pygments_lexer": "ipython3",
   "version": "3.10.9"
  },
  "toc": {
   "base_numbering": 1,
   "nav_menu": {},
   "number_sections": true,
   "sideBar": true,
   "skip_h1_title": false,
   "title_cell": "Table of Contents",
   "title_sidebar": "Contents",
   "toc_cell": false,
   "toc_position": {},
   "toc_section_display": true,
   "toc_window_display": false
  }
 },
 "nbformat": 4,
 "nbformat_minor": 5
}
