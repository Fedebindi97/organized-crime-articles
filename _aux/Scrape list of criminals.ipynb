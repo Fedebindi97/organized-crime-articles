{
 "cells": [
  {
   "cell_type": "markdown",
   "id": "d6133139",
   "metadata": {},
   "source": [
    "# Packages"
   ]
  },
  {
   "cell_type": "code",
   "execution_count": 1,
   "id": "36b28830",
   "metadata": {},
   "outputs": [],
   "source": [
    "import pandas as pd\n",
    "import requests\n",
    "import bs4"
   ]
  },
  {
   "cell_type": "markdown",
   "id": "f35da4c2",
   "metadata": {},
   "source": [
    "# Scraping"
   ]
  },
  {
   "cell_type": "code",
   "execution_count": 2,
   "id": "f36d7f40",
   "metadata": {},
   "outputs": [],
   "source": [
    "base_url_individuals = 'https://insightcrime.org/criminal-actors/page/{}/?filter=personalities&country=0&orderby'\n",
    "pages_individuals = 8\n",
    "\n",
    "base_url_groups = 'https://insightcrime.org/criminal-actors/page/{}/?filter=armed_groups&country=0&orderby'\n",
    "pages_groups = 9"
   ]
  },
  {
   "cell_type": "code",
   "execution_count": 3,
   "id": "fdd46ff0",
   "metadata": {},
   "outputs": [],
   "source": [
    "individuals_list = []\n",
    "groups_list = []"
   ]
  },
  {
   "cell_type": "code",
   "execution_count": 4,
   "id": "f0d9918c",
   "metadata": {},
   "outputs": [],
   "source": [
    "for page in range(1,pages_groups+1):\n",
    "    \n",
    "    url = base_url_groups.format(page)\n",
    "    res = requests.get(url)\n",
    "    soup = bs4.BeautifulSoup(res.text,'lxml')\n",
    "    \n",
    "    boxes = soup.select('.page-general__news-list-criminals .box h2 a')\n",
    "    page_list = [box.get_text(strip=True) for box in boxes]\n",
    "    groups_list += page_list"
   ]
  },
  {
   "cell_type": "code",
   "execution_count": 5,
   "id": "49a8590d",
   "metadata": {},
   "outputs": [],
   "source": [
    "for page in range(1,pages_individuals+1):\n",
    "    \n",
    "    url = base_url_individuals.format(page)\n",
    "    res = requests.get(url)\n",
    "    soup = bs4.BeautifulSoup(res.text,'lxml')\n",
    "    \n",
    "    boxes = soup.select('.page-general__news-list-criminals .box h2 a')\n",
    "    page_list = [box.get_text(strip=True) for box in boxes]\n",
    "    individuals_list += page_list"
   ]
  },
  {
   "cell_type": "markdown",
   "id": "8e796ad3",
   "metadata": {},
   "source": [
    "# Data cleaning and export"
   ]
  },
  {
   "cell_type": "code",
   "execution_count": 10,
   "id": "4666258f",
   "metadata": {},
   "outputs": [
    {
     "data": {
      "text/html": [
       "<div>\n",
       "<style scoped>\n",
       "    .dataframe tbody tr th:only-of-type {\n",
       "        vertical-align: middle;\n",
       "    }\n",
       "\n",
       "    .dataframe tbody tr th {\n",
       "        vertical-align: top;\n",
       "    }\n",
       "\n",
       "    .dataframe thead th {\n",
       "        text-align: right;\n",
       "    }\n",
       "</style>\n",
       "<table border=\"1\" class=\"dataframe\">\n",
       "  <thead>\n",
       "    <tr style=\"text-align: right;\">\n",
       "      <th></th>\n",
       "      <th>name</th>\n",
       "      <th>type</th>\n",
       "    </tr>\n",
       "  </thead>\n",
       "  <tbody>\n",
       "    <tr>\n",
       "      <th>0</th>\n",
       "      <td>Central General Staff - Ex-FARC Mafia</td>\n",
       "      <td>group</td>\n",
       "    </tr>\n",
       "    <tr>\n",
       "      <th>1</th>\n",
       "      <td>Acacio Medina Front - Ex-FARC Mafia</td>\n",
       "      <td>group</td>\n",
       "    </tr>\n",
       "    <tr>\n",
       "      <th>2</th>\n",
       "      <td>Las Claritas Sindicato</td>\n",
       "      <td>group</td>\n",
       "    </tr>\n",
       "    <tr>\n",
       "      <th>3</th>\n",
       "      <td>Carlos Capa Gang</td>\n",
       "      <td>group</td>\n",
       "    </tr>\n",
       "    <tr>\n",
       "      <th>4</th>\n",
       "      <td>The R Organization</td>\n",
       "      <td>group</td>\n",
       "    </tr>\n",
       "    <tr>\n",
       "      <th>...</th>\n",
       "      <td>...</td>\n",
       "      <td>...</td>\n",
       "    </tr>\n",
       "    <tr>\n",
       "      <th>187</th>\n",
       "      <td>Diego Perez Henao, alias 'Diego Rastrojo'</td>\n",
       "      <td>individuals</td>\n",
       "    </tr>\n",
       "    <tr>\n",
       "      <th>188</th>\n",
       "      <td>Luis E. Calle Serna</td>\n",
       "      <td>individuals</td>\n",
       "    </tr>\n",
       "    <tr>\n",
       "      <th>189</th>\n",
       "      <td>Rastrojos</td>\n",
       "      <td>individuals</td>\n",
       "    </tr>\n",
       "    <tr>\n",
       "      <th>190</th>\n",
       "      <td>Javier Antonio Calle Serna, alias 'Comba'</td>\n",
       "      <td>individuals</td>\n",
       "    </tr>\n",
       "    <tr>\n",
       "      <th>191</th>\n",
       "      <td>Guillermo Leon Saenz Vargas, alias 'Alfonso Cano'</td>\n",
       "      <td>individuals</td>\n",
       "    </tr>\n",
       "  </tbody>\n",
       "</table>\n",
       "<p>192 rows × 2 columns</p>\n",
       "</div>"
      ],
      "text/plain": [
       "                                                  name         type\n",
       "0                Central General Staff - Ex-FARC Mafia        group\n",
       "1                  Acacio Medina Front - Ex-FARC Mafia        group\n",
       "2                               Las Claritas Sindicato        group\n",
       "3                                     Carlos Capa Gang        group\n",
       "4                                   The R Organization        group\n",
       "..                                                 ...          ...\n",
       "187          Diego Perez Henao, alias 'Diego Rastrojo'  individuals\n",
       "188                                Luis E. Calle Serna  individuals\n",
       "189                                          Rastrojos  individuals\n",
       "190          Javier Antonio Calle Serna, alias 'Comba'  individuals\n",
       "191  Guillermo Leon Saenz Vargas, alias 'Alfonso Cano'  individuals\n",
       "\n",
       "[192 rows x 2 columns]"
      ]
     },
     "execution_count": 10,
     "metadata": {},
     "output_type": "execute_result"
    }
   ],
   "source": [
    "df1 = pd.DataFrame(groups_list).rename(columns={0:'name'})\n",
    "df1['type'] = 'group'\n",
    "\n",
    "df2 = pd.DataFrame(individuals_list).rename(columns={0:'name'})\n",
    "df2['type'] = 'individuals'\n",
    "\n",
    "df = pd.concat([df1, df2], axis=0, ignore_index=True)\n",
    "df"
   ]
  },
  {
   "cell_type": "code",
   "execution_count": 11,
   "id": "367d4adc",
   "metadata": {},
   "outputs": [],
   "source": [
    "df.to_csv('List of criminal individuals and organizations.csv',index=False)"
   ]
  }
 ],
 "metadata": {
  "kernelspec": {
   "display_name": "Python 3 (ipykernel)",
   "language": "python",
   "name": "python3"
  },
  "language_info": {
   "codemirror_mode": {
    "name": "ipython",
    "version": 3
   },
   "file_extension": ".py",
   "mimetype": "text/x-python",
   "name": "python",
   "nbconvert_exporter": "python",
   "pygments_lexer": "ipython3",
   "version": "3.10.9"
  },
  "toc": {
   "base_numbering": 1,
   "nav_menu": {},
   "number_sections": true,
   "sideBar": true,
   "skip_h1_title": false,
   "title_cell": "Table of Contents",
   "title_sidebar": "Contents",
   "toc_cell": false,
   "toc_position": {},
   "toc_section_display": true,
   "toc_window_display": false
  }
 },
 "nbformat": 4,
 "nbformat_minor": 5
}
